{
 "cells": [
  {
   "cell_type": "markdown",
   "id": "263a8835",
   "metadata": {},
   "source": [
    "![1](ATLASOD.gif)"
   ]
  },
  {
   "cell_type": "markdown",
   "id": "bc9dcc76",
   "metadata": {},
   "source": [
    "## Antra pamoka\n",
    "\n",
    "Šioje pamokoje mes:\n",
    "* Tęsime ATLAS atvirų duomenų analizę su tikrais ir simuliuotais duomenimis\n",
    "* Atliksime duomenų glotninimą pratimą, kad išmatuoti Z bozono masę"
   ]
  },
  {
   "cell_type": "code",
   "execution_count": 3,
   "id": "a9c9fe44",
   "metadata": {},
   "outputs": [
    {
     "name": "stdout",
     "output_type": "stream",
     "text": [
      "Welcome to JupyROOT 6.26/06\n"
     ]
    }
   ],
   "source": [
    "import ROOT\n",
    "%jsroot on\n",
    "ROOT.gStyle.SetOptStat(0) # panaikina histogramos statistikos dėžę"
   ]
  },
  {
   "cell_type": "code",
   "execution_count": 4,
   "id": "0c0a7909",
   "metadata": {},
   "outputs": [],
   "source": [
    "# Šį kartą analizuosime tikrus duomenis!\n",
    "duom_failas = ROOT.TFile.Open(\"https://atlas-opendata.web.cern.ch/atlas-opendata/samples/2020/2lep/Data/data_A.2lep.root\")\n",
    "sim_failas = ROOT.TFile.Open(\"https://atlas-opendata.web.cern.ch/atlas-opendata/samples/2020/2lep/MC/mc_363356.ZqqZll.2lep.root\")"
   ]
  },
  {
   "cell_type": "code",
   "execution_count": 5,
   "id": "fda713db",
   "metadata": {},
   "outputs": [],
   "source": [
    "# Bandysime palyginti tikrus su simuliuotais duomenimis.\n",
    "# Kad veltui nekartoti to paties skaičiavimo, apibrėžkime funkciją\n",
    "def gauti_masės_histogramą(failas, pavadinimas, n_įvykių, intervalai=100, min_masė=5, max_masė=130):\n",
    "    print(f\"Skaitome {n_įvykių} įvykių iš failo {failas.GetName()}\")\n",
    "    medis = failas.Get(\"mini\")\n",
    "    \n",
    "    masės_histograma = ROOT.TH1D(pavadinimas, \n",
    "                                 \"; leptonų sistemos masė [GeV]; įvykių skaičius\",\n",
    "                                 intervalai, min_masė, max_masė)\n",
    "\n",
    "    # Pastorinkime histogramą kad aiškiau matytųsi grafike\n",
    "    masės_histograma.SetLineWidth(2)\n",
    "\n",
    "    pirmas_leptonas = ROOT.TLorentzVector()\n",
    "    antras_leptonas = ROOT.TLorentzVector()\n",
    "\n",
    "    n = 0\n",
    "    # Panašiai, kaip ir pirmoje pamokoje\n",
    "    for įvykis in medis:\n",
    "        if įvykis.lep_n < 2:\n",
    "            continue\n",
    "\n",
    "        # Leptonų krūviai privalo būti skirtingi\n",
    "        if (abs(įvykis.lep_type[0]) == 13 and abs(įvykis.lep_type[1]) == 13):\n",
    "\n",
    "            pirmo_pt = įvykis.lep_pt[0]/1000.\n",
    "            antro_pt = įvykis.lep_pt[1]/1000.\n",
    "            pirmo_E = įvykis.lep_E[0]/1000.\n",
    "            antro_E = įvykis.lep_E[1]/1000.\n",
    "            pirmo_phi = įvykis.lep_phi[0]\n",
    "            antro_phi = įvykis.lep_phi[1]\n",
    "            pirmo_eta = įvykis.lep_eta[0]\n",
    "            antro_eta = įvykis.lep_eta[1]\n",
    "\n",
    "            pirmas_leptonas.SetPtEtaPhiE(pirmo_pt, pirmo_eta, pirmo_phi, pirmo_E)\n",
    "            antras_leptonas.SetPtEtaPhiE(antro_pt, antro_eta, antro_phi, antro_E)\n",
    "\n",
    "            sistema = pirmas_leptonas + antras_leptonas\n",
    "            masė = sistema.M()\n",
    "\n",
    "            masės_histograma.Fill(masė)\n",
    "            n += 1\n",
    "            if n == n_įvykių:\n",
    "                break\n",
    "\n",
    "    # Grąžiname histogramą naudotojui\n",
    "    return masės_histograma"
   ]
  },
  {
   "cell_type": "code",
   "execution_count": 6,
   "id": "5d5c2ba3",
   "metadata": {},
   "outputs": [
    {
     "name": "stdout",
     "output_type": "stream",
     "text": [
      "Skaitome 100000 iš failo https://atlas-opendata.web.cern.ch/atlas-opendata/samples/2020/2lep/Data/data_A.2lep.root\n",
      "Skaitome 100000 iš failo https://atlas-opendata.web.cern.ch/atlas-opendata/samples/2020/2lep/MC/mc_363356.ZqqZll.2lep.root\n"
     ]
    }
   ],
   "source": [
    "# Norime dviejų histogramų, vienos duomenims ir kitos simuliacijai.\n",
    "# Simuliacija naudojama jog įsitikintume, kad duomenyse matome tinkamą procesą ir kad detektorius veikia kaip mes tikimės\n",
    "# Panaudokime savo sukurtą funkciją du kartus\n",
    "duom_histograma = gauti_masės_histogramą(duom_failas, \"duomenys\", 100000)\n",
    "sim_histograma = gauti_masės_histogramą(sim_failas, \"simuliacija\", 100000)"
   ]
  },
  {
   "cell_type": "code",
   "execution_count": null,
   "id": "171d2b00",
   "metadata": {},
   "outputs": [],
   "source": [
    "drobė = ROOT.TCanvas()\n",
    "# Drobė savaime būna tuščia, taigi nupiešiame ir histogramą\n",
    "drobė.Draw()\n",
    "duom_histograma.SetLineColor(ROOT.kBlack)\n",
    "duom_histograma.SetMarkerColor(ROOT.kBlack)\n",
    "duom_histograma.Draw(\"PE\") \n",
    "# PE = point + error = taškai su paklaidomis\n",
    "sim_histograma.Draw(\"SAME\")"
   ]
  },
  {
   "cell_type": "code",
   "execution_count": null,
   "id": "98909222",
   "metadata": {},
   "outputs": [],
   "source": [
    "# Nupieškime šį patį grafiką su logaritmine y ašimi\n",
    "drobė_log = ROOT.TCanvas()\n",
    "drobė_log.SetLogy()\n",
    "duom_histograma.Draw(\"PE\") \n",
    "sim_histograma.Draw(\"SAME\")\n",
    "drobė_log.Draw(\"\")"
   ]
  },
  {
   "cell_type": "markdown",
   "id": "accbf3a6",
   "metadata": {},
   "source": [
    "Matome, kad simuliacija gana gerai atitinka tikrus duomenis, taigi galime būti tikri kad matome Z bozoną!  \n",
    "Vienas simuliacijos mėginys visada modeliuoja tam tikrą Feinmano diagramą, šiuo atveju $Z\\to \\mu\\mu$  .\n",
    "\n",
    "\n",
    "Ar pastebėjote antrą rezonansą 9 GeV aplinkoje. Kadangi tai nematoma simuliacijoje, tai tikrai yra kitas visiškai nesusijęs fizikinis procesas. Kokios dalelės rezonansas tai galėtų būti?  "
   ]
  },
  {
   "cell_type": "code",
   "execution_count": null,
   "id": "a72eca6d",
   "metadata": {},
   "outputs": [],
   "source": [
    "histograma = gauti_masės_histogramą(duom_failas, \"duomenys\", 10000, intervalai=50, min_masė=70, max_masė=110)"
   ]
  },
  {
   "cell_type": "code",
   "execution_count": null,
   "id": "99516f99",
   "metadata": {},
   "outputs": [],
   "source": [
    "glotninimo_drobė = ROOT.TCanvas()\n",
    "glotninimo_drobė.Draw()\n",
    "gausas = ROOT.TF1(\"gausas\", \"gaus\")\n",
    "# Pakeiskime parametrų pavadinimus:\n",
    "gausas.SetParNames(\"Amplitudė\",\"Vidurkis\",\"Standartinis nuokrypis\")\n",
    "\n",
    "histograma.Fit(\"gausas\")\n",
    "\n",
    "# Sakykime, kad norime sukurti savo pačių funkciją aprašyti rezonansą. \n",
    "# Paprastas pavyzdys: pridėkime tiesinę funkciją ir konstantą prie Gauso skirstinio\n",
    "funkcija = ROOT.TF1(\"funkcija\", \"gausas + [0] + [1]*x\")\n",
    "funkcija.SetParName(0, \"Konstanta\")\n",
    "funkcija.SetParName(1, \"Tiesės koeficientas\")\n",
    "funkcija.SetLineColor(ROOT.kOrange)\n",
    "\n",
    "# Kad patikrinti funkciją\n",
    "print(\"Naudojama glotninimo funkcija:\", funkcija.GetFormula().GetExpFormula())\n",
    "\n",
    "\n",
    "histograma.Fit(\"funkcija\", \"+\") # + reikalingas kad neištrinti praeitos funkcijos \n",
    "\n",
    "centras = gausas.GetParameter(1)\n",
    "gausas.SetLineColor(ROOT.kRed)\n",
    "\n",
    "#histograma.Draw(\"PE\")\n",
    "#funkcija.Draw(\"SAME\")\n",
    "#gausas.Draw(\"SAME\")\n",
    "\n",
    "# Sukurkime grafiko legendą\n",
    "legenda = ROOT.TLegend(0.7, 0.7, 0.9, 0.9)\n",
    "legenda.AddEntry(histograma, \"Duomenys\")\n",
    "legenda.AddEntry(gausas, \"Gausas\")\n",
    "legenda.AddEntry(funkcija, \"Gausas + tiesė\")\n",
    "legenda.Draw(\"\")\n",
    "\n",
    "# Užrašykime gautą rezultatą ant drobės\n",
    "tekstas_nma = ROOT.TText(0.15, 0.8, \"NMA ATLAS Atvirų duomenų analizė\")\n",
    "tekstas_nma.SetTextSize(13)\n",
    "tekstas_nma.SetNDC()\n",
    "tekstas_nma.Draw()\n",
    "\n",
    "tekstas_glautninimas = ROOT.TText(0.15, 0.6, f\"rasta Z bozono masė: {centras:.2f} GeV\")\n",
    "tekstas_glautninimas.SetTextSize(13)\n",
    "tekstas_glautninimas.SetNDC()\n",
    "tekstas_glautninimas.Draw()"
   ]
  },
  {
   "cell_type": "markdown",
   "id": "cddcd167",
   "metadata": {},
   "source": [
    "Duomenų glotninimas labai dažnai naudojamas dalelių fizikos statistinė analizėje aprašant dalelių rezonansus ir ne tik. Daugiau informacijos ROOT puslapyje apie glotninimus: https://root.cern/manual/fitting/ (žiūrėti python o ne C++ instrukcijas bei pavyzdžius)  \n",
    "__Užduotys__:\n",
    "\n",
    "* Paieškokite internete kokia išmatuota Z bozono masė. Kodėl mūsų gautas rezultatas galėtų skirtis?\n",
    "* Realistiškiau dalelių rezonansus aprašo ne Gauso skirstinys, bet Breito-Wignerio formulė (paveikslas apačioje). Aprašykite šią funkciją, panašiai kaip padarėme su Gausu + tiese (oranžinis grafikas) ir atlikite glotninimą. Ar rezultatas atrodo geriau?\n",
    "[<img src=\"Breit-Wigner.png\" width=\"300\"/>](Breit-Wigner.png)\n",
    "* Apskaičiuokite glotninimo būdu ne tik rezonanso centrą, bet ir jo storį, $\\Gamma$. Apskaičiuokite dalelės gyvavimo trukmę (pusamžį) pasinaudodami formule $\\tau=\\hbar/\\Gamma$. Galite pasinaudoti $\\hbar = 6.6 \\times 10^{-16} \\mathrm{eVs}$. Palyginkite savo gautą rezultatą su oficialiai išmatuotu. (Komentaras: Z bozonas gali skilti ir į kitas daleles, kad tiksliai apskaičiuoti pilną pusamžį iš tikrųjų reiktų išmatuoti visus skilimo kanalus, tačiau čia tuo neapsiimsime). \n",
    "* Pakartokite glautninimą pakeisdami histogramos intervalų skaičių (į pvz. 10, 1000) ir ribas. Ką pastebėjote?\n",
    "* Pakartokite užduotį pasirinkdami elektronų poras vietoj miuonų. Ar glotninimo rezultatai palyginami?\n",
    "\n"
   ]
  },
  {
   "cell_type": "markdown",
   "id": "cb9ce63b",
   "metadata": {},
   "source": [
    "Žemiau esančioje celėje sukuriame naują masės histogramą kur $M<15\\,\\mathrm{GeV}$.  "
   ]
  },
  {
   "cell_type": "code",
   "execution_count": null,
   "id": "a7cc97fe",
   "metadata": {},
   "outputs": [],
   "source": [
    "# Įskaitome visus esančius duomenis (-1)\n",
    "upsilon_histograma = gauti_masės_histogramą(duom_failas, \"upsilon\", -1, intervalai=100, min_masė=7, max_masė=12)\n",
    "drobė_upsilon = ROOT.TCanvas()\n",
    "drobė_upsilon.Draw(\"\")\n",
    "upsilon_histograma.Draw(\"PE\") "
   ]
  },
  {
   "cell_type": "markdown",
   "id": "35d0cb8f",
   "metadata": {},
   "source": [
    "Iš tikrųjų, matome dvi skirtingas persiklojančias būsenas: $\\Upsilon(1S)$ ir sužadintą $\\Upsilon(2S)$, kas apsunkina padėtį.\n",
    "\n",
    "__Papildoma užduotis__:  Pabandykite glotninimo būdu surasti $\\Upsilon$ rezonansų masę.  \n",
    "\n",
    "\n",
    "\n",
    "_Patarimas:_ Kad sukurti naują funkciją, sudarytą iš dviejų skirtingų normalių skirstinių, galima padaryti taip:\n",
    "```\n",
    "f1 = ROOT.TF1(\"f1\",\"gaus\")\n",
    "f2 = ROOT.TF1(\"f2\",\"gaus\")\n",
    "f = ROOT.TF1(\"suma\", \"f1+f2\")\n",
    "```"
   ]
  },
  {
   "cell_type": "code",
   "execution_count": null,
   "id": "8dd9582c",
   "metadata": {},
   "outputs": [],
   "source": []
  }
 ],
 "metadata": {
  "kernelspec": {
   "display_name": "Python 3 (ipykernel)",
   "language": "python",
   "name": "python3"
  },
  "language_info": {
   "codemirror_mode": {
    "name": "ipython",
    "version": 3
   },
   "file_extension": ".py",
   "mimetype": "text/x-python",
   "name": "python",
   "nbconvert_exporter": "python",
   "pygments_lexer": "ipython3",
   "version": "3.10.5"
  }
 },
 "nbformat": 4,
 "nbformat_minor": 5
}
