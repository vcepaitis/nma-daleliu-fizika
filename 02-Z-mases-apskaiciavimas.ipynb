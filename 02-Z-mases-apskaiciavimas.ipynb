{
 "cells": [
  {
   "cell_type": "markdown",
   "id": "263a8835",
   "metadata": {},
   "source": [
    "![1](ATLASOD.gif)"
   ]
  },
  {
   "cell_type": "markdown",
   "id": "bc9dcc76",
   "metadata": {},
   "source": [
    "## Antra pamoka\n",
    "\n",
    "Šioje pamokoje mes:\n",
    "* Tęsime ATLAS atvirų duomenų analizę\n",
    "* Palyginsime simuliaciją su tikrais protonų susidūrimų duomenimis\n",
    "* Atliksime duomenų glotninimo pratimą, kad išmatuoti Z bozono masę ir pusamžį"
   ]
  },
  {
   "cell_type": "markdown",
   "id": "ca5bb5ce",
   "metadata": {},
   "source": [
    "## Kodėl reikia simuliacijos?\n",
    "Dalelių fizikoje dažnai duomenys lyginami su simuliacija. Tai daroma tam, kad įsitikinti ar gerai suprantame detektorių ir kad tikrai stebime tam tikrą fizikinį procesą. Simuliacija yra neišvengiama ir atliekant naujų fizikinių procesų paiešką, bandant įsivaizduoti, kokį pėdsaką detektoriuje paliktų naujos (hipotetinės) dalelės."
   ]
  },
  {
   "cell_type": "code",
   "execution_count": null,
   "id": "a9c9fe44",
   "metadata": {},
   "outputs": [],
   "source": [
    "import ROOT\n",
    "%jsroot on\n",
    "ROOT.gStyle.SetOptStat(0) # panaikina histogramos statistikos dėžę\n",
    "from PlotStyle import setStyle # ATLAS grafikų stiliaus failas\n",
    "setStyle()"
   ]
  },
  {
   "cell_type": "code",
   "execution_count": null,
   "id": "0c0a7909",
   "metadata": {},
   "outputs": [],
   "source": [
    "# Šį kartą analizuosime ir palyginsime tikrus duomenis su simuliacija! \n",
    "# Tam atidaromi du failai\n",
    "duom_failas = ROOT.TFile.Open(\"https://atlas-opendata.web.cern.ch/atlas-opendata/samples/2020/2lep/Data/data_A.2lep.root\")\n",
    "sim_failas = ROOT.TFile.Open(\"https://atlas-opendata.web.cern.ch/atlas-opendata/samples/2020/2lep/MC/mc_363356.ZqqZll.2lep.root\")"
   ]
  },
  {
   "cell_type": "code",
   "execution_count": null,
   "id": "fda713db",
   "metadata": {},
   "outputs": [],
   "source": [
    "# Kad nekartoti to paties skaičiavimo abiems failams, įvedame funkciją\n",
    "def gauti_masės_histogramą(failas, pavadinimas, n_įvykių, \n",
    "                           intervalai=100, min_masė=5, max_masė=130):\n",
    "    print(f\"Skaitome {n_įvykių} įvykių iš failo {failas.GetName()}\")\n",
    "    medis = failas.Get(\"mini\")\n",
    "    \n",
    "    masės_histograma = ROOT.TH1D(pavadinimas, \n",
    "                                 \"; leptonų sistemos masė [GeV]; įvykių skaičius\",\n",
    "                                 intervalai, min_masė, max_masė)\n",
    "\n",
    "    # Pastorinkime histogramą kad aiškiau matytųsi grafike\n",
    "    masės_histograma.SetLineWidth(2)\n",
    "\n",
    "    # Kaip ir pirmojo pamokoje, apskaičiuojame masę\n",
    "    pirmas_leptonas = ROOT.TLorentzVector()\n",
    "    antras_leptonas = ROOT.TLorentzVector()\n",
    "\n",
    "    n = 0\n",
    "    for įvykis in medis:\n",
    "        if įvykis.lep_n < 2:\n",
    "            continue\n",
    "\n",
    "        # Leptonų krūviai privalo būti skirtingi\n",
    "        if (įvykis.lep_charge[0] == įvykis.lep_charge[1]):\n",
    "            continue \n",
    "\n",
    "        # Analizuojame tik Z->mumu kanalą\n",
    "        if (abs(įvykis.lep_type[0]) == 13 and abs(įvykis.lep_type[1]) == 13):\n",
    "\n",
    "            pirmo_pt = įvykis.lep_pt[0]/1000.\n",
    "            antro_pt = įvykis.lep_pt[1]/1000.\n",
    "            pirmo_E = įvykis.lep_E[0]/1000.\n",
    "            antro_E = įvykis.lep_E[1]/1000.\n",
    "            pirmo_phi = įvykis.lep_phi[0]\n",
    "            antro_phi = įvykis.lep_phi[1]\n",
    "            pirmo_eta = įvykis.lep_eta[0]\n",
    "            antro_eta = įvykis.lep_eta[1]\n",
    "\n",
    "            pirmas_leptonas.SetPtEtaPhiE(pirmo_pt, pirmo_eta, pirmo_phi, pirmo_E)\n",
    "            antras_leptonas.SetPtEtaPhiE(antro_pt, antro_eta, antro_phi, antro_E)\n",
    "\n",
    "            sistema = pirmas_leptonas + antras_leptonas\n",
    "            masė = sistema.M()\n",
    "\n",
    "            masės_histograma.Fill(masė)\n",
    "            n += 1\n",
    "            if n == n_įvykių:\n",
    "                break\n",
    "\n",
    "    # Grąžiname histogramą naudotojui\n",
    "    return masės_histograma"
   ]
  },
  {
   "cell_type": "code",
   "execution_count": null,
   "id": "5d5c2ba3",
   "metadata": {},
   "outputs": [],
   "source": [
    "# Norime dviejų histogramų, vienos tikriems duomenims ir kitos simuliuotiems.\n",
    "n_įvykių = 100000\n",
    "\n",
    "# Pasinaudojame funkcija, kad nesikartoti\n",
    "duom_histograma = gauti_masės_histogramą(duom_failas, \"duomenys\", n_įvykių)\n",
    "sim_histograma = gauti_masės_histogramą(sim_failas, \"simuliacija\", n_įvykių)\n",
    "\n",
    "# Pastaba: jeigu per lėtai kraunami failai, sumažinkite įvykių skaičių"
   ]
  },
  {
   "cell_type": "code",
   "execution_count": null,
   "id": "171d2b00",
   "metadata": {},
   "outputs": [],
   "source": [
    "drobė = ROOT.TCanvas()\n",
    "drobė.Draw()\n",
    "\n",
    "# Sekanti eilutė sutalpina abi histogramas į tą patį grafiką\n",
    "duom_histograma.SetMaximum(1.3*max(duom_histograma.GetMaximum(), \n",
    "                              sim_histograma.GetMaximum()))\n",
    "\n",
    "# Pakeičiame histogramos savybes gražesniam grafikui\n",
    "duom_histograma.SetLineColor(ROOT.kBlack)\n",
    "duom_histograma.SetMarkerStyle(20)\n",
    "duom_histograma.SetMarkerSize(0.6)\n",
    "duom_histograma.SetMarkerColor(ROOT.kBlack)\n",
    "sim_histograma.SetLineColor(ROOT.kBlue)\n",
    "\n",
    "# Piešiame duomenų histogramą\n",
    "duom_histograma.Draw(\"PE\") \n",
    "\n",
    "# Piešiame simuliacijos histogramą\n",
    "# PE = point + error = taškai su paklaidomis\n",
    "sim_histograma.Draw(\"SAME\")\n",
    "\n",
    "# Sukuriame legendą\n",
    "legenda = ROOT.TLegend(0.2, 0.65, 0.5, 0.8)\n",
    "\n",
    "# Pridedame abu grafikus į legendą\n",
    "legenda.AddEntry(duom_histograma, \"duomenys\", \"P\")\n",
    "legenda.AddEntry(sim_histograma, \"simulacija\", \"L\")\n",
    "\n",
    "# Piešiame legendą\n",
    "legenda.Draw()"
   ]
  },
  {
   "cell_type": "markdown",
   "id": "81dec944",
   "metadata": {},
   "source": [
    "Iš pirmo žvilgsnio, histogramos gerai sutampa. Kadangi turime stiprų rezonansą, sunku pastebėti kas vyksta už jo ribų. Dėl to verta nubrėžti tą patį grafiką su logaritmine ašimi"
   ]
  },
  {
   "cell_type": "code",
   "execution_count": null,
   "id": "98909222",
   "metadata": {},
   "outputs": [],
   "source": [
    "# Nupieškime šį patį grafiką su logaritmine y ašimi\n",
    "drobė_log = ROOT.TCanvas()\n",
    "drobė_log.SetLogy()\n",
    "duom_histograma.Draw(\"PE\") \n",
    "sim_histograma.Draw(\"SAME\")\n",
    "drobė_log.Draw(\"\")\n",
    "legenda.Draw()"
   ]
  },
  {
   "cell_type": "markdown",
   "id": "accbf3a6",
   "metadata": {},
   "source": [
    "## Grafiko interpretacija\n",
    "\n",
    "Matome, kad simuliuotas spektras gana gerai atitinka tikrus duomenis, taigi galime būti tikri, kad protonų susidūrimų duomenyse egzistuoja Z bozono rezonansas! \n",
    "\n",
    "Mūsų naudota simuliacija modeliuoja tik tam tikrą procesą (rezonansą), šiuo atveju $Z\\to \\mu\\mu$. Ar pastebėjote antrą rezonansą 9 GeV aplinkoje, kurio neaprašo simuliuoti duomenys? Šis rezonansas yra sudarytas iš kažkokios dalelės-antidalelės poros.\n",
    "\n",
    "_Klausimas:_ Iš kokių __fundamentalių__ dalelių galėtų būti sudarytas šis rezonansas?"
   ]
  },
  {
   "attachments": {
    "Standard_deviation_diagram.png": {
     "image/png": "[encoded data removed]"
    }
   },
   "cell_type": "markdown",
   "id": "ed9651c2",
   "metadata": {},
   "source": [
    "## Duomenų glotninimas\n",
    "\n",
    "Bandysime iš histogramos išgauti Z bozono masę glotninimo pagalba. Duomenų glotninimas (angl. _fitting_) - bandymas surasti duotos funkcijos parametrus, kurie geriausiai atspindi matomus duomenis. Funkcinę formą turime pasirinkti patys. Iš pradžių pabandysime Gauso (normalųjį) skirstinį, kuris labai dažnai taikomas praktikoje ir atitinka daugybę žinomų reiškinių gamtoje. Skirstinys apibūdinamas vidurkiu, $\\mu$ ir standartiniu nuokrypiu, $\\sigma$. Kadangi histograma nėra normalizuota (rodomas absoliutus Z bozonų įvykių skaičius, o ne tikimybė), dar prireiks ir amplitudės.\n",
    "![Standard_deviation_diagram.png](attachment:Standard_deviation_diagram.png)"
   ]
  },
  {
   "cell_type": "code",
   "execution_count": null,
   "id": "a72eca6d",
   "metadata": {},
   "outputs": [],
   "source": [
    "# Toliau dirbame tik su tikrais (o ne simuliuotais) susidūrimų duomenimis\n",
    "histograma = gauti_masės_histogramą(duom_failas, \"duomenys\", 100000, intervalai=50, min_masė=70, max_masė=110)"
   ]
  },
  {
   "cell_type": "code",
   "execution_count": null,
   "id": "99516f99",
   "metadata": {},
   "outputs": [],
   "source": [
    "glotninimo_drobė = ROOT.TCanvas()\n",
    "glotninimo_drobė.Draw()\n",
    "\n",
    "# Sukuriame fukciją (F) vienoje (1) dimensijoje su pavadinimu \"gausas\"\n",
    "# Ši funkcija bus naudojama glotninimui\n",
    "funkcija = ROOT.TF1(\"gausas\", \"gaus\")\n",
    "\n",
    "# Pakeiskime parametrų pavadinimus:\n",
    "funkcija.SetParNames(\"Amplitudė\", \"Vidurkis\", \"Standartinis nuokrypis\")\n",
    "print(\"Naudojama glotninimo funkcija:\", funkcija.GetFormula().GetExpFormula())\n",
    "print()\n",
    "\n",
    "# Grafiko pagražinimai\n",
    "histograma.GetXaxis().SetTitleSize(0.05)\n",
    "histograma.GetYaxis().SetTitleSize(0.05)\n",
    "histograma.GetXaxis().SetTitleOffset(1.5)\n",
    "histograma.GetYaxis().SetTitleOffset(1.5)\n",
    "\n",
    "\n",
    "# Kad glotninimas vyktų sklandžiau, verta \"spėti\" pradinius funkcijos parametrus\n",
    "funkcija.SetParameter(0, 10000) # amplitudė\n",
    "funkcija.SetParameter(1, 90) # vidurkis\n",
    "funkcija.SetParameter(2, 10) # sandartinis nuokrypis\n",
    "funkcija.SetLineColor(ROOT.kRed)\n",
    "\n",
    "# Atliekame funkcijos glotninimą prie duomenų\n",
    "histograma.Fit(\"gausas\", \"E\", \"ESAME\")\n",
    "\n",
    "# Pabandykime pakeisti funkciją aprašyti rezonansą\n",
    "# Pridėkime tiesinę funkciją ir konstantą prie Gauso skirstinio\n",
    "funkcija2 = ROOT.TF1(\"funkcija\", \"gausas + [0] + [1]*x\")\n",
    "funkcija2.SetParName(0, \"Konstanta\")\n",
    "funkcija2.SetParName(1, \"Tiesės koeficientas\")\n",
    "funkcija2.SetLineColor(ROOT.kOrange)\n",
    "print(\"Naudojama antra glotninimo funkcija:\", funkcija2.GetFormula().GetExpFormula())\n",
    "print()\n",
    "\n",
    "histograma.Fit(\"funkcija\", \"E+\", \"ESAME\") # pliusas reikalingas kad neištrinti praeitos funkcijos \n",
    "\n",
    "# Sukurkime grafiko legendą\n",
    "legenda = ROOT.TLegend(0.7, 0.7, 0.9, 0.9)\n",
    "legenda.AddEntry(histograma, \"Duomenys\", \"P\")\n",
    "legenda.AddEntry(funkcija, \"Gausas\", \"L\")\n",
    "legenda.AddEntry(funkcija2, \"Gausas + tiesė\", \"L\")\n",
    "legenda.Draw(\"\")\n",
    "\n",
    "# Užrašykime gautą rezultatą ant drobės\n",
    "tekstas_nma = ROOT.TText(0.18, 0.8, \"NMA ATLAS Atvirų duomenų analizė\")\n",
    "tekstas_nma.SetTextSize(13)\n",
    "tekstas_nma.SetNDC()\n",
    "tekstas_nma.Draw()\n",
    "\n",
    "vidurkis = funkcija2.GetParameter(\"Vidurkis\")\n",
    "tekstas_glautninimas = ROOT.TText(0.18, 0.6, f\"rasta Z bozono masė: {vidurkis:.2f} GeV\")\n",
    "tekstas_glautninimas.SetTextSize(13)\n",
    "tekstas_glautninimas.SetNDC()\n",
    "tekstas_glautninimas.Draw()"
   ]
  },
  {
   "cell_type": "markdown",
   "id": "cddcd167",
   "metadata": {},
   "source": [
    "Matome, kad Gauso skirstinys visai neprastai atspindi Z bozono rezonansinį masės spektrą.\n",
    "\n",
    "## Užduotys ir klausimai:\n",
    "\n",
    "Duomenų glotninimas labai dažnai naudojamas dalelių fizikos statistinė analizėje aprašant dalelių rezonansus.\n",
    "\n",
    "* Paieškokite internete, kokia išmatuota Z bozono masė. Kodėl mūsų gautas rezultatas galėtų skirtis?\n",
    "* Apskaičiuokite glotninimo būdu ne tik rezonanso centrą, bet ir jo storį, $\\Gamma$. Apskaičiuokite dalelės gyvavimo trukmę (pusamžį) pasinaudodami formule $\\tau=\\hbar/\\Gamma$. Galite pasinaudoti $\\hbar = 6.6 \\times 10^{-16}~~\\mathrm{eVs}$. Palyginkite savo gautą rezultatą su oficialiai išmatuotu. (Komentaras: Z bozonas gali skilti ir į kitas daleles, kad tiksliai apskaičiuoti pilną pusamžį iš tikrųjų reiktų išmatuoti visus skilimo kanalus, tačiau čia tuo neapsiimsime). Kokį atstumą nukeliautų Z bozonas LHC eksperimente prieš susiskildamas?\n",
    "* Pakartokite užduotį pasirinkdami elektronų poras vietoj miuonų. Ar glotninimo rezultatai palyginami? Ar to ir tikėjotės?\n",
    "* Realistiškiau dalelių rezonansus aprašo ne Gauso skirstinys, bet Breito-Wignerio formulė $y = \\frac{A}{(x^2-M^2)^2+M^2\\Gamma^2}$. Aprašykite šią funkciją patys ir atlikite glotninimą. Ar gauti rezultatai atrodo geriau?  \n",
    "\n",
    "[<img src=\"Breit-Wigner.png\" width=\"300\"/>](Breit-Wigner.png)  \n",
    "\n",
    "\n",
    "Daugiau informacijos ROOT puslapyje apie glotninimus: https://root.cern/manual/fitting/ (žiūrėti python instrukcijas)"
   ]
  },
  {
   "cell_type": "code",
   "execution_count": null,
   "id": "dc5eec6f",
   "metadata": {},
   "outputs": [],
   "source": [
    "# Išgaukite rezonanso storį\n",
    "Gamma = ... # vienetai: GeV\n",
    "\n",
    "# ir apskaičiuokite pusamžį bet nukeliautą atstumą\n",
    "hbar = 6.6e-16 # vienetai: eVs\n",
    "tau = hbar/Gamma\n",
    "atstumas = ..."
   ]
  },
  {
   "cell_type": "markdown",
   "id": "cb9ce63b",
   "metadata": {},
   "source": [
    "## Papildomo rezonanso analizė (esant laikui/savarankiškai)\n",
    "\n",
    "Žemiau esančioje celėje sukuriame žemos masės intervalo histogramą, kur $M<15\\,\\mathrm{GeV}$. Iš tikrųjų, čia matome net tris skirtingas persiklojančias būsenas: $\\Upsilon(1S)$ ir sužadintas $\\Upsilon(2S)$ ir $\\Upsilon(3S)$, kas apsunkina glotninimą.\n",
    "\n",
    "__Pabandykite glotninimo būdu surasti visų trijų $\\Upsilon$ rezonansų masę.__\n",
    "\n",
    "_Patarimas:_ Kad sukurti naują funkciją, sudarytą iš dviejų skirtingų normalių skirstinių, galima padaryti taip:\n",
    "```\n",
    "f1 = ROOT.TF1(\"f1\", \"gaus\")\n",
    "f2 = ROOT.TF1(\"f2\", \"gaus\")\n",
    "f = ROOT.TF1(\"suma\", \"f1+f2\")\n",
    "```\n",
    "\n",
    "_Patarimas:_ Glotninimas vyks sklandžiau, jeigu išmintingai nurodysite pirmines funkcijos parametrų vertes"
   ]
  },
  {
   "cell_type": "code",
   "execution_count": null,
   "id": "a7cc97fe",
   "metadata": {},
   "outputs": [],
   "source": [
    "# Įskaitome visus esančius duomenis (-1)\n",
    "upsilon_histograma = gauti_masės_histogramą(duom_failas, \"upsilon\", -1, intervalai=100, min_masė=7, max_masė=12)\n",
    "drobė_upsilon = ROOT.TCanvas()\n",
    "drobė_upsilon.Draw(\"\")\n",
    "upsilon_histograma.Draw(\"PE\") "
   ]
  }
 ],
 "metadata": {
  "kernelspec": {
   "display_name": "Python 3 (ipykernel)",
   "language": "python",
   "name": "python3"
  },
  "language_info": {
   "codemirror_mode": {
    "name": "ipython",
    "version": 3
   },
   "file_extension": ".py",
   "mimetype": "text/x-python",
   "name": "python",
   "nbconvert_exporter": "python",
   "pygments_lexer": "ipython3",
   "version": "3.10.5"
  }
 },
 "nbformat": 4,
 "nbformat_minor": 5
}
