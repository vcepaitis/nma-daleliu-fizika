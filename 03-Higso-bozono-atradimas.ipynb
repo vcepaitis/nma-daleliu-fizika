{
 "cells": [
  {
   "cell_type": "markdown",
   "id": "cdfc8ee9",
   "metadata": {},
   "source": [
    "![1](ATLASOD.gif)"
   ]
  },
  {
   "cell_type": "markdown",
   "id": "896e101c",
   "metadata": {},
   "source": [
    "## Trečia pamoka\n",
    "\n",
    "Šioje pamokoje mes:\n",
    "* Iš naujo atrasime Higso bozoną!"
   ]
  },
  {
   "cell_type": "code",
   "execution_count": 1,
   "id": "8f496dbd",
   "metadata": {
    "scrolled": true
   },
   "outputs": [
    {
     "name": "stdout",
     "output_type": "stream",
     "text": [
      "Welcome to JupyROOT 6.26/06\n"
     ]
    }
   ],
   "source": [
    "import ROOT\n",
    "from tqdm import tqdm\n",
    "from PlotStyle import setStyle\n",
    "setStyle()\n",
    "%jsroot on\n",
    "ROOT.gStyle.SetOptStat(0)"
   ]
  },
  {
   "cell_type": "code",
   "execution_count": null,
   "id": "89769097",
   "metadata": {},
   "outputs": [],
   "source": [
    "# Duomenų failai su dviem fotonais\n",
    "# Šį kartą panaudosime TChain klasę, kuri leidžia įskaityti daugiau negu vieną failą\n",
    "# Veikia labai panašiai į TFile/TTree\n",
    "# Komentaras: paruošti failai jau turi (bent) du fotonus su pT > 35(25) GeV\n",
    "\n",
    "medis = ROOT.TChain(\"mini\")\n",
    "nuoroda = \"https://atlas-opendata.web.cern.ch/atlas-opendata/samples/2020/GamGam/Data/\"\n",
    "nuoroda = \"\"\n",
    "medis.AddFile(nuoroda+\"data_A.GamGam.root\")\n",
    "medis.AddFile(nuoroda+\"data_B.GamGam.root\")\n",
    "medis.AddFile(nuoroda+\"data_C.GamGam.root\")\n",
    "medis.AddFile(nuoroda+\"data_D.GamGam.root\")\n",
    "\n",
    "#Priminimas: rasti fotonų duomenų šakas galima taip:\n",
    "medis.Print()\n",
    "print(f\"Iš viso analizuojame {medis.GetEntries()} įvykių\")"
   ]
  },
  {
   "cell_type": "code",
   "execution_count": null,
   "id": "d0835a06",
   "metadata": {},
   "outputs": [],
   "source": [
    "# Pasitelkiant praeitų dviejų pamokų turiniu, parašykime funkciją kuri nuskaito failą\n",
    "# ir vietoj dviejų *leptonų* išrenka du *fotonus*\n",
    "def fotonas_praeina_reikalavimus(įvykis, indeksas):\n",
    "    if (įvykis.photon_isTightID[indeksas]) and \\\n",
    "    (abs(įvykis.photon_eta[indeksas]) < 1.37 or abs(įvykis.photon_eta[indeksas]) > 1.57) and \\\n",
    "    (įvykis.photon_ptcone30[indeksas]/ įvykis.photon_pt[indeksas] < 0.065) and \\\n",
    "    (įvykis.photon_etcone20[indeksas]/įvykis.photon_pt[indeksas] < 0.065):\n",
    "        return True\n",
    "    else:\n",
    "        return False\n",
    "    \n",
    "def gauti_masės_histogramą(medis, n_įvykių,\n",
    "                           intervalai=30, min_masė=100, max_masė=160):   \n",
    "    masės_histograma = ROOT.TH1D(\"duomenys\", \n",
    "                                 \"; m_{#gamma#gamma} [GeV];\",\n",
    "                                 intervalai, min_masė, max_masė)\n",
    "\n",
    "    # Pastorinkime histogramą kad aiškiau matytųsi grafike\n",
    "    masės_histograma.SetLineWidth(2)\n",
    "    masės_histograma.SetLineColor(ROOT.kBlack)\n",
    "    masės_histograma.SetMinimum(10)\n",
    "    masės_histograma.GetXaxis().SetTitle(\"m_{#gamma#gamma} [GeV]\")\n",
    "    masės_histograma.GetYaxis().SetTitle(\"Įvykiai / 2 GeV\")\n",
    "    pirmas_fotonas = ROOT.TLorentzVector()\n",
    "    antras_fotonas = ROOT.TLorentzVector()\n",
    "\n",
    "    n_max = min(medis.GetEntries(), n_įvykių)\n",
    "    # Panašiai, kaip ir pirmoje pamokoje\n",
    "    n = 0\n",
    "    with tqdm(total=n_max) as progresas:\n",
    "        for įvykis in medis:\n",
    "            \n",
    "            if n == n_max:\n",
    "                break\n",
    "            n += 1\n",
    "            progresas.update(1)\n",
    "            # Turi būti lygiai du fotonai\n",
    "            if įvykis.photon_n != 2:\n",
    "                continue\n",
    "            if įvykis.n_jet < 1:\n",
    "                continue\n",
    "            if įvykis.jet_pt[0] < 200:\n",
    "                continue\n",
    "\n",
    "            if fotonas_praeina_reikalavimus(įvykis, 0) and fotonas_praeina_reikalavimus(įvykis, 1):\n",
    "\n",
    "                # Gaukite fotonų judesio kiekius ir energijas\n",
    "\n",
    "                pirmo_pt = įvykis.photon_pt[0]/1000.\n",
    "                antro_pt = įvykis.photon_pt[1]/1000.\n",
    "                pirmo_E = įvykis.photon_E[0]/1000.\n",
    "                antro_E = įvykis.photon_E[1]/1000.\n",
    "                pirmo_phi = įvykis.photon_phi[0]\n",
    "                antro_phi = įvykis.photon_phi[1]\n",
    "                pirmo_eta = įvykis.photon_eta[0]\n",
    "                antro_eta = įvykis.photon_eta[1]\n",
    "\n",
    "                pirmas_fotonas.SetPtEtaPhiE(pirmo_pt, pirmo_eta, pirmo_phi, pirmo_E)\n",
    "                antras_fotonas.SetPtEtaPhiE(antro_pt, antro_eta, antro_phi, antro_E)\n",
    "\n",
    "                # Apskaičiuojame sistemos masę\n",
    "                sistema = pirmas_fotonas + antras_fotonas\n",
    "                masė = sistema.M()\n",
    "\n",
    "                if (pirmo_pt/masė < 0.35) or (antro_pt/masė < 0.25):\n",
    "                    continue\n",
    "\n",
    "                masės_histograma.Fill(masė)\n",
    "\n",
    "\n",
    "    return masės_histograma"
   ]
  },
  {
   "cell_type": "markdown",
   "id": "c53eeaec",
   "metadata": {},
   "source": [
    "Jokio rezonanso fone akivaizdžiai nesimato... Kad sumažinti, funkcijoje turėtume įgyvendinkite šiuos reikalavimus fotonams: $p_\\mathrm{T} > 25\\,\\mathrm{GeV}, ir neapimti 1.37<|\\eta|<1.57$. Taipogi turime pareikalauti, kad fotonai tenkina identifikacijos reikalavimus `isTightID`. Tai turėtų padidinti santykį tarp tikrų bei triukšmo fotonų, to pasekoje ir tarp signalo ir triukšmo įvykių (kvadratu, nes kiekvienam įvykiui reikia dviejų fotonų!)"
   ]
  },
  {
   "cell_type": "markdown",
   "id": "7e9335d0",
   "metadata": {},
   "source": [
    "Iš pradžių išbandykite su pvz 100 000 duomenų (visų galimų duomenų analizė gali ilgiau užtrukti)"
   ]
  },
  {
   "cell_type": "code",
   "execution_count": null,
   "id": "3ecbf1b4",
   "metadata": {},
   "outputs": [],
   "source": [
    "histograma = gauti_masės_histogramą(medis, 1e9)\n",
    "histograma.GetEntries()"
   ]
  },
  {
   "cell_type": "code",
   "execution_count": null,
   "id": "a1df1fb4",
   "metadata": {
    "scrolled": true
   },
   "outputs": [],
   "source": [
    "# Sukuriame drobę ir dvi paneles\n",
    "d = ROOT.TCanvas()\n",
    "d.Draw()\n",
    "d.SetBottomMargin(0.2)\n",
    "virš_panelė = ROOT.TPad(\"viršutinis\", \"\", 0, 0.4, 1, 1)\n",
    "apat_panelė = ROOT.TPad(\"apatinis\", \"\", 0, 0, 1, 0.4)\n",
    "virš_panelė.SetBottomMargin(0)\n",
    "apat_panelė.SetTopMargin(0)\n",
    "apat_panelė.SetBottomMargin(0.4)\n",
    "\n",
    "virš_panelė.Draw()\n",
    "apat_panelė.Draw()\n",
    "\n",
    "# Nupiešiame histogramą\n",
    "virš_panelė.cd()\n",
    "\n",
    "# Fono glotninimas -- galima išbandyti įvairias funkcijas\n",
    "fono_funkcija = \"pol3\" # ax + bx2 + cx3 + dx4\n",
    "signalo_funkcija = \"gaus\"\n",
    "\n",
    "fonas = ROOT.TF1(\"fonas\", fono_funkcija)\n",
    "fonas_ir_signalas = ROOT.TF1(\"fonas_ir_signalas\", f\"{fono_funkcija}+{signalo_funkcija}(4)\")\n",
    "fonas_ir_signalas.SetParameter(4, 120)\n",
    "#fonas_ir_signalas.SetParLimits(4, 0, 2000)\n",
    "fonas_ir_signalas.SetParameter(5, 125)\n",
    "#fonas_ir_signalas.SetParLimits(5, 110, 130)\n",
    "fonas_ir_signalas.SetParameter(6, 5)\n",
    "#fonas_ir_signalas.SetParLimits(6, 0, 50)\n",
    "\n",
    "signalas = ROOT.TF1(\"signalas\", \"gaus(4)\", 105, 160)\n",
    "\n",
    "\n",
    "print(\"Naudojama glotninimo funkcija fonui:\", fonas.GetFormula().GetExpFormula())\n",
    "print(\"Naudojama glotninimo funkcija fonui ir signalui:\", fonas_ir_signalas.GetFormula().GetExpFormula())\n",
    "\n",
    "\n",
    "fonas.SetLineColor(ROOT.kBlue)\n",
    "fonas_ir_signalas.SetLineColor(ROOT.kRed)\n",
    "\n",
    "histograma.Fit(\"fonas\", \"E\", \"E SAME\")\n",
    "fono_histograma = histograma.Clone(\"fono_histograma\")\n",
    "fono_histograma.Eval(fonas)\n",
    "\n",
    "# Draw background\n",
    "for i in range(4):\n",
    "    fonas_ir_signalas.SetParameter(i, fonas.GetParameter(i))\n",
    "signalas.SetLineColor(ROOT.kRed)\n",
    "signalas.Draw(\"SAME\")\n",
    "\n",
    "histograma.Fit(\"fonas_ir_signalas\", \"E+\", \"E SAME\")\n",
    "fono_ir_signalo_histograma = histograma.Clone(\"fono_ir_signalo_histograma\")\n",
    "fono_ir_signalo_histograma.Eval(fonas_ir_signalas)\n",
    "\n",
    "# Nupieškime santykį tarp glotnintos kreivės ir duomenų apatinėje panelėje\n",
    "apat_panelė.cd()\n",
    "\n",
    "skirtumas = histograma.Clone(\"skirtumas\")\n",
    "\n",
    "# Paverčiama funkciją histograma (iš tolydžios į diskretišką)\n",
    "skirtumas = histograma - fono_histograma\n",
    "\n",
    "# ----- Paklaidos -----\n",
    "for i in range(1, histograma.GetNbinsX()):\n",
    "    skirtumas.SetBinError(i, histograma.GetBinError(i))\n",
    "# ---------------------\n",
    "\n",
    "skirtumas.SetLineColor(2)\n",
    "\n",
    "# ----- Grafiko pagražinimas  ----- \n",
    "skirtumas.GetYaxis().SetTitle(\"Duom. - fonas\")\n",
    "skirtumas.SetLineColor(ROOT.kBlack)\n",
    "skirtumas.GetXaxis().SetTitleSize(0.14)\n",
    "skirtumas.GetYaxis().SetTitleSize(0.08)\n",
    "skirtumas.GetYaxis().SetTitleOffset(0.85)\n",
    "skirtumas.GetYaxis().SetNdivisions(503, False)\n",
    "skirtumas.GetYaxis().CenterTitle()\n",
    "skirtumas.GetXaxis().SetLabelSize(0.12)\n",
    "skirtumas.GetYaxis().SetLabelSize(0.07)\n",
    "skirtumas.Draw(\"PE\")\n",
    "# ---------------------------------\n",
    "\n",
    "linija = ROOT.TLine(100, 0, 160, 0)\n",
    "linija.SetLineStyle(7)\n",
    "linija.SetLineWidth(3)\n",
    "linija.Draw(\"SAME\")\n",
    "\n",
    "# Draw background\n",
    "for i in [4, 5, 6]:\n",
    "    signalas.SetParameter(i, fonas_ir_signalas.GetParameter(i))\n",
    "signalas.SetLineColor(ROOT.kOrange)\n",
    "signalas.Draw(\"SAME\")\n",
    "\n",
    "d.cd()\n",
    "d.Update()\n",
    "d.SaveAs(\"mgg.png\")"
   ]
  },
  {
   "cell_type": "markdown",
   "id": "2f5450d0",
   "metadata": {},
   "source": [
    "Turėtumėte gauti kažką panašaus į šį grafiką:"
   ]
  }
 ],
 "metadata": {
  "kernelspec": {
   "display_name": "Python 3 (ipykernel)",
   "language": "python",
   "name": "python3"
  },
  "language_info": {
   "codemirror_mode": {
    "name": "ipython",
    "version": 3
   },
   "file_extension": ".py",
   "mimetype": "text/x-python",
   "name": "python",
   "nbconvert_exporter": "python",
   "pygments_lexer": "ipython3",
   "version": "3.10.5"
  }
 },
 "nbformat": 4,
 "nbformat_minor": 5
}
