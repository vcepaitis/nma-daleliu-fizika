{
 "cells": [
  {
   "cell_type": "markdown",
   "metadata": {},
   "source": [
    "![1](ATLASOD.gif)"
   ]
  },
  {
   "cell_type": "markdown",
   "metadata": {},
   "source": [
    "## Pirma pamoka\n",
    "\n",
    "Šioje pamokoje mes:\n",
    "* Susipažinsime su dalelių fizikos CERN ROOT biblioteka\n",
    "* Išmoksime įskaityti failą su ATLAS detektoriumi užfiksuotais susidūrimų duomenimis\n",
    "* Atliksime imtis reikalingas studijuoti $Z\\to\\ell\\ell$ procesą\n",
    "* Apskaičiuosime leptonų sistemos keturmatį vektorių ir nupiešime masės spektros histogramą"
   ]
  },
  {
   "cell_type": "markdown",
   "metadata": {},
   "source": [
    "Z bozonas skyla beveik akimirksniu, įmanoma užfiksuoti tik skilimo produktus"
   ]
  },
  {
   "cell_type": "code",
   "execution_count": 1,
   "metadata": {},
   "outputs": [
    {
     "name": "stdout",
     "output_type": "stream",
     "text": [
      "Welcome to JupyROOT 6.26/06\n"
     ]
    }
   ],
   "source": [
    "# Įkraunama ROOT biblioteka\n",
    "import ROOT\n",
    "%jsroot on"
   ]
  },
  {
   "cell_type": "code",
   "execution_count": 2,
   "metadata": {},
   "outputs": [],
   "source": [
    "# Duomenų analizę pradedame pasitelkdami simuliacija. Atidarome ROOT failą\n",
    "nuoroda = \"https://atlas-opendata.web.cern.ch/atlas-opendata/samples/2020/2lep/MC/mc_363356.ZqqZll.2lep.root\"\n",
    "failas = ROOT.TFile.Open(nuoroda)\n",
    "# Iš failo nuskaitome \"medį\" (tree) su susidūrimų duomenimis\n",
    "medis = failas.Get(\"mini\")"
   ]
  },
  {
   "cell_type": "code",
   "execution_count": 3,
   "metadata": {},
   "outputs": [
    {
     "name": "stdout",
     "output_type": "stream",
     "text": [
      "Faile rasta 1403146 įvykių\n"
     ]
    }
   ],
   "source": [
    "# Atliekame paprastas operacijas su nuskaitytu medžiu: išvedame susidūrimų skaičių į ekraną\n",
    "n_viso = medis.GetEntries()\n",
    "print(f\"Faile rasta {n_viso} įvykių\")"
   ]
  },
  {
   "cell_type": "code",
   "execution_count": 13,
   "metadata": {
    "scrolled": false
   },
   "outputs": [
    {
     "name": "stdout",
     "output_type": "stream",
     "text": [
      "******************************************************************************\n",
      "*Tree    :mini      : mini                                                   *\n",
      "*Entries :  1403146 : Total =      1461169448 bytes  File  Size =  380472501 *\n",
      "*        :          : Tree compression factor =   3.84                       *\n",
      "******************************************************************************\n",
      "*Br    0 :lep_n     : lep_n/i                                                *\n",
      "*Entries :  1403146 : Total  Size=    5614201 bytes  File Size  =     100324 *\n",
      "*Baskets :       12 : Basket Size=    1632768 bytes  Compression=  55.15     *\n",
      "*............................................................................*\n",
      "*Br    1 :lep_truthMatched : vector<bool>                                    *\n",
      "*Entries :  1403146 : Total  Size=   22473812 bytes  File Size  =    2504564 *\n",
      "*Baskets :       12 : Basket Size=    2554880 bytes  Compression=   8.84     *\n",
      "*............................................................................*\n",
      "*Br    2 :lep_trigMatched : vector<bool>                                     *\n",
      "*Entries :  1403146 : Total  Size=   22473794 bytes  File Size  =    3396033 *\n",
      "*Baskets :       12 : Basket Size=    2554880 bytes  Compression=   6.52     *\n",
      "*............................................................................*\n",
      "*Br    3 :lep_pt    : vector<float>                                          *\n",
      "*Entries :  1403146 : Total  Size=   30958439 bytes  File Size  =   13796139 *\n",
      "*Baskets :       24 : Basket Size=    2554880 bytes  Compression=   2.21     *\n",
      "*............................................................................*\n",
      "*Br    4 :lep_eta   : vector<float>                                          *\n",
      "*Entries :  1403146 : Total  Size=   30958469 bytes  File Size  =   14528629 *\n",
      "*Baskets :       24 : Basket Size=    2554880 bytes  Compression=   2.10     *\n",
      "*............................................................................*\n",
      "*Br    5 :lep_phi   : vector<float>                                          *\n",
      "*Entries :  1403146 : Total  Size=   30958469 bytes  File Size  =   14540313 *\n",
      "*Baskets :       24 : Basket Size=    2554880 bytes  Compression=   2.10     *\n",
      "*............................................................................*\n",
      "*Br    6 :lep_E     : vector<float>                                          *\n",
      "*Entries :  1403146 : Total  Size=   30958409 bytes  File Size  =   14076732 *\n",
      "*Baskets :       24 : Basket Size=    2554880 bytes  Compression=   2.17     *\n",
      "*............................................................................*\n",
      "*Br    7 :lep_z0    : vector<float>                                          *\n",
      "*Entries :  1403146 : Total  Size=   30958439 bytes  File Size  =   12773654 *\n",
      "*Baskets :       24 : Basket Size=    2554880 bytes  Compression=   2.39     *\n",
      "*............................................................................*\n",
      "*Br    8 :lep_charge : vector<int>                                           *\n",
      "*Entries :  1403146 : Total  Size=   30958559 bytes  File Size  =    3618279 *\n",
      "*Baskets :       24 : Basket Size=    2554880 bytes  Compression=   8.43     *\n",
      "*............................................................................*\n",
      "*Br    9 :lep_type  : vector<unsigned int>                                   *\n",
      "*Entries :  1403146 : Total  Size=   30958499 bytes  File Size  =    3549981 *\n",
      "*Baskets :       24 : Basket Size=    2554880 bytes  Compression=   8.59     *\n",
      "*............................................................................*\n",
      "*Br   10 :lep_isTightID : vector<bool>                                       *\n",
      "*Entries :  1403146 : Total  Size=   22473758 bytes  File Size  =    3044391 *\n",
      "*Baskets :       12 : Basket Size=    2554880 bytes  Compression=   7.28     *\n",
      "*............................................................................*\n",
      "*Br   11 :lep_ptcone30 : vector<float>                                       *\n",
      "*Entries :  1403146 : Total  Size=   30958619 bytes  File Size  =    5306073 *\n",
      "*Baskets :       24 : Basket Size=    2554880 bytes  Compression=   5.75     *\n",
      "*............................................................................*\n",
      "*Br   12 :lep_etcone20 : vector<float>                                       *\n",
      "*Entries :  1403146 : Total  Size=   30958619 bytes  File Size  =   14484304 *\n",
      "*Baskets :       24 : Basket Size=    2554880 bytes  Compression=   2.11     *\n",
      "*............................................................................*\n",
      "*Br   13 :lep_trackd0pvunbiased : vector<float>                              *\n",
      "*Entries :  1403146 : Total  Size=   30958889 bytes  File Size  =   14585303 *\n",
      "*Baskets :       24 : Basket Size=    2554880 bytes  Compression=   2.09     *\n",
      "*............................................................................*\n",
      "*Br   14 :lep_tracksigd0pvunbiased : vector<float>                           *\n",
      "*Entries :  1403146 : Total  Size=   30958979 bytes  File Size  =   14303904 *\n",
      "*Baskets :       24 : Basket Size=    2554880 bytes  Compression=   2.13     *\n",
      "*............................................................................*\n",
      "*Br   15 :lep_pt_syst : vector<float>                                        *\n",
      "*Entries :  1403146 : Total  Size=   30958699 bytes  File Size  =   14297702 *\n",
      "*Baskets :       25 : Basket Size=    2554880 bytes  Compression=   2.13     *\n",
      "*............................................................................*\n"
     ]
    }
   ],
   "source": [
    "# Pažiūrėkime kokią informaciją galime rasti savo medyje\n",
    "medis.Print()\n",
    "\n",
    "# Pastaba: norint filtruoti šakas galima naudoti \"wildcards\"\n",
    "# medis.Print(\"lep*\")"
   ]
  },
  {
   "cell_type": "markdown",
   "metadata": {},
   "source": [
    "### Kiekviena medžio \"šaka\" aprašo vis kitokį dalyką. Štai poros iš jų paaiškinimas:\n",
    "`runNumber` - duomenų rinkimo periodo numeris  \n",
    "`eventNumber` - unikalus įvykio identifikatorius  \n",
    "`mcWeight` - simuliuoti įvykio svoriai reikalingi norint palyginti simuliuotus duomenis su tikrais duomenimis  \n",
    "`lep_` - leptonų (elektronų ir muonų) duomenys. Pastebėkime, kad šie duomenys talpinami vektoriuje (`vector<float>`). Taip yra dėl to, kad kiekviename įvykyje gali susidaryti įvairus kiekis leptonų  \n",
    "`jet_` - hadroninių čiurkšlių (jet) duomenys  \n",
    "`photon` - fotonų duomenys  "
   ]
  },
  {
   "cell_type": "code",
   "execution_count": 5,
   "metadata": {},
   "outputs": [
    {
     "name": "stdout",
     "output_type": "stream",
     "text": [
      "{ 124174.f, 36407.2f }\n"
     ]
    }
   ],
   "source": [
    "# Visi įvykiai yra statistiškai nepriklausomi vienas nuo kito\n",
    "# Pažiūrėkime, kaip atrodo pirmo įvykio leptonų skersinis impulsas (matuojami MeV)\n",
    "# Naudojame for ciklą atlikti iteraciją, tačiau sustojame po pirmo įvykio \n",
    "# Kiekviena (simuliuota) dalelė turi savo PDG \n",
    "# Daugiau informacijos: https://particle.wiki/wiki/PDG_particle_numbering_scheme\n",
    "for įvykis in medis:\n",
    "    print(įvykis.lep_pt)\n",
    "    break"
   ]
  },
  {
   "cell_type": "code",
   "execution_count": 8,
   "metadata": {},
   "outputs": [
    {
     "name": "stdout",
     "output_type": "stream",
     "text": [
      "Išanalizuota 10000 įvykių. Baigiame\n",
      "Iš viso išanalizuota 10000/1403146 įvykių\n"
     ]
    },
    {
     "name": "stderr",
     "output_type": "stream",
     "text": [
      "Warning in <TDavixFile::Append>: Replacing existing TH1: masė (Potential memory leak).\n"
     ]
    }
   ],
   "source": [
    "# Kiekvienam įvykyje pabandome apskaičiuoti leptonų sistemos masę\n",
    "# vienos-dimensijos, dvigubo tikslumo (H1D) histogramą leptonų sistemos masei\n",
    "masės_histograma = ROOT.TH1D(\"masė\", \"masė; Leptonų sistemos masė [GeV]; įvykių skaičius\", 100, 60, 120)\n",
    "\n",
    "# Skaičiuojame, kiek įvykių pasirinkome (iš visų įmanomų)\n",
    "n = 0\n",
    "\n",
    "# Sukurkime po keturmatį vektorių abiems leptonų kandidatams\n",
    "pirmas_leptonas = ROOT.TLorentzVector()\n",
    "antras_leptonas = ROOT.TLorentzVector()\n",
    "\n",
    "for įvykis in medis:\n",
    "    # Įsitikiname, kad yra bent jau du leptonai\n",
    "    # Kitaip praleidžiame šį įvykį\n",
    "    if įvykis.lep_n < 2:\n",
    "        continue\n",
    "    # Leptonų krūviai privalo būti skirtingi\n",
    "    if (įvykis.lep_charge[0] == įvykis.lep_charge[1]):\n",
    "        continue \n",
    "        \n",
    "    # Leptonų krūviai privalo būti skirtingi\n",
    "    if (įvykis.lep_type[0] != įvykis.lep_type[1]):\n",
    "        continue   \n",
    "\n",
    "    # Apibrėžiame Lorenco vektorius\n",
    "    # Priminimas: ATLAS ir CMS naudoja ne (px, py, pz, E) atskaitos sistemą o (pT, eta, phi, E)\n",
    "    \n",
    "    pirmo_pt = įvykis.lep_pt[0]/1000.\n",
    "    antro_pt = įvykis.lep_pt[1]/1000.\n",
    "    pirmo_E = įvykis.lep_E[0]/1000.\n",
    "    antro_E = įvykis.lep_E[1]/1000.\n",
    "    # Padalijome judesio kiekį (impulsą) ir energiją iš 1000 kad paversti vienetus iš MeV į GeV\n",
    "    pirmo_phi = įvykis.lep_phi[0]\n",
    "    antro_phi = įvykis.lep_phi[1]\n",
    "    pirmo_eta = įvykis.lep_eta[0]\n",
    "    antro_eta = įvykis.lep_eta[1]\n",
    "    \n",
    "    \n",
    "\n",
    "\n",
    "    pirmas_leptonas.SetPtEtaPhiE(pirmo_pt, pirmo_eta, pirmo_phi, pirmo_E)\n",
    "    antras_leptonas.SetPtEtaPhiE(antro_pt, antro_eta, antro_phi, antro_E)\n",
    "\n",
    "    # Sudedami judesio kiekius gauname sistemos pilną (keturmatį) judesio kiekį p(Z) = p(l1) + p(l2)\n",
    "    sistema = pirmas_leptonas + antras_leptonas\n",
    "    \n",
    "    # Kad gauti sistemos masę labai paprasta:\n",
    "    masė = sistema.M()\n",
    "\n",
    "    # Užpildome histogramą\n",
    "    masės_histograma.Fill(masė)\n",
    "    n += 1\n",
    "    # Sustokime ties 10000 įvykių faile (kitaip gali ilgai užtrukti...)\n",
    "    if n % 10000 == 0:\n",
    "        print(f\"Išanalizuota {n} įvykių. Baigiame\")\n",
    "        break\n",
    "\n",
    "print(f\"Iš viso išanalizuota {n}/{n_viso} įvykių\")"
   ]
  },
  {
   "cell_type": "code",
   "execution_count": 9,
   "metadata": {},
   "outputs": [
    {
     "data": {
      "text/html": [
       "\n",
       "\n",
       "<div id=\"root_plot_1659956918187\"\n",
       "     style=\"width: 696px; height: 472px\">\n",
       "</div>\n",
       "<script>\n",
       "\n",
       "function display_root_plot_1659956918187(Core) {\n",
       "   let obj = Core.parse({\"_typename\":\"TCanvas\",\"fUniqueID\":0,\"fBits\":3342344,\"fLineColor\":1,\"fLineStyle\":1,\"fLineWidth\":1,\"fFillColor\":0,\"fFillStyle\":1001,\"fLeftMargin\":0.1,\"fRightMargin\":0.1,\"fBottomMargin\":0.1,\"fTopMargin\":0.1,\"fXfile\":2,\"fYfile\":2,\"fAfile\":1,\"fXstat\":0.99,\"fYstat\":0.99,\"fAstat\":2,\"fFrameFillColor\":0,\"fFrameLineColor\":1,\"fFrameFillStyle\":1001,\"fFrameLineStyle\":1,\"fFrameLineWidth\":1,\"fFrameBorderSize\":1,\"fFrameBorderMode\":0,\"fX1\":0,\"fY1\":0,\"fX2\":1,\"fY2\":1,\"fXtoAbsPixelk\":5e-5,\"fXtoPixelk\":5e-5,\"fXtoPixel\":696,\"fYtoAbsPixelk\":472.00005,\"fYtoPixelk\":472.00005,\"fYtoPixel\":-472,\"fUtoAbsPixelk\":5e-5,\"fUtoPixelk\":5e-5,\"fUtoPixel\":696,\"fVtoAbsPixelk\":472.00005,\"fVtoPixelk\":472,\"fVtoPixel\":-472,\"fAbsPixeltoXk\":0,\"fPixeltoXk\":0,\"fPixeltoX\":0.0014367816091954,\"fAbsPixeltoYk\":1,\"fPixeltoYk\":0,\"fPixeltoY\":-0.00211864406779661,\"fXlowNDC\":0,\"fYlowNDC\":0,\"fXUpNDC\":1,\"fYUpNDC\":1,\"fWNDC\":1,\"fHNDC\":1,\"fAbsXlowNDC\":0,\"fAbsYlowNDC\":0,\"fAbsWNDC\":1,\"fAbsHNDC\":1,\"fUxmin\":0,\"fUymin\":0,\"fUxmax\":1,\"fUymax\":1,\"fTheta\":30,\"fPhi\":30,\"fAspectRatio\":0,\"fNumber\":0,\"fTickx\":0,\"fTicky\":0,\"fLogx\":0,\"fLogy\":0,\"fLogz\":0,\"fPadPaint\":0,\"fCrosshair\":0,\"fCrosshairPos\":0,\"fBorderSize\":2,\"fBorderMode\":0,\"fModified\":true,\"fGridx\":false,\"fGridy\":false,\"fAbsCoord\":false,\"fEditable\":true,\"fFixedAspectRatio\":false,\"fPrimitives\":{\"_typename\":\"TList\",\"name\":\"TList\",\"arr\":[{\"_typename\":\"TH1D\",\"fUniqueID\":0,\"fBits\":8,\"fName\":\"mas\\u0117\",\"fTitle\":\"mas\\u0117\",\"fLineColor\":632,\"fLineStyle\":1,\"fLineWidth\":1,\"fFillColor\":0,\"fFillStyle\":1001,\"fMarkerColor\":1,\"fMarkerStyle\":1,\"fMarkerSize\":1,\"fNcells\":102,\"fXaxis\":{\"_typename\":\"TAxis\",\"fUniqueID\":0,\"fBits\":0,\"fName\":\"xaxis\",\"fTitle\":\" Lepton\\u0173 sistemos mas\\u0117 [GeV]\",\"fNdivisions\":510,\"fAxisColor\":1,\"fLabelColor\":1,\"fLabelFont\":42,\"fLabelOffset\":0.005,\"fLabelSize\":0.035,\"fTickLength\":0.03,\"fTitleOffset\":1,\"fTitleSize\":0.035,\"fTitleColor\":1,\"fTitleFont\":42,\"fNbins\":100,\"fXmin\":60,\"fXmax\":120,\"fXbins\":[],\"fFirst\":0,\"fLast\":0,\"fBits2\":0,\"fTimeDisplay\":false,\"fTimeFormat\":\"\",\"fLabels\":null,\"fModLabs\":null},\"fYaxis\":{\"_typename\":\"TAxis\",\"fUniqueID\":0,\"fBits\":0,\"fName\":\"yaxis\",\"fTitle\":\" \\u012fvyki\\u0173 skai\\u010dius\",\"fNdivisions\":510,\"fAxisColor\":1,\"fLabelColor\":1,\"fLabelFont\":42,\"fLabelOffset\":0.005,\"fLabelSize\":0.035,\"fTickLength\":0.03,\"fTitleOffset\":0,\"fTitleSize\":0.035,\"fTitleColor\":1,\"fTitleFont\":42,\"fNbins\":1,\"fXmin\":0,\"fXmax\":1,\"fXbins\":[],\"fFirst\":0,\"fLast\":0,\"fBits2\":0,\"fTimeDisplay\":false,\"fTimeFormat\":\"\",\"fLabels\":null,\"fModLabs\":null},\"fZaxis\":{\"_typename\":\"TAxis\",\"fUniqueID\":0,\"fBits\":0,\"fName\":\"zaxis\",\"fTitle\":\"\",\"fNdivisions\":510,\"fAxisColor\":1,\"fLabelColor\":1,\"fLabelFont\":42,\"fLabelOffset\":0.005,\"fLabelSize\":0.035,\"fTickLength\":0.03,\"fTitleOffset\":1,\"fTitleSize\":0.035,\"fTitleColor\":1,\"fTitleFont\":42,\"fNbins\":1,\"fXmin\":0,\"fXmax\":1,\"fXbins\":[],\"fFirst\":0,\"fLast\":0,\"fBits2\":0,\"fTimeDisplay\":false,\"fTimeFormat\":\"\",\"fLabels\":null,\"fModLabs\":null},\"fBarOffset\":0,\"fBarWidth\":1000,\"fEntries\":10000,\"fTsumw\":9740,\"fTsumw2\":9740,\"fTsumwx\":875304.853771891,\"fTsumwx2\":79029301.3761603,\"fMaximum\":-1111,\"fMinimum\":-1111,\"fNormFactor\":0,\"fContour\":[],\"fSumw2\":[],\"fOption\":\"\",\"fFunctions\":{\"_typename\":\"TList\",\"name\":\"TList\",\"arr\":[],\"opt\":[]},\"fBufferSize\":0,\"fBuffer\":[],\"fBinStatErrOpt\":0,\"fStatOverflows\":2,\"fArray\":{\"$arr\":\"Float64\",\"len\":102,\"v\":[161,5,4,9,5,5,12,8,7,8,11,10,7,10,13,9,17,17,13,10,15,16,17,18,15,19,23,19,28,29,32,29,47,30,47,48,51,61,70,89,110,143,150,193,241,248,314,380,512,605,696,685,663,717,643,475,420,318,250,194,138,118,81,76,49,47,30,34,34,35,25,19,17,20,10,13,12,5,17,11,12,13,7,3,10,5,8,1,6,6,6,7,3,0,2,7,1,7,2,1,2,99]}},{\"_typename\":\"TStyle\",\"fUniqueID\":0,\"fBits\":0,\"fName\":\"Modern\",\"fTitle\":\"Modern Style\",\"fLineColor\":1,\"fLineStyle\":1,\"fLineWidth\":1,\"fFillColor\":19,\"fFillStyle\":1001,\"fMarkerColor\":1,\"fMarkerStyle\":1,\"fMarkerSize\":1,\"fTextAngle\":0,\"fTextSize\":0.05,\"fTextAlign\":11,\"fTextColor\":1,\"fTextFont\":62,\"fXaxis\":{\"_typename\":\"TAttAxis\",\"fNdivisions\":510,\"fAxisColor\":1,\"fLabelColor\":1,\"fLabelFont\":42,\"fLabelOffset\":0.005,\"fLabelSize\":0.035,\"fTickLength\":0.03,\"fTitleOffset\":1,\"fTitleSize\":0.035,\"fTitleColor\":1,\"fTitleFont\":42},\"fYaxis\":{\"_typename\":\"TAttAxis\",\"fNdivisions\":510,\"fAxisColor\":1,\"fLabelColor\":1,\"fLabelFont\":42,\"fLabelOffset\":0.005,\"fLabelSize\":0.035,\"fTickLength\":0.03,\"fTitleOffset\":0,\"fTitleSize\":0.035,\"fTitleColor\":1,\"fTitleFont\":42},\"fZaxis\":{\"_typename\":\"TAttAxis\",\"fNdivisions\":510,\"fAxisColor\":1,\"fLabelColor\":1,\"fLabelFont\":42,\"fLabelOffset\":0.005,\"fLabelSize\":0.035,\"fTickLength\":0.03,\"fTitleOffset\":1,\"fTitleSize\":0.035,\"fTitleColor\":1,\"fTitleFont\":42},\"fBarWidth\":1,\"fBarOffset\":0,\"fColorModelPS\":0,\"fDrawBorder\":0,\"fOptLogx\":0,\"fOptLogy\":0,\"fOptLogz\":0,\"fOptDate\":0,\"fOptStat\":1111,\"fOptTitle\":1,\"fOptFile\":0,\"fOptFit\":0,\"fShowEventStatus\":0,\"fShowEditor\":0,\"fShowToolBar\":0,\"fNumberContours\":20,\"fAttDate\":{\"_typename\":\"TAttText\",\"fTextAngle\":0,\"fTextSize\":0.025,\"fTextAlign\":11,\"fTextColor\":1,\"fTextFont\":62},\"fDateX\":0.01,\"fDateY\":0.01,\"fEndErrorSize\":2,\"fErrorX\":0.5,\"fFuncColor\":2,\"fFuncStyle\":1,\"fFuncWidth\":2,\"fGridColor\":0,\"fGridStyle\":3,\"fGridWidth\":1,\"fLegendBorderSize\":1,\"fLegendFillColor\":0,\"fLegendFont\":42,\"fLegendTextSize\":0,\"fHatchesLineWidth\":1,\"fHatchesSpacing\":1,\"fFrameFillColor\":0,\"fFrameLineColor\":1,\"fFrameFillStyle\":1001,\"fFrameLineStyle\":1,\"fFrameLineWidth\":1,\"fFrameBorderSize\":1,\"fFrameBorderMode\":0,\"fHistFillColor\":0,\"fHistLineColor\":602,\"fHistFillStyle\":1001,\"fHistLineStyle\":1,\"fHistLineWidth\":1,\"fHistMinimumZero\":false,\"fHistTopMargin\":0.05,\"fCanvasPreferGL\":false,\"fCanvasColor\":0,\"fCanvasBorderSize\":2,\"fCanvasBorderMode\":0,\"fCanvasDefH\":500,\"fCanvasDefW\":700,\"fCanvasDefX\":10,\"fCanvasDefY\":10,\"fPadColor\":0,\"fPadBorderSize\":2,\"fPadBorderMode\":0,\"fPadBottomMargin\":0.1,\"fPadTopMargin\":0.1,\"fPadLeftMargin\":0.1,\"fPadRightMargin\":0.1,\"fPadGridX\":false,\"fPadGridY\":false,\"fPadTickX\":0,\"fPadTickY\":0,\"fPaperSizeX\":20,\"fPaperSizeY\":26,\"fScreenFactor\":1,\"fStatColor\":0,\"fStatTextColor\":1,\"fStatBorderSize\":1,\"fStatFont\":42,\"fStatFontSize\":0,\"fStatStyle\":1001,\"fStatFormat\":\"6.4g\",\"fStatX\":0.98,\"fStatY\":0.935,\"fStatW\":0.2,\"fStatH\":0.16,\"fStripDecimals\":true,\"fTitleAlign\":23,\"fTitleColor\":0,\"fTitleTextColor\":1,\"fTitleBorderSize\":0,\"fTitleFont\":42,\"fTitleFontSize\":0.05,\"fTitleStyle\":0,\"fTitleX\":0.5,\"fTitleY\":0.995,\"fTitleW\":0,\"fTitleH\":0,\"fLegoInnerR\":0.5,\"fLineStyles\":[\"\",\"  \",\" 12 12\",\" 4 8\",\" 12 16 4 16\",\" 20 12 4 12\",\" 20 12 4 12 4 12 4 12\",\" 20 20\",\" 20 12 4 12 4 12\",\" 80 20\",\" 80 40 4 40\",\"  \",\"  \",\"  \",\"  \",\"  \",\"  \",\"  \",\"  \",\"  \",\"  \",\"  \",\"  \",\"  \",\"  \",\"  \",\"  \",\"  \",\"  \",\"  \"],\"fHeaderPS\":\"\",\"fTitlePS\":\"\",\"fFitFormat\":\"5.4g\",\"fPaintTextFormat\":\"g\",\"fLineScalePS\":3,\"fJoinLinePS\":0,\"fCapLinePS\":0,\"fTimeOffset\":788918400,\"fImageScaling\":1}],\"opt\":[\"\",\"\"]},\"fExecs\":null,\"fName\":\"c1_n2\",\"fTitle\":\"c1_n2\",\"fNumPaletteColor\":0,\"fNextPaletteColor\":0,\"fDISPLAY\":\"$DISPLAY\",\"fDoubleBuffer\":0,\"fRetained\":true,\"fXsizeUser\":0,\"fYsizeUser\":0,\"fXsizeReal\":20,\"fYsizeReal\":14.28571,\"fWindowTopX\":0,\"fWindowTopY\":0,\"fWindowWidth\":0,\"fWindowHeight\":0,\"fCw\":696,\"fCh\":472,\"fCatt\":{\"_typename\":\"TAttCanvas\",\"fXBetween\":2,\"fYBetween\":2,\"fTitleFromTop\":1.2,\"fXdate\":0.2,\"fYdate\":0.3,\"fAdate\":1},\"kMoveOpaque\":true,\"kResizeOpaque\":true,\"fHighLightColor\":2,\"fBatch\":true,\"kShowEventStatus\":false,\"kAutoExec\":true,\"kMenuBar\":true});\n",
       "   Core.settings.HandleKeys = false;\n",
       "   Core.draw(\"root_plot_1659956918187\", obj, \"\");\n",
       "}\n",
       "\n",
       "function script_load_root_plot_1659956918187(src, on_error) {\n",
       "    let script = document.createElement('script');\n",
       "    script.src = src;\n",
       "    script.onload = function() { display_root_plot_1659956918187(JSROOT); };\n",
       "    script.onerror = function() { script.remove(); on_error(); };\n",
       "    document.head.appendChild(script);\n",
       "}\n",
       "\n",
       "if (typeof requirejs !== 'undefined') {\n",
       "\n",
       "    // We are in jupyter notebooks, use require.js which should be configured already\n",
       "    requirejs.config({\n",
       "       paths: { 'JSRootCore' : [ 'scripts/JSRoot.core', 'https://root.cern/js/6.1.1/scripts/JSRoot.core.min', 'https://jsroot.gsi.de/6.1.1/scripts/JSRoot.core.min' ] }\n",
       "    })(['JSRootCore'],  function(Core) {\n",
       "       display_root_plot_1659956918187(Core);\n",
       "    });\n",
       "\n",
       "} else if (typeof JSROOT !== 'undefined') {\n",
       "\n",
       "   // JSROOT already loaded, just use it\n",
       "   display_root_plot_1659956918187(JSROOT);\n",
       "\n",
       "} else {\n",
       "\n",
       "    // We are in jupyterlab without require.js, directly loading jsroot\n",
       "    // Jupyterlab might be installed in a different base_url so we need to know it.\n",
       "    try {\n",
       "        var base_url = JSON.parse(document.getElementById('jupyter-config-data').innerHTML).baseUrl;\n",
       "    } catch(_) {\n",
       "        var base_url = '/';\n",
       "    }\n",
       "\n",
       "    // Try loading a local version of requirejs and fallback to cdn if not possible.\n",
       "    script_load_root_plot_1659956918187(base_url + 'static/scripts/JSRoot.core.js', function(){\n",
       "        console.error('Fail to load JSROOT locally, please check your jupyter_notebook_config.py file');\n",
       "        script_load_root_plot_1659956918187('https://root.cern/js/6.1.1/scripts/JSRoot.core.min.js', function(){\n",
       "            document.getElementById(\"root_plot_1659956918187\").innerHTML = \"Failed to load JSROOT\";\n",
       "        });\n",
       "    });\n",
       "}\n",
       "\n",
       "</script>\n"
      ],
      "text/plain": [
       "<IPython.core.display.HTML object>"
      ]
     },
     "metadata": {},
     "output_type": "display_data"
    }
   ],
   "source": [
    "# Sekantis etapas sukurti drobę (canvas)\n",
    "drobė = ROOT.TCanvas()\n",
    "# Drobė savaime būna tuščia, taigi nupiešiame ir histogramą\n",
    "drobė.Draw()\n",
    "masės_histograma.SetLineColor(ROOT.kRed)\n",
    "masės_histograma.Draw()"
   ]
  },
  {
   "cell_type": "markdown",
   "metadata": {},
   "source": [
    "Sveikiname, aiškiai matome Z bozono rezonansą (90 GeV).  \n",
    "__Užduotis__: ar galite nupiešti dvi histogramas, vieną atskirai $Z\\to\\mu^+\\mu^-$ skilimui, o kitą $Z\\to e^+e^-$?  \n",
    "_Patarimas_: antrą histogramą virš pirmos galima nupiešti pasinaudojus `SAME` komanda, pvz: `histograma2.Draw(\"SAME\")`  \n",
    "_Klausimas #1:_ Z bozona skyla į du miuonus ir du elektronus su vienoda tikimybe. Kodėl matomi truputį skirtingai skaičiai elektronų ir miuonų porų?"
   ]
  },
  {
   "cell_type": "code",
   "execution_count": null,
   "metadata": {},
   "outputs": [],
   "source": []
  }
 ],
 "metadata": {
  "kernelspec": {
   "display_name": "Python 3 (ipykernel)",
   "language": "python",
   "name": "python3"
  },
  "language_info": {
   "codemirror_mode": {
    "name": "ipython",
    "version": 3
   },
   "file_extension": ".py",
   "mimetype": "text/x-python",
   "name": "python",
   "nbconvert_exporter": "python",
   "pygments_lexer": "ipython3",
   "version": "3.10.5"
  },
  "vscode": {
   "interpreter": {
    "hash": "601829bbad2bef4f1009294c13fdd4b5c174626e29fe5e47c407cf94ee86ca2d"
   }
  }
 },
 "nbformat": 4,
 "nbformat_minor": 2
}
