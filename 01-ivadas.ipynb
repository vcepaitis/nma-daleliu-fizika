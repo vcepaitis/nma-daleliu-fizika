{
 "cells": [
  {
   "cell_type": "markdown",
   "metadata": {},
   "source": [
    "![1](ATLASOD.gif)"
   ]
  },
  {
   "cell_type": "markdown",
   "metadata": {},
   "source": [
    "# Pirma pamoka\n",
    "\n",
    "Šioje pamokoje mes:\n",
    "* Susipažinsime su dalelių fizikos CERN ROOT biblioteka\n",
    "* Išmoksime įskaityti failą su protonų susidūrimų duomenimis\n",
    "* Atliksime imtis reikalingas studijuoti $Z\\to\\ell\\ell$ procesą\n",
    "* Apskaičiuosime leptonų sistemos keturmatį vektorių ir nupiešime masės spektro histogramą"
   ]
  },
  {
   "cell_type": "markdown",
   "metadata": {},
   "source": [
    "## Z bozono skilimas\n",
    "\n",
    "Z bozonas yra atsakingas už silpnąją sąveiką be krūvio perdavimo. Ši dalelė skyla beveik akimirksniu, įmanoma užfiksuoti tik jos skeveldros. Lengviausiai matomi skilimai yra į miuonų porą $Z^0\\to\\mu^+\\mu^-$ arba elektronų porą $Z^0\\to e^+e^-$:\n",
    "![3](Zskilimas.png)"
   ]
  },
  {
   "cell_type": "code",
   "execution_count": null,
   "metadata": {},
   "outputs": [],
   "source": [
    "# Įkraunama ROOT biblioteka\n",
    "import ROOT\n",
    "%jsroot on\n",
    "\n",
    "# matematinių operacijų biblioteka\n",
    "import math "
   ]
  },
  {
   "cell_type": "code",
   "execution_count": null,
   "metadata": {},
   "outputs": [],
   "source": [
    "# Duomenų analizę pradedame pasitelkdami simuliacija. Atidarome ROOT failą\n",
    "# Šiame faile talpinami tik simuliuoti Z bozono įvykiai\n",
    "nuoroda = \"https://atlas-opendata.web.cern.ch/atlas-opendata/samples/2020/2lep/MC/mc_363356.ZqqZll.2lep.root\"\n",
    "failas = ROOT.TFile.Open(nuoroda)\n",
    "# Iš failo nuskaitome \"medį\" (tree) su susidūrimų duomenimis\n",
    "medis = failas.Get(\"mini\")"
   ]
  },
  {
   "cell_type": "code",
   "execution_count": null,
   "metadata": {},
   "outputs": [],
   "source": [
    "# Atliekame paprastas operacijas su nuskaitytu medžiu: išvedame susidūrimų skaičių į ekraną\n",
    "n_viso = medis.GetEntries()\n",
    "print(f\"Faile rasta {n_viso} įvykių\")"
   ]
  },
  {
   "cell_type": "code",
   "execution_count": null,
   "metadata": {
    "scrolled": false
   },
   "outputs": [],
   "source": [
    "# Pažiūrėkime kokią informaciją galime rasti savo medyje\n",
    "medis.Print()\n",
    "\n",
    "# Pastaba: norint filtruoti šakas galima naudoti \"wildcard\", pvz:\n",
    "# medis.Print(\"lep*\")"
   ]
  },
  {
   "cell_type": "code",
   "execution_count": null,
   "metadata": {},
   "outputs": [],
   "source": [
    "# Kad nupiešti vieną iš medžio šakų galima pasinaudoti Draw komanda\n",
    "# Tačiau pirma reikia nupiešti \"drobę\" (canvas)\n",
    "drobė = ROOT.TCanvas()\n",
    "drobė.Draw()\n",
    "\n",
    "# Nupieškime histogramą, rodančią leptonų skaičių įvykyje\n",
    "medis.Draw(\"lep_n\")\n",
    "# Gautas grafikas yra interaktyvus (užveskite pele)"
   ]
  },
  {
   "cell_type": "markdown",
   "metadata": {},
   "source": [
    "### Kiekviena medžio \"šaka\" aprašo vis kitokias įvykio savybes. Poros iš jų paaiškinimas:\n",
    "`runNumber` - duomenų rinkimo periodo numeris  \n",
    "`eventNumber` - unikalus įvykio identifikatorius  \n",
    "`mcWeight` - simuliuoti įvykio svoriai. Reikalingi norint palyginti simuliuotus duomenis su tikrais duomenimis  \n",
    "`lep_` - leptonų (elektronų ir miuonų) duomenys. Pastebėkime, kad šie duomenys talpinami vektoriuje (`vector<float>`). Taip yra dėl to, kad kiekviename įvykyje susidaro kintamas kiekis leptonų  \n",
    "`jet_` - hadroninių čiurkšlių (jet) duomenys  \n",
    "`photon_` - fotonų duomenys  \n",
    "\n",
    "## Užduotys\n",
    "\n",
    "__Užduotis 1:__ nupieškite leptonų krūvio (`lep_charge`) histogramą. Ar gavote tai, ko tikėjotės?  "
   ]
  },
  {
   "cell_type": "code",
   "execution_count": null,
   "metadata": {},
   "outputs": [],
   "source": [
    "# Užduotis 1 atliekama čia\n",
    "medis.Draw(\"...\")"
   ]
  },
  {
   "cell_type": "markdown",
   "metadata": {},
   "source": [
    "__Užduotis 2:__ nupieškite leptono tipo (`lep_type`) histogramą. Kiekviena dalelė simuliacijoje turi savo paskirtą PDG numerį. Kokius leptonus turime? Daugiau informacijos: https://particle.wiki/wiki/PDG_particle_numbering_scheme"
   ]
  },
  {
   "cell_type": "code",
   "execution_count": null,
   "metadata": {},
   "outputs": [],
   "source": [
    "# Užduotis 2 atliekama čia\n",
    "medis.Draw(\"...\")"
   ]
  },
  {
   "cell_type": "markdown",
   "metadata": {},
   "source": [
    "Histogramos labai naudingos statistinei (daugelio įvykių) analizei. Tačiau pirma pasižiūrėkime nuosekliau, kaip atrodo pasirinktas vienas įvykis"
   ]
  },
  {
   "cell_type": "code",
   "execution_count": null,
   "metadata": {},
   "outputs": [],
   "source": [
    "# Naudojame for ciklą atlikti medžio iteraciją, tačiau sustojame po pirmo įvykio \n",
    "for įvykis in medis:\n",
    "    print(\"Įskaitėme vieną įvykį...\")\n",
    "    \n",
    "    # Atliekame antrą for ciklą kad atlikti vienos šakos iteraciją vienam įvykiui\n",
    "    for i, pt in enumerate(įvykis.lep_pt):\n",
    "        print(f\"Leptono {i} skersinis judesio kiekis: {pt:.1f} MeV\")\n",
    "    break"
   ]
  },
  {
   "cell_type": "markdown",
   "metadata": {},
   "source": [
    "## Pilno įvykio vizualizacija\n",
    "Apačioje matomas vienas \\$Z\\to e^+e^-$ kandidatinis įvykis, užfiksuotas ATLAS detektoriaus 2022 m. liepos mėn. Vaizdiškai išanalizuoti milijardus tokių įvykių neįmanoma, taigi turime pasitelkti kompiuteriniais skaičiavimais.\n",
    "![2](event_display_Zee_Run_427394_Event10631430_5Jul2022.png)"
   ]
  },
  {
   "cell_type": "markdown",
   "metadata": {},
   "source": [
    "## Demonstracija: Z bozono rezonanso rekonstravimas\n",
    "###  Atliksime skaičiavimą keliais etapais:\n",
    "1. Tam tikrame įvykyje identifikuoti abu leptonų kandidatus\n",
    "2. Apskaičiuoti leptonų sistemos invariantinę masę\n",
    "3. Užpildyti leptonų masės histogramą\n",
    "4. Pereiti prie sekančio įvykio ir grįžti prie 1 punkto"
   ]
  },
  {
   "cell_type": "code",
   "execution_count": null,
   "metadata": {},
   "outputs": [],
   "source": [
    "# Sukuriame histogramą (H), vienos-dimensijos (1) ir \"dvigubo tikslumo\" (D) \n",
    "# Paskutiniai trys argumentai apibrėžia intervalų skaičių\n",
    "# bei histogramos apatinę ir viršutinę ribas\n",
    "# pirmas argumentas: pavadinimas\n",
    "# antras argumentas: pavadinimas, x-ašies pavadinimas, y-ašies pavadinimas\n",
    "masės_histograma = ROOT.TH1D(\"masė\", \"masė; Leptonų sistemos masė [GeV]; įvykių skaičius\", \n",
    "                             100, 60, 120)\n",
    "\n",
    "# Skaičiuojame, kiek įvykių pasirinkome iš visų esamų\n",
    "n = 0\n",
    "\n",
    "# Sukurkime po keturmatį vektorių abiems leptonų kandidatams\n",
    "pirmas_leptonas = ROOT.TLorentzVector()\n",
    "antras_leptonas = ROOT.TLorentzVector()\n",
    "\n",
    "for įvykis in medis:\n",
    "    # Įsitikiname, kad yra bent jau du leptonai\n",
    "    # Kitaip praleidžiame šį įvykį\n",
    "    if įvykis.lep_n < 2:\n",
    "        continue\n",
    "\n",
    "    # Leptonų krūviai privalo būti skirtingi\n",
    "    if (įvykis.lep_charge[0] == įvykis.lep_charge[1]):\n",
    "        continue \n",
    "\n",
    "    # Užregistruojame leptonų savybes reikalingas užpildyti keturmatį vektorių\n",
    "    pirmo_pt = įvykis.lep_pt[0]/1000.\n",
    "    antro_pt = įvykis.lep_pt[1]/1000.\n",
    "    pirmo_E = įvykis.lep_E[0]/1000.\n",
    "    antro_E = įvykis.lep_E[1]/1000.\n",
    "\n",
    "    # Padalijome judesio kiekį (impulsą) ir energiją iš 1000, kad paversti vienetus iš MeV į GeV\n",
    "    pirmo_phi = įvykis.lep_phi[0]\n",
    "    antro_phi = įvykis.lep_phi[1]\n",
    "    pirmo_eta = įvykis.lep_eta[0]\n",
    "    antro_eta = įvykis.lep_eta[1]\n",
    "\n",
    "    # ATLAS naudoja ne (px, py, pz, E) atskaitos sistemą, o (pT, eta, phi, E)\n",
    "    # Daugiau informacijos apie tai apačioje (prie klausimų ir užduočių)\n",
    "    pirmas_leptonas.SetPtEtaPhiE(pirmo_pt, pirmo_eta, pirmo_phi, pirmo_E)\n",
    "    antras_leptonas.SetPtEtaPhiE(antro_pt, antro_eta, antro_phi, antro_E)\n",
    "\n",
    "    # Sudedami judesio kiekius gauname sistemos pilną (keturmatį) judesio kiekį:\n",
    "    # p(Z) = p(l1) + p(l2)\n",
    "    sistema = pirmas_leptonas + antras_leptonas\n",
    "    \n",
    "    # Kad gauti sistemos masę labai paprasta:\n",
    "    masė = sistema.M()\n",
    "\n",
    "    # Užpildome histogramą\n",
    "    masės_histograma.Fill(masė)\n",
    "\n",
    "    # Išvedame į ekraną kas 10000 įvykių\n",
    "    if n % 10000 == 0:\n",
    "        print(f\"Pasirinkta {n} įvykių\")\n",
    "        \n",
    "    # Kad pagreitinti skaičiavimą, sustojame ties 100k pasirinktų įvykių\n",
    "    # Jeigu norite padidinti duomenų kiekį, galite ištrinti dvi sekančias eilutes\n",
    "    if n == 100000:\n",
    "        print(\"Baigiame\")\n",
    "        break\n",
    "\n",
    "    n += 1\n",
    "\n",
    "print(f\"Iš viso pasirinkta {n}/{n_viso} įvykių\")"
   ]
  },
  {
   "cell_type": "code",
   "execution_count": null,
   "metadata": {},
   "outputs": [],
   "source": [
    "# Nupieškime drobę ir histogramą\n",
    "drobė.Draw()\n",
    "masės_histograma.SetLineColor(ROOT.kRed)\n",
    "masės_histograma.Draw()"
   ]
  },
  {
   "cell_type": "markdown",
   "metadata": {},
   "source": [
    "## Klausimai ir užduotys:\n",
    "Sveikiname, turėtų aiškiai matytis Z bozono rezonansas, skylant į du leptonus (miuonus arba elektronus)!\n",
    "\n",
    "__Užduotis #3__: ar galite nupiešti dvi atskiras histogramas, vieną $Z\\to\\mu^+\\mu^-$, o kitą $Z\\to e^+e^-$ skilimui?  "
   ]
  },
  {
   "cell_type": "code",
   "execution_count": null,
   "metadata": {},
   "outputs": [],
   "source": [
    "# Užduotis 3 atliekama čia\n",
    "\n",
    "# Sukurkite dvi histogramas\n",
    "# --- jūsų kodas eina čia ---\n",
    "mumu_histograma = ...\n",
    "ee_histograma = ...\n",
    "\n",
    "# Skaičiuojame, kiek įvykių pasirinkome (iš visų įmanomų)\n",
    "n = 0\n",
    "\n",
    "# Sukurkime po keturmatį vektorių abiems leptonų kandidatams\n",
    "pirmas_leptonas = ROOT.TLorentzVector()\n",
    "antras_leptonas = ROOT.TLorentzVector()\n",
    "\n",
    "for įvykis in medis:\n",
    "    # Įsitikiname, kad yra bent jau du leptonai\n",
    "    # Kitaip praleidžiame šį įvykį\n",
    "    if įvykis.lep_n < 2:\n",
    "        continue\n",
    "\n",
    "    # Leptonų krūviai privalo būti skirtingi\n",
    "    if (įvykis.lep_charge[0] == įvykis.lep_charge[1]):\n",
    "        continue \n",
    "        \n",
    "    # Patikrinkite, ar leptonai yra vienodi (toks pat tipas \"type\")\n",
    "    # Jeigu nevienodi, praleiskite įvykį (\"continue\")\n",
    "    # --- jūsų kodas eina čia ---\n",
    "    if ...:\n",
    "        continue\n",
    "\n",
    "    # Užregistruojame leptonų savybes reikalingas užpildyti keturmatį vektorių\n",
    "    pirmo_pt = įvykis.lep_pt[0]/1000.\n",
    "    antro_pt = įvykis.lep_pt[1]/1000.\n",
    "    pirmo_E = įvykis.lep_E[0]/1000.\n",
    "    antro_E = įvykis.lep_E[1]/1000.\n",
    "\n",
    "    pirmo_phi = įvykis.lep_phi[0]\n",
    "    antro_phi = įvykis.lep_phi[1]\n",
    "    pirmo_eta = įvykis.lep_eta[0]\n",
    "    antro_eta = įvykis.lep_eta[1]\n",
    "\n",
    "    pirmas_leptonas.SetPtEtaPhiE(pirmo_pt, pirmo_eta, pirmo_phi, pirmo_E)\n",
    "    antras_leptonas.SetPtEtaPhiE(antro_pt, antro_eta, antro_phi, antro_E)\n",
    "\n",
    "    # p(Z) = p(l1) + p(l2)\n",
    "    sistema = pirmas_leptonas + antras_leptonas\n",
    "    masė = sistema.M()\n",
    "\n",
    "    # Užpildome tinkamą histogramą priklausomai nuo leptonų tipo\n",
    "    # --- jūsų kodas eina čia ---\n",
    "\n",
    "    if ...:\n",
    "        mumu_histograma.Fill(masė)\n",
    "    else:\n",
    "        ee_histograma.Fill(masė)\n",
    "\n",
    "    # Išvedame į ekraną kas 10000 įvykių\n",
    "    if n % 10000 == 0:\n",
    "        print(f\"Pasirinkta {n} įvykių\")\n",
    "        \n",
    "    # Kad pagreitinti skaičiavimą, sustojame ties 100k pasirinktų įvykių\n",
    "    # Jeigu norite padidinti duomenų kiekį, galite ištrinti dvi sekančias eilutes\n",
    "    if n == 100000:\n",
    "        print(\"Baigiame\")\n",
    "        break\n",
    "\n",
    "    n += 1\n",
    "\n",
    "print(f\"Iš viso pasirinkta {n}/{n_viso} įvykių\")"
   ]
  },
  {
   "cell_type": "code",
   "execution_count": null,
   "metadata": {},
   "outputs": [],
   "source": [
    "# Nupieškime drobę ir histogramą\n",
    "drobė.Draw()\n",
    "mumu_histograma.SetLineColor(ROOT.kRed)\n",
    "mumu_histograma.Draw()\n",
    "\n",
    "# Antrą histogramą virš pirmos galima nupiešti toje pačioje drobėje, pasinaudojus `SAME` komanda\n",
    "ee_histograma.Draw(\"SAME\")"
   ]
  },
  {
   "cell_type": "markdown",
   "metadata": {},
   "source": [
    "__Užduotis #4__: Skaičiavome leptonų sistemos masę `ROOT` programos keturmačių vektorių bibliotekos pagalba. Pabandykite apskaičiuoti masę patys, pasinaudodami reliatyvistiniu energijos-judesio kiekio tvermės dėsniu, $E^2 = \\vec{p}^2 + m^2$ (nekreipiame dėmesio į šviesos greičio c konstantas). Tai padarome suskaičiuodami leptonų sistemos (ir tuo pačiu Z bozono) invariantinę masę:  \n",
    "$m^2 = E^2 - \\vec{p}^2 = (E_{\\ell_2} + E_{\\ell_1})^2 - (\\vec{p}_{\\ell_1} + \\vec{p}_{\\ell_2})^2$  \n",
    "\n",
    "__Pastaba:__ kad suskaičiuoti judesio kiekių vektorinę sumą, reikia atskirų $(p_x, p_y, p_z)$ projekcijų. tačiau medyje randamos tik $(p_\\mathrm{T}, \\eta, \\phi)$ koordinatės. Galite pasinaudoti šiomis formulėmis, kad pereiti iš vienos koordinačių sistemos į kitą:  \n",
    "\n",
    "$p_x = p_\\mathrm{T} \\cos{\\phi}, \\quad p_y = p_\\mathrm{T} \\sin{\\phi}, \\quad p_z = p_\\mathrm{T} \\sinh{\\eta}.$\n",
    "\n",
    "Apskaičiuoti trigonometrines ir hiperbolines funkcijas galima su python `math` biblioteka, pvz. `y = math.cos(x)`"
   ]
  },
  {
   "cell_type": "code",
   "execution_count": null,
   "metadata": {},
   "outputs": [],
   "source": [
    "# Sukurkime po keturmatį vektorių abiems leptonų kandidatams\n",
    "pirmas_leptonas = ROOT.TLorentzVector()\n",
    "antras_leptonas = ROOT.TLorentzVector()\n",
    "\n",
    "for įvykis in medis:\n",
    "    if įvykis.lep_n < 2:\n",
    "        continue\n",
    "\n",
    "    if (įvykis.lep_charge[0] == įvykis.lep_charge[1]):\n",
    "        continue \n",
    "\n",
    "    pirmo_pt = įvykis.lep_pt[0]/1000.\n",
    "    antro_pt = įvykis.lep_pt[1]/1000.\n",
    "    pirmo_E = įvykis.lep_E[0]/1000.\n",
    "    antro_E = įvykis.lep_E[1]/1000.\n",
    "\n",
    "    pirmo_phi = įvykis.lep_phi[0]\n",
    "    antro_phi = įvykis.lep_phi[1]\n",
    "    pirmo_eta = įvykis.lep_eta[0]\n",
    "    antro_eta = įvykis.lep_eta[1]\n",
    "\n",
    "    pirmas_leptonas.SetPtEtaPhiE(pirmo_pt, pirmo_eta, pirmo_phi, pirmo_E)\n",
    "    antras_leptonas.SetPtEtaPhiE(antro_pt, antro_eta, antro_phi, antro_E)\n",
    "\n",
    "    # Sudedami judesio kiekius gauname sistemos pilną (keturmatį) judesio kiekį:\n",
    "    # p(Z) = p(l1) + p(l2)\n",
    "    sistema = pirmas_leptonas + antras_leptonas\n",
    "    \n",
    "    # Kad gauti sistemos masę labai paprasta:\n",
    "    masė_root = sistema.M()\n",
    "    \n",
    "    # Apskaičiuokite masę \"rankiniu\" būdu\n",
    "    masė = ...\n",
    "    \n",
    "    print(f\"Palyginame mases: {masė} mūsų apskaičiuota, o turėjo gautis {masė_root}\")\n",
    "    break"
   ]
  }
 ],
 "metadata": {
  "kernelspec": {
   "display_name": "Python 3 (ipykernel)",
   "language": "python",
   "name": "python3"
  },
  "language_info": {
   "codemirror_mode": {
    "name": "ipython",
    "version": 3
   },
   "file_extension": ".py",
   "mimetype": "text/x-python",
   "name": "python",
   "nbconvert_exporter": "python",
   "pygments_lexer": "ipython3",
   "version": "3.10.5"
  },
  "vscode": {
   "interpreter": {
    "hash": "601829bbad2bef4f1009294c13fdd4b5c174626e29fe5e47c407cf94ee86ca2d"
   }
  }
 },
 "nbformat": 4,
 "nbformat_minor": 2
}
