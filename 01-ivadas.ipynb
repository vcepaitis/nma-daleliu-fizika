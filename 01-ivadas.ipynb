{
 "cells": [
  {
   "cell_type": "markdown",
   "metadata": {},
   "source": [
    "![1](ATLASOD.gif)"
   ]
  },
  {
   "cell_type": "markdown",
   "metadata": {},
   "source": [
    "## Pirma pamoka\n",
    "\n",
    "Šioje pamokoje mes:\n",
    "* Susipažinsime su dalelių fizikos CERN ROOT biblioteka\n",
    "* Išmoksime įskaityti failą su ATLAS detektoriumi užfiksuotais susidūrimų duomenimis\n",
    "* Atliksime imtis reikalingas studijuoti $Z\\to\\ell\\ell$ procesą\n",
    "* Apskaičiuosime leptonų sistemos keturmatį vektorių ir nupiešime masės spektros histogramą"
   ]
  },
  {
   "cell_type": "markdown",
   "metadata": {},
   "source": [
    "Z bozonas skyla beveik akimirksniu, įmanoma užfiksuoti tik skilimo produktus"
   ]
  },
  {
   "cell_type": "code",
   "execution_count": null,
   "metadata": {},
   "outputs": [],
   "source": [
    "# Įkraunama ROOT biblioteka\n",
    "import ROOT\n",
    "%jsroot on"
   ]
  },
  {
   "cell_type": "code",
   "execution_count": null,
   "metadata": {},
   "outputs": [],
   "source": [
    "# Duomenų analizę pradedame pasitelkdami simuliacija. Atidarome ROOT failą\n",
    "nuoroda = \"https://atlas-opendata.web.cern.ch/atlas-opendata/samples/2020/1largeRjet1lep/MC/mc_361106.Zee.1largeRjet1lep.root\"\n",
    "failas = ROOT.TFile.Open(nuoroda)\n",
    "# Iš failo nuskaitome \"medį\" (tree) su susidūrimų duomenimis\n",
    "medis = failas.Get(\"mini\")"
   ]
  },
  {
   "cell_type": "code",
   "execution_count": null,
   "metadata": {},
   "outputs": [],
   "source": [
    "# Atliekame paprastas operacijas su nuskaitytu medžiu: išvedame susidūrimų skaičių į ekraną\n",
    "n_viso = medis.GetEntries()\n",
    "print(f\"Faile rasta {n_viso} įvykių\")"
   ]
  },
  {
   "cell_type": "code",
   "execution_count": null,
   "metadata": {},
   "outputs": [],
   "source": [
    "# Pažiūrėkime kokią informaciją galime rasti savo medyje\n",
    "medis.Print()"
   ]
  },
  {
   "cell_type": "markdown",
   "metadata": {},
   "source": [
    "### Kiekviena medžio \"šaka\" aprašo vis kitokį dalyką. Štai poros iš jų paaiškinimas:\n",
    "`runNumber` - duomenų rinkimo periodo numeris  \n",
    "`eventNumber` - unikalus įvykio identifikatorius  \n",
    "`mcWeight` - simuliuoti įvykio svoriai reikalingi norint palyginti simuliuotus duomenis su tikrais duomenimis  \n",
    "`lep_` - leptonų (elektronų ir muonų) duomenys. Pastebėkime, kad šie duomenys talpinami vektoriuje (`vector<float>`). Taip yra dėl to, kad kiekviename įvykyje gali susidaryti įvairus kiekis leptonų\n",
    "`jet_` - hadroninių čiurkšlių duomenys  \n",
    "`photon` - fotonų duomenys  "
   ]
  },
  {
   "cell_type": "code",
   "execution_count": null,
   "metadata": {},
   "outputs": [],
   "source": [
    "# Visi įvykiai yra statistiškai nepriklausomi vienas nuo kito\n",
    "# Pažiūrėkime, kaip atrodo pirmo įvykio leptonų skersinis impulsas (matuojami MeV)\n",
    "# Naudojame for ciklą atlikti iteraciją, tačiau sustojame po pirmo įvykio \n",
    "for įvykis in medis:\n",
    "    print(įvykis.lep_pt)\n",
    "    break"
   ]
  },
  {
   "cell_type": "code",
   "execution_count": null,
   "metadata": {},
   "outputs": [],
   "source": [
    "%timeit\n",
    "# Kiekvienam įvykyje pabandome apskaičiuoti leptonų sistemos masę\n",
    "# vienos-dimensijos, dvigubo tikslumo (H1D) histogramą leptonų sistemos masei\n",
    "masės_histograma = ROOT.TH1D(\"masė\", \"masė\", 100, 60, 120)\n",
    "# Skaičiuojame, kiek įvykių pasirinkome (iš visų įmanomų)\n",
    "n = 0\n",
    "# Sukurkime po keturmatį vektorių abiems leptonų kandidatams\n",
    "pirmas_leptonas = ROOT.TLorentzVector()\n",
    "antras_leptonas = ROOT.TLorentzVector()\n",
    "\n",
    "for įvykis in medis:\n",
    "    # Įsitikiname, kad yra bent jau du leptonai\n",
    "    # Kitaip praleidžiame šį įvykį\n",
    "    if įvykis.lep_n < 2:\n",
    "        continue\n",
    "    # Leptonų krūviai privalo būti skirtingi\n",
    "    if (įvykis.lep_charge[0] == įvykis.lep_charge[1]):\n",
    "        continue   \n",
    "\n",
    "    # Let's define one TLorentz vector for each, e.i. two vectors!\n",
    "    pirmas_leptonas.SetPtEtaPhiE(įvykis.lep_pt[0]/1000., įvykis.lep_eta[0], įvykis.lep_phi[0], įvykis.lep_E[0]/1000.)\n",
    "    antras_leptonas.SetPtEtaPhiE(įvykis.lep_pt[1]/1000., įvykis.lep_eta[1], įvykis.lep_phi[1], įvykis.lep_E[1]/1000.)\n",
    "    # Next line: addition of two TLorentz vectors above --> ask mass very easy \n",
    "    # (devide by 1000 to get value in GeV)\n",
    "    sistema = pirmas_leptonas + antras_leptonas\n",
    "\n",
    "    masės_histograma.Fill(sistema.M())\n",
    "    n += 1\n",
    "    if n % 1000 == 0:\n",
    "        print(f\"Išanalizuota {n} įvykių\")\n",
    "\n",
    "print(f\"Iš viso išanalizuota {n}/{n_viso} įvykių\")"
   ]
  },
  {
   "cell_type": "code",
   "execution_count": null,
   "metadata": {},
   "outputs": [],
   "source": [
    "drobė = ROOT.TCanvas()"
   ]
  },
  {
   "cell_type": "code",
   "execution_count": null,
   "metadata": {
    "scrolled": true
   },
   "outputs": [],
   "source": [
    "# Sekantis etapas sukurti drobę (canvas) ir ją nupiešti.\n",
    "# Drobė savaime būna tuščia, taigi nupiešiame ir histogramą\n",
    "drobė.Draw()\n",
    "masės_histograma.GetXaxis().SetTitle(\"Leptonų sistemos masė [GeV]\")\n",
    "masės_histograma.SetLineColor(ROOT.kRed)\n",
    "masės_histograma.Draw()"
   ]
  },
  {
   "cell_type": "markdown",
   "metadata": {},
   "source": [
    "Sveikiname, aiškiai matome Z bozono rezonansą (90 GeV).  \n",
    "__Užduotis__: ar galite nupiešti dvi histogramas, vieną atskirai $Z\\to\\mu^+\\mu^-$ skilimui, o kitą $Z\\to e^+e^-$?  \n",
    "_Patarimas_: antrą histogramą virš pirmos galite nupiešti naudojantis \"SAME\" komanda, pvz: `histograma2.Draw(\"SAME\")`"
   ]
  },
  {
   "cell_type": "code",
   "execution_count": null,
   "metadata": {},
   "outputs": [],
   "source": []
  }
 ],
 "metadata": {
  "kernelspec": {
   "display_name": "Python 3 (ipykernel)",
   "language": "python",
   "name": "python3"
  },
  "language_info": {
   "codemirror_mode": {
    "name": "ipython",
    "version": 3
   },
   "file_extension": ".py",
   "mimetype": "text/x-python",
   "name": "python",
   "nbconvert_exporter": "python",
   "pygments_lexer": "ipython3",
   "version": "3.10.5"
  },
  "vscode": {
   "interpreter": {
    "hash": "601829bbad2bef4f1009294c13fdd4b5c174626e29fe5e47c407cf94ee86ca2d"
   }
  }
 },
 "nbformat": 4,
 "nbformat_minor": 2
}
