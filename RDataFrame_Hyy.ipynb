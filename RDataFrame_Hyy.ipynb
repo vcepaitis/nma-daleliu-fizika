








<!DOCTYPE html>
<html lang="en">

<head>
  <meta charset="utf-8">
  <title>Jupyter Notebook Viewer</title>
  <meta name="viewport" content="width=device-width, initial-scale=1.0">
  <meta name="description" content="">
  <meta name="author" content="">
  
  <meta name="robots" content="noindex,nofollow">
  

  <!--NEW RELIC Start Perf Measurement-->
  
  <!--NREND-->

  <!-- Le styles -->
  <link href="/static/build/styles.css" rel="stylesheet">

  <!-- Le HTML5 shim, for IE6-8 support of HTML5 elements -->
  <!--[if lt IE 9]>
    <script src="http://html5shim.googlecode.com/svn/trunk/html5.js"></script>
  <![endif]-->

  <!-- Le fav and touch icons -->
  <link rel="shortcut icon" href="/static/ico/ipynb_icon_16x16.png">
  <link rel="apple-touch-icon-precomposed" sizes="144x144"
        href="/static/ico/apple-touch-icon-144-precomposed.png">
  <link rel="apple-touch-icon-precomposed" sizes="114x114"
        href="/static/ico/apple-touch-icon-114-precomposed.png">
  <link rel="apple-touch-icon-precomposed" sizes="72x72"
        href="/static/ico/apple-touch-icon-72-precomposed.png">
  <link rel="apple-touch-icon-precomposed"
        href="/static/ico/apple-touch-icon-57-precomposed.png">
  
  

  

  
  <meta name="twitter:card" content="summary">
  <meta name="twitter:title" content="Notebook on nbviewer">
  <meta name="twitter:description" content="Check out this Jupyter notebook!">

  
  <meta name="twitter:domain" content="nbviewer.jupyter.org">
  <meta name="twitter:image:src" content="http://ipython.org/ipython-doc/dev/_images/ipynb_icon_128x128.png">

  
    <link href="/static/build/notebook.css" rel="stylesheet">
  

  

  
    <script src="https://cdnjs.cloudflare.com/ajax/libs/mathjax/2.7.1/MathJax.js?config=TeX-AMS_HTML" type="text/javascript">
    </script>
    <script type="text/javascript">
      init_mathjax = function() {
        if (window.MathJax) {
          // MathJax loaded
          MathJax.Hub.Config({
            TeX: {
              equationNumbers: {
                autoNumber: "AMS",
                useLabelIds: true
              }
            },
            tex2jax: {
              inlineMath: [ ['$','$'], ["\\(","\\)"] ],
              displayMath: [ ['$$','$$'], ["\\[","\\]"] ],
              processEscapes: true,
              processEnvironments: true
            },
            displayAlign: 'center',
            "HTML-CSS": {
              styles: {'.MathJax_Display': {"margin": 0}},
              linebreaks: { automatic: true }
            }
          });
          MathJax.Hub.Queue(["Typeset", MathJax.Hub]);
        }
      }
      init_mathjax();
    </script>
  

  
    <script>
      (function() {
        function addWidgetsRenderer() {
          var mimeElement = document.querySelector('script[type="application/vnd.jupyter.widget-view+json"]');
          var scriptElement = document.createElement('script');
          var widgetRendererSrc = 'https://unpkg.com/@jupyter-widgets/html-manager@0.15/dist/embed-amd.js';
          var widgetState;

          try {
            widgetState = mimeElement && JSON.parse(mimeElement.innerHTML);

            if (widgetState && (widgetState.version_major < 2 || !widgetState.version_major)) {
              widgetRendererSrc = 'https://unpkg.com/jupyter-js-widgets@2.1/dist/embed.js';
            }
          } catch(e) {}

          scriptElement.src = widgetRendererSrc;
          document.body.appendChild(scriptElement);
        }

        document.addEventListener('DOMContentLoaded', addWidgetsRenderer);
      }());
    </script>
  

</head>

<body class="nbviewer">

  <!-- These are loaded at the top of the body so they are available to
       notebook cells when they are loaded below. -->
  <script src="/static/components/jquery/dist/jquery.min.js"></script>
  <script src="/static/components/requirejs/require.js"></script>
  <script src="/static/components/moment/min/moment.min.js"></script>
<!-- Navbar
================================================== -->
  <nav id="menubar" class="navbar navbar-default navbar-fixed-top" data-spy="affix">
    <div class="container">
      <div class="navbar-header">
        <button type="button" class="navbar-toggle collapsed" data-toggle="collapse" data-target=".navbar-collapse">
          <span class="sr-only">Toggle navigation</span>
          <i class="fa fa-bars"></i>
        </button>
        <a class="navbar-brand" href="/">
          <img src="/static/img/nav_logo.svg" width="159"/>
        </a>
      </div>

      <div class="collapse navbar-collapse">
        <ul class="nav navbar-nav navbar-right">
          <li>
            <a class="active" href="https://jupyter.org">JUPYTER</a>
          </li>
          <li>
    <a href="/faq" title="FAQ" >
      
        <span>FAQ</span>
      
    </a>
  </li>

          
  
    
  
    
      
        <li>
    <a href="script/github/atlas-outreach-data-tools/notebooks-collection-opendata/blob/master/13-TeV-examples/rdataframe/RDataFrame_Hyy.ipynb" title="View as Code" >
      <span class="fa fa-code fa-2x menu-icon"></span>
      <span class="menu-text">View as Code</span>
    </a>
  </li>
      
    
  

  
    <li>
    <a href="#" title="Python 3 (ipykernel) Kernel" >
      <span class="fa fa-server fa-2x menu-icon"></span>
      <span class="menu-text">Python 3 (ipykernel) Kernel</span>
    </a>
  </li>
  

  
    <li>
    <a href="https://github.com/atlas-outreach-data-tools/notebooks-collection-opendata/blob/master/13-TeV-examples/rdataframe/RDataFrame_Hyy.ipynb" title="View on GitHub" >
      <span class="fa fa-github fa-2x menu-icon"></span>
      <span class="menu-text">View on GitHub</span>
    </a>
  </li>
  

  
    <li>
    <a href="https://mybinder.org/v2/gh/atlas-outreach-data-tools/notebooks-collection-opendata/master?filepath=13-TeV-examples/rdataframe/RDataFrame_Hyy.ipynb" title="Execute on Binder" >
      <span class="fa fa-icon-binder fa-2x menu-icon"></span>
      <span class="menu-text">Execute on Binder</span>
    </a>
  </li>
  

  <li>
    <a href="https://raw.githubusercontent.com/atlas-outreach-data-tools/notebooks-collection-opendata/master/13-TeV-examples/rdataframe/RDataFrame_Hyy.ipynb" title="Download Notebook" download>
      <span class="fa fa-download fa-2x menu-icon"></span>
      <span class="menu-text">Download Notebook</span>
    </a>
  </li>

        </ul>
      </div><!-- /.navbar-collapse -->
      
      
    </div>
  </nav>

  <div class="container container-main">
    
  
  <ol class="breadcrumb">
    
      <li>
        <a href="/github/atlas-outreach-data-tools/notebooks-collection-opendata/tree/master">notebooks-collection-opendata</a>
      </li>
    
      <li>
        <a href="/github/atlas-outreach-data-tools/notebooks-collection-opendata/tree/master/13-TeV-examples">13-TeV-examples</a>
      </li>
    
      <li>
        <a href="/github/atlas-outreach-data-tools/notebooks-collection-opendata/tree/master/13-TeV-examples/rdataframe">rdataframe</a>
      </li>
    
  </ol>
  
  <div id="notebook">
    <div id="notebook-container">
      <div class="cell border-box-sizing code_cell rendered">
<div class="input">
<div class="prompt input_prompt">In&nbsp;[1]:</div>
<div class="inner_cell">
    <div class="input_area">
<div class=" highlight hl-ipython3"><pre><span></span><span class="kn">import</span> <span class="nn">ROOT</span>
<span class="kn">import</span> <span class="nn">os</span>
</pre></div>

    </div>
</div>
</div>

<div class="output_wrapper">
<div class="output">


<div class="output_area">

    <div class="prompt"></div>


<div class="output_subarea output_stream output_stdout output_text">
<pre>Welcome to JupyROOT 6.26/04
</pre>
</div>
</div>

</div>
</div>

</div>
<div class="cell border-box-sizing code_cell rendered">
<div class="input">
<div class="prompt input_prompt">In&nbsp;[&nbsp;]:</div>
<div class="inner_cell">
    <div class="input_area">
<div class=" highlight hl-ipython3"><pre><span></span><span class="c1"># Enable multi-threading</span>
<span class="n">ROOT</span><span class="o">.</span><span class="n">ROOT</span><span class="o">.</span><span class="n">EnableImplicitMT</span><span class="p">()</span>
</pre></div>

    </div>
</div>
</div>

</div>
<div class="cell border-box-sizing code_cell rendered">
<div class="input">
<div class="prompt input_prompt">In&nbsp;[2]:</div>
<div class="inner_cell">
    <div class="input_area">
<div class=" highlight hl-ipython3"><pre><span></span><span class="n">path</span> <span class="o">=</span> <span class="s2">&quot;https://atlas-opendata.web.cern.ch/atlas-opendata/samples/2020/&quot;</span>

<span class="k">def</span> <span class="nf">get_data_samples</span><span class="p">():</span>
    <span class="n">samples</span> <span class="o">=</span> <span class="n">ROOT</span><span class="o">.</span><span class="n">std</span><span class="o">.</span><span class="n">vector</span><span class="p">(</span><span class="s2">&quot;string&quot;</span><span class="p">)()</span>
    <span class="k">for</span> <span class="n">tag</span> <span class="ow">in</span> <span class="p">[</span><span class="s2">&quot;A&quot;</span><span class="p">,</span> <span class="s2">&quot;B&quot;</span><span class="p">,</span> <span class="s2">&quot;C&quot;</span><span class="p">,</span> <span class="s2">&quot;D&quot;</span><span class="p">]:</span>
        <span class="n">samples</span><span class="o">.</span><span class="n">push_back</span><span class="p">(</span><span class="n">os</span><span class="o">.</span><span class="n">path</span><span class="o">.</span><span class="n">join</span><span class="p">(</span><span class="n">path</span><span class="p">,</span> <span class="s2">&quot;GamGam/Data/data_</span><span class="si">{}</span><span class="s2">.GamGam.root&quot;</span><span class="o">.</span><span class="n">format</span><span class="p">(</span><span class="n">tag</span><span class="p">)))</span>
    <span class="k">return</span> <span class="n">samples</span>

<span class="k">def</span> <span class="nf">get_ggH125_samples</span><span class="p">():</span>
    <span class="n">samples</span> <span class="o">=</span> <span class="n">ROOT</span><span class="o">.</span><span class="n">std</span><span class="o">.</span><span class="n">vector</span><span class="p">(</span><span class="s2">&quot;string&quot;</span><span class="p">)()</span>
    <span class="n">samples</span><span class="o">.</span><span class="n">push_back</span><span class="p">(</span><span class="n">os</span><span class="o">.</span><span class="n">path</span><span class="o">.</span><span class="n">join</span><span class="p">(</span><span class="n">path</span><span class="p">,</span> <span class="s2">&quot;GamGam/MC/mc_343981.ggH125_gamgam.GamGam.root&quot;</span><span class="p">))</span>
    <span class="k">return</span> <span class="n">samples</span>
</pre></div>

    </div>
</div>
</div>

</div>
<div class="cell border-box-sizing code_cell rendered">
<div class="input">
<div class="prompt input_prompt">In&nbsp;[3]:</div>
<div class="inner_cell">
    <div class="input_area">
<div class=" highlight hl-ipython3"><pre><span></span><span class="n">df</span> <span class="o">=</span> <span class="p">{}</span>
<span class="n">df</span><span class="p">[</span><span class="s2">&quot;data&quot;</span><span class="p">]</span> <span class="o">=</span> <span class="n">ROOT</span><span class="o">.</span><span class="n">RDataFrame</span><span class="p">(</span><span class="s2">&quot;mini&quot;</span><span class="p">,</span> <span class="n">get_data_samples</span><span class="p">())</span>
<span class="n">df</span><span class="p">[</span><span class="s2">&quot;ggH&quot;</span><span class="p">]</span> <span class="o">=</span> <span class="n">ROOT</span><span class="o">.</span><span class="n">RDataFrame</span><span class="p">(</span><span class="s2">&quot;mini&quot;</span><span class="p">,</span> <span class="n">get_ggH125_samples</span><span class="p">())</span>
<span class="n">processes</span> <span class="o">=</span> <span class="nb">list</span><span class="p">(</span><span class="n">df</span><span class="o">.</span><span class="n">keys</span><span class="p">())</span>
</pre></div>

    </div>
</div>
</div>

</div>
<div class="cell border-box-sizing code_cell rendered">
<div class="input">
<div class="prompt input_prompt">In&nbsp;[4]:</div>
<div class="inner_cell">
    <div class="input_area">
<div class=" highlight hl-ipython3"><pre><span></span><span class="c1"># Apply scale factors and MC weight for simulated events and a weight of 1 for the data</span>
<span class="k">for</span> <span class="n">p</span> <span class="ow">in</span> <span class="p">[</span><span class="s2">&quot;ggH&quot;</span><span class="p">]:</span>
    <span class="n">df</span><span class="p">[</span><span class="n">p</span><span class="p">]</span> <span class="o">=</span> <span class="n">df</span><span class="p">[</span><span class="n">p</span><span class="p">]</span><span class="o">.</span><span class="n">Define</span><span class="p">(</span><span class="s2">&quot;weight&quot;</span><span class="p">,</span> <span class="s2">&quot;scaleFactor_PHOTON * scaleFactor_PhotonTRIGGER * scaleFactor_PILEUP * mcWeight&quot;</span><span class="p">);</span>
<span class="n">df</span><span class="p">[</span><span class="s2">&quot;data&quot;</span><span class="p">]</span> <span class="o">=</span> <span class="n">df</span><span class="p">[</span><span class="s2">&quot;data&quot;</span><span class="p">]</span><span class="o">.</span><span class="n">Define</span><span class="p">(</span><span class="s2">&quot;weight&quot;</span><span class="p">,</span> <span class="s2">&quot;1.0&quot;</span><span class="p">)</span>
</pre></div>

    </div>
</div>
</div>

</div>
<div class="cell border-box-sizing code_cell rendered">
<div class="input">
<div class="prompt input_prompt">In&nbsp;[5]:</div>
<div class="inner_cell">
    <div class="input_area">
<div class=" highlight hl-ipython3"><pre><span></span><span class="k">for</span> <span class="n">p</span> <span class="ow">in</span> <span class="n">processes</span><span class="p">:</span>
    <span class="c1"># Apply preselection cut on photon trigger</span>
    <span class="n">df</span><span class="p">[</span><span class="n">p</span><span class="p">]</span> <span class="o">=</span> <span class="n">df</span><span class="p">[</span><span class="n">p</span><span class="p">]</span><span class="o">.</span><span class="n">Filter</span><span class="p">(</span><span class="s2">&quot;trigP&quot;</span><span class="p">)</span>

    <span class="c1"># Find two good muons with tight ID, pt &gt; 25 GeV and not in the transition region between barrel and encap</span>
    <span class="n">df</span><span class="p">[</span><span class="n">p</span><span class="p">]</span> <span class="o">=</span> <span class="n">df</span><span class="p">[</span><span class="n">p</span><span class="p">]</span><span class="o">.</span><span class="n">Define</span><span class="p">(</span><span class="s2">&quot;goodphotons&quot;</span><span class="p">,</span> <span class="s2">&quot;photon_isTightID &amp;&amp; (photon_pt &gt; 25000) &amp;&amp; (abs(photon_eta) &lt; 2.37) &amp;&amp; ((abs(photon_eta) &lt; 1.37) || (abs(photon_eta) &gt; 1.52))&quot;</span><span class="p">)</span>\
                 <span class="o">.</span><span class="n">Filter</span><span class="p">(</span><span class="s2">&quot;Sum(goodphotons) == 2&quot;</span><span class="p">)</span>

    <span class="c1"># Take only isolated photons</span>
    <span class="n">df</span><span class="p">[</span><span class="n">p</span><span class="p">]</span> <span class="o">=</span> <span class="n">df</span><span class="p">[</span><span class="n">p</span><span class="p">]</span><span class="o">.</span><span class="n">Filter</span><span class="p">(</span><span class="s2">&quot;Sum(photon_ptcone30[goodphotons] / photon_pt[goodphotons] &lt; 0.065) == 2&quot;</span><span class="p">)</span>\
                 <span class="o">.</span><span class="n">Filter</span><span class="p">(</span><span class="s2">&quot;Sum(photon_etcone20[goodphotons] / photon_pt[goodphotons] &lt; 0.065) == 2&quot;</span><span class="p">)</span>
</pre></div>

    </div>
</div>
</div>

</div>
<div class="cell border-box-sizing code_cell rendered">
<div class="input">
<div class="prompt input_prompt">In&nbsp;[6]:</div>
<div class="inner_cell">
    <div class="input_area">
<div class=" highlight hl-ipython3"><pre><span></span><span class="n">ROOT</span><span class="o">.</span><span class="n">gInterpreter</span><span class="o">.</span><span class="n">Declare</span><span class="p">(</span>
<span class="sd">&quot;&quot;&quot;</span>
<span class="sd">#include &lt;math.h&gt; // for M_PI</span>
<span class="sd">using Vec_t = const ROOT::VecOps::RVec&lt;float&gt;;</span>
<span class="sd">float ComputeInvariantMass(Vec_t&amp; pt, Vec_t&amp; eta, Vec_t&amp; phi, Vec_t&amp; e) {</span>
<span class="sd">    float dphi = abs(phi[0] - phi[1]);</span>
<span class="sd">    dphi = dphi &lt; M_PI ? dphi : 2 * M_PI - dphi;</span>
<span class="sd">    return sqrt(2 * pt[0] / 1000.0 * pt[1] / 1000.0 * (cosh(eta[0] - eta[1]) - cos(dphi)));</span>
<span class="sd">}</span>
<span class="sd">&quot;&quot;&quot;</span><span class="p">);</span>
</pre></div>

    </div>
</div>
</div>

</div>
<div class="cell border-box-sizing code_cell rendered">
<div class="input">
<div class="prompt input_prompt">In&nbsp;[7]:</div>
<div class="inner_cell">
    <div class="input_area">
<div class=" highlight hl-ipython3"><pre><span></span><span class="n">hists</span> <span class="o">=</span> <span class="p">{}</span>
<span class="k">for</span> <span class="n">p</span> <span class="ow">in</span> <span class="n">processes</span><span class="p">:</span>
    <span class="c1"># Make four vectors and compute invariant mass</span>
    <span class="n">df</span><span class="p">[</span><span class="n">p</span><span class="p">]</span> <span class="o">=</span> <span class="n">df</span><span class="p">[</span><span class="n">p</span><span class="p">]</span><span class="o">.</span><span class="n">Define</span><span class="p">(</span><span class="s2">&quot;m_yy&quot;</span><span class="p">,</span> <span class="s2">&quot;ComputeInvariantMass(photon_pt[goodphotons], photon_eta[goodphotons], photon_phi[goodphotons], photon_E[goodphotons])&quot;</span><span class="p">)</span>

    <span class="c1"># Make additional kinematic cuts and select mass window</span>
    <span class="n">df</span><span class="p">[</span><span class="n">p</span><span class="p">]</span> <span class="o">=</span> <span class="n">df</span><span class="p">[</span><span class="n">p</span><span class="p">]</span><span class="o">.</span><span class="n">Filter</span><span class="p">(</span><span class="s2">&quot;photon_pt[goodphotons][0] / 1000.0 / m_yy &gt; 0.35&quot;</span><span class="p">)</span>\
                 <span class="o">.</span><span class="n">Filter</span><span class="p">(</span><span class="s2">&quot;photon_pt[goodphotons][1] / 1000.0 / m_yy &gt; 0.25&quot;</span><span class="p">)</span>\
                 <span class="o">.</span><span class="n">Filter</span><span class="p">(</span><span class="s2">&quot;(m_yy &gt; 105) &amp;&amp; (m_yy &lt; 160)&quot;</span><span class="p">)</span>

    <span class="c1"># Book histogram of the invariant mass with this selection</span>
    <span class="n">hists</span><span class="p">[</span><span class="n">p</span><span class="p">]</span> <span class="o">=</span> <span class="n">df</span><span class="p">[</span><span class="n">p</span><span class="p">]</span><span class="o">.</span><span class="n">Histo1D</span><span class="p">(</span>
            <span class="n">ROOT</span><span class="o">.</span><span class="n">ROOT</span><span class="o">.</span><span class="n">RDF</span><span class="o">.</span><span class="n">TH1DModel</span><span class="p">(</span><span class="n">p</span><span class="p">,</span> <span class="s2">&quot;Diphoton invariant mass; m_{#gamma#gamma} [GeV];Events / bin&quot;</span><span class="p">,</span> <span class="mi">30</span><span class="p">,</span> <span class="mi">105</span><span class="p">,</span> <span class="mi">160</span><span class="p">),</span>
            <span class="s2">&quot;m_yy&quot;</span><span class="p">,</span> <span class="s2">&quot;weight&quot;</span><span class="p">)</span>
</pre></div>

    </div>
</div>
</div>

</div>
<div class="cell border-box-sizing code_cell rendered">
<div class="input">
<div class="prompt input_prompt">In&nbsp;[8]:</div>
<div class="inner_cell">
    <div class="input_area">
<div class=" highlight hl-ipython3"><pre><span></span><span class="c1"># Run the event loop</span>
<span class="n">ggh</span> <span class="o">=</span> <span class="n">hists</span><span class="p">[</span><span class="s2">&quot;ggH&quot;</span><span class="p">]</span><span class="o">.</span><span class="n">GetValue</span><span class="p">()</span>
<span class="n">data</span> <span class="o">=</span> <span class="n">hists</span><span class="p">[</span><span class="s2">&quot;data&quot;</span><span class="p">]</span><span class="o">.</span><span class="n">GetValue</span><span class="p">()</span>
</pre></div>

    </div>
</div>
</div>

</div>
<div class="cell border-box-sizing code_cell rendered">
<div class="input">
<div class="prompt input_prompt">In&nbsp;[9]:</div>
<div class="inner_cell">
    <div class="input_area">
<div class=" highlight hl-ipython3"><pre><span></span><span class="c1"># Set styles</span>
<span class="n">ROOT</span><span class="o">.</span><span class="n">gStyle</span><span class="o">.</span><span class="n">SetOptStat</span><span class="p">(</span><span class="mi">0</span><span class="p">)</span>
<span class="n">ROOT</span><span class="o">.</span><span class="n">gStyle</span><span class="o">.</span><span class="n">SetOptTitle</span><span class="p">(</span><span class="mi">0</span><span class="p">)</span>
<span class="n">ROOT</span><span class="o">.</span><span class="n">gStyle</span><span class="o">.</span><span class="n">SetMarkerStyle</span><span class="p">(</span><span class="mi">20</span><span class="p">)</span>
<span class="n">ROOT</span><span class="o">.</span><span class="n">gStyle</span><span class="o">.</span><span class="n">SetMarkerSize</span><span class="p">(</span><span class="mf">1.2</span><span class="p">)</span>
<span class="n">size</span> <span class="o">=</span> <span class="mf">0.08</span>
<span class="n">ROOT</span><span class="o">.</span><span class="n">gStyle</span><span class="o">.</span><span class="n">SetLabelSize</span><span class="p">(</span><span class="n">size</span><span class="p">,</span> <span class="s2">&quot;x&quot;</span><span class="p">)</span>
<span class="n">ROOT</span><span class="o">.</span><span class="n">gStyle</span><span class="o">.</span><span class="n">SetLabelSize</span><span class="p">(</span><span class="n">size</span><span class="p">,</span> <span class="s2">&quot;y&quot;</span><span class="p">)</span>
<span class="n">ROOT</span><span class="o">.</span><span class="n">gStyle</span><span class="o">.</span><span class="n">SetTitleSize</span><span class="p">(</span><span class="n">size</span><span class="p">,</span> <span class="s2">&quot;x&quot;</span><span class="p">)</span>
<span class="n">ROOT</span><span class="o">.</span><span class="n">gStyle</span><span class="o">.</span><span class="n">SetTitleSize</span><span class="p">(</span><span class="n">size</span><span class="p">,</span> <span class="s2">&quot;y&quot;</span><span class="p">)</span>

<span class="c1"># Create canvas with pads for main plot and data/MC ratio</span>
<span class="n">c</span> <span class="o">=</span> <span class="n">ROOT</span><span class="o">.</span><span class="n">TCanvas</span><span class="p">(</span><span class="s2">&quot;c&quot;</span><span class="p">,</span> <span class="s2">&quot;&quot;</span><span class="p">,</span> <span class="mi">700</span><span class="p">,</span> <span class="mi">750</span><span class="p">)</span>

<span class="n">upper_pad</span> <span class="o">=</span> <span class="n">ROOT</span><span class="o">.</span><span class="n">TPad</span><span class="p">(</span><span class="s2">&quot;upper_pad&quot;</span><span class="p">,</span> <span class="s2">&quot;&quot;</span><span class="p">,</span> <span class="mi">0</span><span class="p">,</span> <span class="mf">0.29</span><span class="p">,</span> <span class="mi">1</span><span class="p">,</span> <span class="mi">1</span><span class="p">)</span>
<span class="n">lower_pad</span> <span class="o">=</span> <span class="n">ROOT</span><span class="o">.</span><span class="n">TPad</span><span class="p">(</span><span class="s2">&quot;lower_pad&quot;</span><span class="p">,</span> <span class="s2">&quot;&quot;</span><span class="p">,</span> <span class="mi">0</span><span class="p">,</span> <span class="mi">0</span><span class="p">,</span> <span class="mi">1</span><span class="p">,</span> <span class="mf">0.29</span><span class="p">)</span>
<span class="k">for</span> <span class="n">p</span> <span class="ow">in</span> <span class="p">[</span><span class="n">upper_pad</span><span class="p">,</span> <span class="n">lower_pad</span><span class="p">]:</span>
    <span class="n">p</span><span class="o">.</span><span class="n">SetLeftMargin</span><span class="p">(</span><span class="mf">0.14</span><span class="p">)</span>
    <span class="n">p</span><span class="o">.</span><span class="n">SetRightMargin</span><span class="p">(</span><span class="mf">0.05</span><span class="p">)</span>
<span class="n">upper_pad</span><span class="o">.</span><span class="n">SetBottomMargin</span><span class="p">(</span><span class="mi">0</span><span class="p">)</span>
<span class="n">lower_pad</span><span class="o">.</span><span class="n">SetTopMargin</span><span class="p">(</span><span class="mi">0</span><span class="p">)</span>

<span class="n">upper_pad</span><span class="o">.</span><span class="n">Draw</span><span class="p">()</span>
<span class="n">lower_pad</span><span class="o">.</span><span class="n">Draw</span><span class="p">()</span>

<span class="n">data</span><span class="o">.</span><span class="n">SetStats</span><span class="p">(</span><span class="mi">0</span><span class="p">)</span>
<span class="n">data</span><span class="o">.</span><span class="n">SetTitle</span><span class="p">(</span><span class="s2">&quot;&quot;</span><span class="p">)</span>

<span class="c1"># Fit signal + background model to data</span>
<span class="n">upper_pad</span><span class="o">.</span><span class="n">cd</span><span class="p">()</span>
<span class="n">fit</span> <span class="o">=</span> <span class="n">ROOT</span><span class="o">.</span><span class="n">TF1</span><span class="p">(</span><span class="s2">&quot;fit&quot;</span><span class="p">,</span> <span class="s2">&quot;([0]+[1]*x+[2]*x^2+[3]*x^3)+[4]*exp(-0.5*((x-[5])/[6])^2)&quot;</span><span class="p">,</span> <span class="mi">105</span><span class="p">,</span> <span class="mi">160</span><span class="p">)</span>
<span class="n">fit</span><span class="o">.</span><span class="n">FixParameter</span><span class="p">(</span><span class="mi">5</span><span class="p">,</span> <span class="mf">125.0</span><span class="p">)</span>
<span class="n">fit</span><span class="o">.</span><span class="n">FixParameter</span><span class="p">(</span><span class="mi">4</span><span class="p">,</span> <span class="mf">119.1</span><span class="p">)</span>
<span class="n">fit</span><span class="o">.</span><span class="n">FixParameter</span><span class="p">(</span><span class="mi">6</span><span class="p">,</span> <span class="mf">2.39</span><span class="p">)</span>
<span class="n">data</span><span class="o">.</span><span class="n">Fit</span><span class="p">(</span><span class="s2">&quot;fit&quot;</span><span class="p">,</span> <span class="s2">&quot;&quot;</span><span class="p">,</span> <span class="s2">&quot;E SAME&quot;</span><span class="p">,</span> <span class="mi">105</span><span class="p">,</span> <span class="mi">160</span><span class="p">)</span>
<span class="n">fit</span><span class="o">.</span><span class="n">SetLineColor</span><span class="p">(</span><span class="mi">2</span><span class="p">)</span>
<span class="n">fit</span><span class="o">.</span><span class="n">SetLineStyle</span><span class="p">(</span><span class="mi">1</span><span class="p">)</span>
<span class="n">fit</span><span class="o">.</span><span class="n">SetLineWidth</span><span class="p">(</span><span class="mi">2</span><span class="p">)</span>
<span class="n">fit</span><span class="o">.</span><span class="n">Draw</span><span class="p">(</span><span class="s2">&quot;SAME&quot;</span><span class="p">)</span>

<span class="c1"># Draw background</span>
<span class="n">bkg</span> <span class="o">=</span> <span class="n">ROOT</span><span class="o">.</span><span class="n">TF1</span><span class="p">(</span><span class="s2">&quot;bkg&quot;</span><span class="p">,</span> <span class="s2">&quot;([0]+[1]*x+[2]*x^2+[3]*x^3)&quot;</span><span class="p">,</span> <span class="mi">105</span><span class="p">,</span> <span class="mi">160</span><span class="p">)</span>
<span class="k">for</span> <span class="n">i</span> <span class="ow">in</span> <span class="nb">range</span><span class="p">(</span><span class="mi">4</span><span class="p">):</span>
    <span class="n">bkg</span><span class="o">.</span><span class="n">SetParameter</span><span class="p">(</span><span class="n">i</span><span class="p">,</span> <span class="n">fit</span><span class="o">.</span><span class="n">GetParameter</span><span class="p">(</span><span class="n">i</span><span class="p">))</span>
<span class="n">bkg</span><span class="o">.</span><span class="n">SetLineColor</span><span class="p">(</span><span class="mi">4</span><span class="p">)</span>
<span class="n">bkg</span><span class="o">.</span><span class="n">SetLineStyle</span><span class="p">(</span><span class="mi">2</span><span class="p">)</span>
<span class="n">bkg</span><span class="o">.</span><span class="n">SetLineWidth</span><span class="p">(</span><span class="mi">2</span><span class="p">)</span>
<span class="n">bkg</span><span class="o">.</span><span class="n">Draw</span><span class="p">(</span><span class="s2">&quot;SAME&quot;</span><span class="p">)</span>

<span class="c1"># Draw data</span>
<span class="n">data</span><span class="o">.</span><span class="n">SetMarkerStyle</span><span class="p">(</span><span class="mi">20</span><span class="p">)</span>
<span class="n">data</span><span class="o">.</span><span class="n">SetMarkerSize</span><span class="p">(</span><span class="mf">1.2</span><span class="p">)</span>
<span class="n">data</span><span class="o">.</span><span class="n">SetLineWidth</span><span class="p">(</span><span class="mi">2</span><span class="p">)</span>
<span class="n">data</span><span class="o">.</span><span class="n">SetLineColor</span><span class="p">(</span><span class="n">ROOT</span><span class="o">.</span><span class="n">kBlack</span><span class="p">)</span>
<span class="n">data</span><span class="o">.</span><span class="n">Draw</span><span class="p">(</span><span class="s2">&quot;E SAME&quot;</span><span class="p">)</span>
<span class="n">data</span><span class="o">.</span><span class="n">SetMinimum</span><span class="p">(</span><span class="mf">1e-3</span><span class="p">)</span>
<span class="n">data</span><span class="o">.</span><span class="n">SetMaximum</span><span class="p">(</span><span class="mf">8e3</span><span class="p">)</span>

<span class="c1"># Scale simulated events with luminosity * cross-section / sum of weights</span>
<span class="c1"># and merge to single Higgs signal</span>
<span class="n">lumi</span> <span class="o">=</span> <span class="mf">10064.0</span>
<span class="n">ggh</span><span class="o">.</span><span class="n">Scale</span><span class="p">(</span><span class="n">lumi</span> <span class="o">*</span> <span class="mf">0.102</span> <span class="o">/</span> <span class="n">ggh</span><span class="o">.</span><span class="n">Integral</span><span class="p">())</span>
<span class="n">higgs</span> <span class="o">=</span> <span class="n">ggh</span>
<span class="n">higgs</span><span class="o">.</span><span class="n">Draw</span><span class="p">(</span><span class="s2">&quot;HIST SAME&quot;</span><span class="p">)</span>

<span class="c1"># Draw ratio</span>
<span class="n">lower_pad</span><span class="o">.</span><span class="n">cd</span><span class="p">()</span>

<span class="n">ratiofit</span> <span class="o">=</span> <span class="n">ROOT</span><span class="o">.</span><span class="n">TH1F</span><span class="p">(</span><span class="s2">&quot;ratiofit&quot;</span><span class="p">,</span> <span class="s2">&quot;ratiofit&quot;</span><span class="p">,</span> <span class="mi">5500</span><span class="p">,</span> <span class="mi">105</span><span class="p">,</span> <span class="mi">160</span><span class="p">)</span>
<span class="n">ratiofit</span><span class="o">.</span><span class="n">Eval</span><span class="p">(</span><span class="n">fit</span><span class="p">)</span>
<span class="n">ratiofit</span><span class="o">.</span><span class="n">SetLineColor</span><span class="p">(</span><span class="mi">2</span><span class="p">)</span>
<span class="n">ratiofit</span><span class="o">.</span><span class="n">SetLineStyle</span><span class="p">(</span><span class="mi">1</span><span class="p">)</span>
<span class="n">ratiofit</span><span class="o">.</span><span class="n">SetLineWidth</span><span class="p">(</span><span class="mi">2</span><span class="p">)</span>
<span class="n">ratiofit</span><span class="o">.</span><span class="n">Add</span><span class="p">(</span><span class="n">bkg</span><span class="p">,</span> <span class="o">-</span><span class="mi">1</span><span class="p">)</span>
<span class="n">ratiofit</span><span class="o">.</span><span class="n">Draw</span><span class="p">()</span>
<span class="n">ratiofit</span><span class="o">.</span><span class="n">SetMinimum</span><span class="p">(</span><span class="o">-</span><span class="mi">150</span><span class="p">)</span>
<span class="n">ratiofit</span><span class="o">.</span><span class="n">SetMaximum</span><span class="p">(</span><span class="mi">225</span><span class="p">)</span>
<span class="n">ratiofit</span><span class="o">.</span><span class="n">GetYaxis</span><span class="p">()</span><span class="o">.</span><span class="n">SetTitle</span><span class="p">(</span><span class="s2">&quot;Data - bkg&quot;</span><span class="p">)</span>
<span class="n">ratiofit</span><span class="o">.</span><span class="n">GetYaxis</span><span class="p">()</span><span class="o">.</span><span class="n">CenterTitle</span><span class="p">()</span>
<span class="n">ratiofit</span><span class="o">.</span><span class="n">GetYaxis</span><span class="p">()</span><span class="o">.</span><span class="n">SetNdivisions</span><span class="p">(</span><span class="mi">503</span><span class="p">,</span> <span class="kc">False</span><span class="p">)</span>
<span class="n">ratiofit</span><span class="o">.</span><span class="n">SetTitle</span><span class="p">(</span><span class="s2">&quot;&quot;</span><span class="p">)</span>
<span class="n">ratiofit</span><span class="o">.</span><span class="n">GetXaxis</span><span class="p">()</span><span class="o">.</span><span class="n">SetTitle</span><span class="p">(</span><span class="s2">&quot;m_{#gamma#gamma} [GeV]&quot;</span><span class="p">)</span>

<span class="n">ratio</span> <span class="o">=</span> <span class="n">data</span><span class="o">.</span><span class="n">Clone</span><span class="p">()</span>
<span class="n">ratio</span><span class="o">.</span><span class="n">Add</span><span class="p">(</span><span class="n">bkg</span><span class="p">,</span> <span class="o">-</span><span class="mi">1</span><span class="p">)</span>
<span class="n">ratio</span><span class="o">.</span><span class="n">Draw</span><span class="p">(</span><span class="s2">&quot;E SAME&quot;</span><span class="p">)</span>
<span class="k">for</span> <span class="n">i</span> <span class="ow">in</span> <span class="nb">range</span><span class="p">(</span><span class="mi">1</span><span class="p">,</span> <span class="n">data</span><span class="o">.</span><span class="n">GetNbinsX</span><span class="p">()):</span>
    <span class="n">ratio</span><span class="o">.</span><span class="n">SetBinError</span><span class="p">(</span><span class="n">i</span><span class="p">,</span> <span class="n">data</span><span class="o">.</span><span class="n">GetBinError</span><span class="p">(</span><span class="n">i</span><span class="p">))</span>

<span class="c1"># Add legend</span>
<span class="n">upper_pad</span><span class="o">.</span><span class="n">cd</span><span class="p">()</span>
<span class="n">legend</span> <span class="o">=</span> <span class="n">ROOT</span><span class="o">.</span><span class="n">TLegend</span><span class="p">(</span><span class="mf">0.60</span><span class="p">,</span> <span class="mf">0.55</span><span class="p">,</span> <span class="mf">0.89</span><span class="p">,</span> <span class="mf">0.85</span><span class="p">)</span>
<span class="n">legend</span><span class="o">.</span><span class="n">SetFillStyle</span><span class="p">(</span><span class="mi">0</span><span class="p">)</span>
<span class="n">legend</span><span class="o">.</span><span class="n">SetBorderSize</span><span class="p">(</span><span class="mi">0</span><span class="p">)</span>
<span class="n">legend</span><span class="o">.</span><span class="n">SetTextSize</span><span class="p">(</span><span class="mf">0.05</span><span class="p">)</span>
<span class="n">legend</span><span class="o">.</span><span class="n">SetTextAlign</span><span class="p">(</span><span class="mi">32</span><span class="p">)</span>
<span class="n">legend</span><span class="o">.</span><span class="n">AddEntry</span><span class="p">(</span><span class="n">data</span><span class="p">,</span> <span class="s2">&quot;Data&quot;</span> <span class="p">,</span><span class="s2">&quot;lep&quot;</span><span class="p">)</span>
<span class="n">legend</span><span class="o">.</span><span class="n">AddEntry</span><span class="p">(</span><span class="n">bkg</span><span class="p">,</span> <span class="s2">&quot;Background&quot;</span><span class="p">,</span> <span class="s2">&quot;l&quot;</span><span class="p">)</span>
<span class="n">legend</span><span class="o">.</span><span class="n">AddEntry</span><span class="p">(</span><span class="n">fit</span><span class="p">,</span> <span class="s2">&quot;Signal + Bkg.&quot;</span><span class="p">,</span> <span class="s2">&quot;l&quot;</span><span class="p">)</span>
<span class="n">legend</span><span class="o">.</span><span class="n">AddEntry</span><span class="p">(</span><span class="n">higgs</span><span class="p">,</span> <span class="s2">&quot;Signal&quot;</span><span class="p">,</span> <span class="s2">&quot;l&quot;</span><span class="p">)</span>
<span class="n">legend</span><span class="o">.</span><span class="n">Draw</span><span class="p">(</span><span class="s2">&quot;SAME&quot;</span><span class="p">)</span>

<span class="c1"># Add ATLAS label</span>
<span class="n">text</span> <span class="o">=</span> <span class="n">ROOT</span><span class="o">.</span><span class="n">TLatex</span><span class="p">()</span>
<span class="n">text</span><span class="o">.</span><span class="n">SetNDC</span><span class="p">()</span>
<span class="n">text</span><span class="o">.</span><span class="n">SetTextFont</span><span class="p">(</span><span class="mi">72</span><span class="p">)</span>
<span class="n">text</span><span class="o">.</span><span class="n">SetTextSize</span><span class="p">(</span><span class="mf">0.05</span><span class="p">)</span>
<span class="n">text</span><span class="o">.</span><span class="n">DrawLatex</span><span class="p">(</span><span class="mf">0.18</span><span class="p">,</span> <span class="mf">0.84</span><span class="p">,</span> <span class="s2">&quot;ATLAS&quot;</span><span class="p">)</span>

<span class="n">text</span><span class="o">.</span><span class="n">SetTextFont</span><span class="p">(</span><span class="mi">42</span><span class="p">)</span>
<span class="n">text</span><span class="o">.</span><span class="n">DrawLatex</span><span class="p">(</span><span class="mf">0.18</span> <span class="o">+</span> <span class="mf">0.13</span><span class="p">,</span> <span class="mf">0.84</span><span class="p">,</span> <span class="s2">&quot;Open Data&quot;</span><span class="p">)</span>

<span class="n">text</span><span class="o">.</span><span class="n">SetTextSize</span><span class="p">(</span><span class="mf">0.04</span><span class="p">)</span>
<span class="n">text</span><span class="o">.</span><span class="n">DrawLatex</span><span class="p">(</span><span class="mf">0.18</span><span class="p">,</span> <span class="mf">0.78</span><span class="p">,</span> <span class="s2">&quot;#sqrt</span><span class="si">{s}</span><span class="s2"> = 13 TeV, 10 fb^{-1}&quot;</span><span class="p">);</span>
</pre></div>

    </div>
</div>
</div>

<div class="output_wrapper">
<div class="output">


<div class="output_area">

    <div class="prompt"></div>


<div class="output_subarea output_stream output_stdout output_text">
<pre> FCN=19.9699 FROM HESSE     STATUS=NOT POSDEF     23 CALLS         158 TOTAL
                     EDM=1.4731e-12    STRATEGY= 1      ERR MATRIX NOT POS-DEF
  EXT PARAMETER                APPROXIMATE        STEP         FIRST   
  NO.   NAME      VALUE            ERROR          SIZE      DERIVATIVE 
   1  p0           9.43251e+04   7.20493e+01   2.24889e-02   5.99861e-09
   2  p1          -1.77723e+03   7.78129e-01   4.23724e-04  -1.19823e-06
   3  p2           1.15606e+01   5.36067e-03   2.75626e-06  -1.16631e-04
   4  p3          -2.56281e-02   2.66825e-05   6.11022e-09   1.78897e-02
   5  p4           1.19100e+02     fixed    
   6  p5           1.25000e+02     fixed    
   7  p6           2.39000e+00     fixed    
</pre>
</div>
</div>

</div>
</div>

</div>
<div class="cell border-box-sizing code_cell rendered">
<div class="input">
<div class="prompt input_prompt">In&nbsp;[10]:</div>
<div class="inner_cell">
    <div class="input_area">
<div class=" highlight hl-ipython3"><pre><span></span><span class="o">%</span><span class="k">jsroot</span> on
<span class="n">c</span><span class="o">.</span><span class="n">Draw</span><span class="p">()</span>
</pre></div>

    </div>
</div>
</div>

<div class="output_wrapper">
<div class="output">


<div class="output_area">

    <div class="prompt"></div>



<div class="output_html rendered_html output_subarea ">


<div id="root_plot_1659002240121"
     style="width: 696px; height: 722px">
</div>
<script>

function display_root_plot_1659002240121(Core) {
   let obj = Core.parse({"_typename":"TCanvas","fUniqueID":0,"fBits":3342344,"fLineColor":1,"fLineStyle":1,"fLineWidth":1,"fFillColor":0,"fFillStyle":1001,"fLeftMargin":0.1,"fRightMargin":0.1,"fBottomMargin":0.1,"fTopMargin":0.1,"fXfile":2,"fYfile":2,"fAfile":1,"fXstat":0.99,"fYstat":0.99,"fAstat":2,"fFrameFillColor":0,"fFrameLineColor":1,"fFrameFillStyle":1001,"fFrameLineStyle":1,"fFrameLineWidth":1,"fFrameBorderSize":1,"fFrameBorderMode":0,"fX1":0,"fY1":0,"fX2":1,"fY2":1,"fXtoAbsPixelk":5e-5,"fXtoPixelk":5e-5,"fXtoPixel":696,"fYtoAbsPixelk":722.00005,"fYtoPixelk":722.00005,"fYtoPixel":-722,"fUtoAbsPixelk":5e-5,"fUtoPixelk":5e-5,"fUtoPixel":696,"fVtoAbsPixelk":722.00005,"fVtoPixelk":722,"fVtoPixel":-722,"fAbsPixeltoXk":0,"fPixeltoXk":0,"fPixeltoX":0.0014367816091954,"fAbsPixeltoYk":1,"fPixeltoYk":0,"fPixeltoY":-0.00138504155124654,"fXlowNDC":0,"fYlowNDC":0,"fXUpNDC":1,"fYUpNDC":1,"fWNDC":1,"fHNDC":1,"fAbsXlowNDC":0,"fAbsYlowNDC":0,"fAbsWNDC":1,"fAbsHNDC":1,"fUxmin":0,"fUymin":0,"fUxmax":1,"fUymax":1,"fTheta":30,"fPhi":30,"fAspectRatio":0,"fNumber":0,"fTickx":0,"fTicky":0,"fLogx":0,"fLogy":0,"fLogz":0,"fPadPaint":0,"fCrosshair":0,"fCrosshairPos":0,"fBorderSize":2,"fBorderMode":0,"fModified":false,"fGridx":false,"fGridy":false,"fAbsCoord":false,"fEditable":true,"fFixedAspectRatio":false,"fPrimitives":{"_typename":"TList","name":"TList","arr":[{"_typename":"TPad","fUniqueID":0,"fBits":9,"fLineColor":1,"fLineStyle":1,"fLineWidth":1,"fFillColor":0,"fFillStyle":1001,"fLeftMargin":0.14,"fRightMargin":0.05,"fBottomMargin":0,"fTopMargin":0.1,"fXfile":2,"fYfile":2,"fAfile":1,"fXstat":0.99,"fYstat":0.99,"fAstat":2,"fFrameFillColor":0,"fFrameLineColor":1,"fFrameFillStyle":1001,"fFrameLineStyle":1,"fFrameLineWidth":1,"fFrameBorderSize":1,"fFrameBorderMode":0,"fX1":95.4938271480024,"fY1":0.001,"fX2":163.395061768992,"fY2":8888.88881457076,"fXtoAbsPixelk":-978.829040015753,"fXtoPixelk":-978.829040015753,"fXtoPixel":10.2501818101677,"fYtoAbsPixelk":512.620107669757,"fYtoPixelk":512.620107669757,"fYtoPixel":-0.0576697569700123,"fUtoAbsPixelk":5e-5,"fUtoPixelk":5e-5,"fUtoPixel":696,"fVtoAbsPixelk":512.62005,"fVtoPixelk":512.62,"fVtoPixel":-512.62,"fAbsPixeltoXk":95.4938271480024,"fPixeltoXk":95.4938271480024,"fPixeltoX":0.0975592451451004,"fAbsPixeltoYk":8888.88881457076,"fPixeltoYk":0.001,"fPixeltoY":-17.3401112219008,"fXlowNDC":0,"fYlowNDC":0.29,"fXUpNDC":1,"fYUpNDC":1,"fWNDC":1,"fHNDC":0.71,"fAbsXlowNDC":0,"fAbsYlowNDC":0.29,"fAbsWNDC":1,"fAbsHNDC":0.71,"fUxmin":105,"fUymin":0.001,"fUxmax":160,"fUymax":8000,"fTheta":30,"fPhi":30,"fAspectRatio":0,"fNumber":0,"fTickx":0,"fTicky":0,"fLogx":0,"fLogy":0,"fLogz":0,"fPadPaint":0,"fCrosshair":0,"fCrosshairPos":0,"fBorderSize":2,"fBorderMode":0,"fModified":false,"fGridx":false,"fGridy":false,"fAbsCoord":false,"fEditable":true,"fFixedAspectRatio":false,"fPrimitives":{"_typename":"TList","name":"TList","arr":[{"_typename":"TFrame","fUniqueID":0,"fBits":8,"fLineColor":1,"fLineStyle":1,"fLineWidth":1,"fFillColor":0,"fFillStyle":1001,"fX1":105,"fY1":0.001,"fX2":160,"fY2":8000,"fBorderSize":1,"fBorderMode":0},{"_typename":"TH1D","fUniqueID":0,"fBits":520,"fName":"data","fTitle":"","fLineColor":1,"fLineStyle":1,"fLineWidth":2,"fFillColor":0,"fFillStyle":1001,"fMarkerColor":1,"fMarkerStyle":20,"fMarkerSize":1.2,"fNcells":32,"fXaxis":{"_typename":"TAxis","fUniqueID":0,"fBits":0,"fName":"xaxis","fTitle":" m_{#gamma#gamma} [GeV]","fNdivisions":510,"fAxisColor":1,"fLabelColor":1,"fLabelFont":42,"fLabelOffset":0.005,"fLabelSize":0.035,"fTickLength":0.03,"fTitleOffset":1,"fTitleSize":0.035,"fTitleColor":1,"fTitleFont":42,"fNbins":30,"fXmin":105,"fXmax":160,"fXbins":[],"fFirst":0,"fLast":0,"fBits2":0,"fTimeDisplay":false,"fTimeFormat":"","fLabels":null,"fModLabs":null},"fYaxis":{"_typename":"TAxis","fUniqueID":0,"fBits":0,"fName":"yaxis","fTitle":"Events \/ bin","fNdivisions":510,"fAxisColor":1,"fLabelColor":1,"fLabelFont":42,"fLabelOffset":0.005,"fLabelSize":0.035,"fTickLength":0.03,"fTitleOffset":0,"fTitleSize":0.035,"fTitleColor":1,"fTitleFont":42,"fNbins":1,"fXmin":0,"fXmax":1,"fXbins":[],"fFirst":0,"fLast":0,"fBits2":0,"fTimeDisplay":false,"fTimeFormat":"","fLabels":null,"fModLabs":null},"fZaxis":{"_typename":"TAxis","fUniqueID":0,"fBits":0,"fName":"zaxis","fTitle":"","fNdivisions":510,"fAxisColor":1,"fLabelColor":1,"fLabelFont":42,"fLabelOffset":0.005,"fLabelSize":0.035,"fTickLength":0.03,"fTitleOffset":1,"fTitleSize":0.035,"fTitleColor":1,"fTitleFont":42,"fNbins":1,"fXmin":0,"fXmax":1,"fXbins":[],"fFirst":0,"fLast":0,"fBits2":0,"fTimeDisplay":false,"fTimeFormat":"","fLabels":null,"fModLabs":null},"fBarOffset":0,"fBarWidth":1000,"fEntries":76394,"fTsumw":76394,"fTsumw2":76394,"fTsumwx":9551741.98863983,"fTsumwx2":1211291759.80275,"fMaximum":8000,"fMinimum":0.001,"fNormFactor":0,"fContour":[],"fSumw2":[],"fOption":"","fFunctions":{"_typename":"TList","name":"TList","arr":[{"_typename":"TF1","fUniqueID":0,"fBits":1024,"fName":"fit","fTitle":"([0]+[1]*x+[2]*x^2+[3]*x^3)+[4]*exp(-0.5*((x-[5])\/[6])^2)","fLineColor":2,"fLineStyle":1,"fLineWidth":2,"fFillColor":19,"fFillStyle":0,"fMarkerColor":1,"fMarkerStyle":20,"fMarkerSize":1.2,"fXmin":105,"fXmax":160,"fNpar":7,"fNdim":1,"fNpx":100,"fType":0,"fNpfits":30,"fNDF":26,"fChisquare":19.9698714122389,"fMinimum":-1111,"fMaximum":-1111,"fParErrors":{"$arr":"Float64","len":7,"v":[72.0492809363188,0.77812881971233,0.00536067128612383,2.66825081041491e-5]},"fParMin":{"$arr":"Float64","len":7,"p":4,"v":[119.1,125,2.39]},"fParMax":{"$arr":"Float64","len":7,"p":4,"v":[119.1,125,2.39]},"fSave":{"$arr":"Float64","len":103,"v":[5504.10869809532,5396.7248000327,5291.42538782041,5188.18487816985,5086.97768779243,4987.77823339994,4890.56093170515,4795.30019942674,4701.9704533077,4610.54611019157,4521.00158731077,4433.31130331712,4347.44968174724,4263.39116197294,4181.11023168338,4100.58151720186,4021.78001845617,3944.68167966904,3869.26467958375,3795.5121361879,3723.41733596263,3652.9929854154,3584.28600652636,3517.39847725076,3452.5127616984,3389.91430813244,3329.99967554925,3273.25245760803,3220.16998449029,3171.13334292689,3126.23401668412,3085.09801665677,3046.7713834084,3009.73438848532,2972.0849003216,2931.87655547771,2887.53349247598,2838.21962451624,2784.04147208333,2726.01468971882,2665.80595929194,2605.33831511089,2546.38637000016,2490.27518099871,2437.74428094857,2388.97431060108,2343.72528349915,2301.51736929947,2261.79528068182,2224.04305366634,2187.84257001479,2152.88703164707,2118.96733838709,2085.94767757116,2053.74111732966,2022.29029153235,1991.55423883514,1961.5004095458,1932.10026000483,1903.32702505041,1875.15467756765,1847.55747733772,1820.50978878285,1793.98601218449,1767.96055938299,1742.40784572617,1717.30228756513,1692.61830152111,1668.33030428437,1644.41271256148,1620.83994306279,1597.58641249952,1574.62653758297,1551.93473502457,1529.48542153559,1507.25301382745,1485.21192861161,1463.33658259938,1441.6013925022,1419.98077503128,1398.4491468982,1376.98092481415,1355.55052549072,1334.13236563905,1312.7008619707,1291.23043119695,1269.69549002926,1248.07045517889,1226.3297433573,1204.44777127591,1182.398955646,1160.15771317897,1137.69846058622,1114.99561457914,1092.02359186906,1068.75680916735,1045.16968318546,1021.23663063471,996.932068226524,972.230412672216,947.106080683254,105,160]},"fNormalized":false,"fNormIntegral":0,"fFormula":{"_typename":"TFormula","fUniqueID":0,"fBits":1024,"fName":"fit","fTitle":"([0]+[1]*x+[2]*x^2+[3]*x^3)+[4]*exp(-0.5*((x-[5])\/[6])^2)","fClingParameters":{"$arr":"Float64","len":7,"v":[94325.1322027807,-1777.22529590735,11.560581012309,-0.0256281378642656,119.1,125,2.39]},"fAllParametersSetted":true,"fParams":[{"$pair":"pair<TString,int,TFormulaParamOrder>","first":"p0","second":0},{"$pair":"pair<TString,int,TFormulaParamOrder>","first":"p1","second":1},{"$pair":"pair<TString,int,TFormulaParamOrder>","first":"p2","second":2},{"$pair":"pair<TString,int,TFormulaParamOrder>","first":"p3","second":3},{"$pair":"pair<TString,int,TFormulaParamOrder>","first":"p4","second":4},{"$pair":"pair<TString,int,TFormulaParamOrder>","first":"p5","second":5},{"$pair":"pair<TString,int,TFormulaParamOrder>","first":"p6","second":6}],"fFormula":"([p0]+[p1]*x+[p2]*pow(x,2)+[p3]*pow(x,3))+[p4]*exp(-0.5*pow(((x-[p5])\/[p6]),2))","fNdim":1,"fLinearParts":[],"fVectorized":false},"fParams":null,"fComposition":null}],"opt":[""]},"fBufferSize":0,"fBuffer":[],"fBinStatErrOpt":0,"fStatOverflows":2,"fArray":{"$arr":"Float64","len":32,"p":1,"v":[5391,4944,4715,4287,4123,3864,3586,3382,3181,3076,2970,2730,2596,2371,2227,2136,2075,1886,1769,1795,1719,1623,1505,1407,1288,1317,1216,1148,1064,1003]}},{"_typename":"TF1","fUniqueID":0,"fBits":8,"fName":"fit","fTitle":"([0]+[1]*x+[2]*x^2+[3]*x^3)+[4]*exp(-0.5*((x-[5])\/[6])^2)","fLineColor":2,"fLineStyle":1,"fLineWidth":2,"fFillColor":19,"fFillStyle":0,"fMarkerColor":1,"fMarkerStyle":20,"fMarkerSize":1.2,"fXmin":105,"fXmax":160,"fNpar":7,"fNdim":1,"fNpx":100,"fType":0,"fNpfits":30,"fNDF":26,"fChisquare":19.9698714122389,"fMinimum":-1111,"fMaximum":-1111,"fParErrors":{"$arr":"Float64","len":7,"v":[72.0492809363188,0.77812881971233,0.00536067128612383,2.66825081041491e-5]},"fParMin":{"$arr":"Float64","len":7,"p":4,"v":[119.1,125,2.39]},"fParMax":{"$arr":"Float64","len":7,"p":4,"v":[119.1,125,2.39]},"fSave":[],"fNormalized":false,"fNormIntegral":0,"fFormula":{"_typename":"TFormula","fUniqueID":0,"fBits":1024,"fName":"fit","fTitle":"([0]+[1]*x+[2]*x^2+[3]*x^3)+[4]*exp(-0.5*((x-[5])\/[6])^2)","fClingParameters":{"$arr":"Float64","len":7,"v":[94325.1322027807,-1777.22529590735,11.560581012309,-0.0256281378642656,119.1,125,2.39]},"fAllParametersSetted":true,"fParams":[{"$pair":"pair<TString,int,TFormulaParamOrder>","first":"p0","second":0},{"$pair":"pair<TString,int,TFormulaParamOrder>","first":"p1","second":1},{"$pair":"pair<TString,int,TFormulaParamOrder>","first":"p2","second":2},{"$pair":"pair<TString,int,TFormulaParamOrder>","first":"p3","second":3},{"$pair":"pair<TString,int,TFormulaParamOrder>","first":"p4","second":4},{"$pair":"pair<TString,int,TFormulaParamOrder>","first":"p5","second":5},{"$pair":"pair<TString,int,TFormulaParamOrder>","first":"p6","second":6}],"fFormula":"([p0]+[p1]*x+[p2]*pow(x,2)+[p3]*pow(x,3))+[p4]*exp(-0.5*pow(((x-[p5])\/[p6]),2))","fNdim":1,"fLinearParts":[],"fVectorized":false},"fParams":null,"fComposition":null},{"_typename":"TF1","fUniqueID":0,"fBits":8,"fName":"bkg","fTitle":"([0]+[1]*x+[2]*x^2+[3]*x^3)","fLineColor":4,"fLineStyle":2,"fLineWidth":2,"fFillColor":19,"fFillStyle":0,"fMarkerColor":1,"fMarkerStyle":20,"fMarkerSize":1.2,"fXmin":105,"fXmax":160,"fNpar":4,"fNdim":1,"fNpx":100,"fType":0,"fNpfits":0,"fNDF":0,"fChisquare":0,"fMinimum":-1111,"fMaximum":-1111,"fParErrors":[0,0,0,0],"fParMin":[0,0,0,0],"fParMax":[0,0,0,0],"fSave":[],"fNormalized":false,"fNormIntegral":0,"fFormula":{"_typename":"TFormula","fUniqueID":0,"fBits":1024,"fName":"bkg","fTitle":"([0]+[1]*x+[2]*x^2+[3]*x^3)","fClingParameters":[94325.1322027807,-1777.22529590735,11.560581012309,-0.0256281378642656],"fAllParametersSetted":true,"fParams":[{"$pair":"pair<TString,int,TFormulaParamOrder>","first":"p0","second":0},{"$pair":"pair<TString,int,TFormulaParamOrder>","first":"p1","second":1},{"$pair":"pair<TString,int,TFormulaParamOrder>","first":"p2","second":2},{"$pair":"pair<TString,int,TFormulaParamOrder>","first":"p3","second":3}],"fFormula":"([p0]+[p1]*x+[p2]*pow(x,2)+[p3]*pow(x,3))","fNdim":1,"fLinearParts":[],"fVectorized":false},"fParams":null,"fComposition":null},{"$ref":5},{"_typename":"TH1D","fUniqueID":0,"fBits":8,"fName":"ggH","fTitle":"Diphoton invariant mass","fLineColor":602,"fLineStyle":1,"fLineWidth":1,"fFillColor":0,"fFillStyle":1001,"fMarkerColor":1,"fMarkerStyle":1,"fMarkerSize":1,"fNcells":32,"fXaxis":{"_typename":"TAxis","fUniqueID":0,"fBits":0,"fName":"xaxis","fTitle":" m_{#gamma#gamma} [GeV]","fNdivisions":510,"fAxisColor":1,"fLabelColor":1,"fLabelFont":42,"fLabelOffset":0.005,"fLabelSize":0.035,"fTickLength":0.03,"fTitleOffset":1,"fTitleSize":0.035,"fTitleColor":1,"fTitleFont":42,"fNbins":30,"fXmin":105,"fXmax":160,"fXbins":[],"fFirst":0,"fLast":0,"fBits2":0,"fTimeDisplay":false,"fTimeFormat":"","fLabels":null,"fModLabs":null},"fYaxis":{"_typename":"TAxis","fUniqueID":0,"fBits":0,"fName":"yaxis","fTitle":"Events \/ bin","fNdivisions":510,"fAxisColor":1,"fLabelColor":1,"fLabelFont":42,"fLabelOffset":0.005,"fLabelSize":0.035,"fTickLength":0.03,"fTitleOffset":0,"fTitleSize":0.035,"fTitleColor":1,"fTitleFont":42,"fNbins":1,"fXmin":0,"fXmax":1,"fXbins":[],"fFirst":0,"fLast":0,"fBits2":0,"fTimeDisplay":false,"fTimeFormat":"","fLabels":null,"fModLabs":null},"fZaxis":{"_typename":"TAxis","fUniqueID":0,"fBits":0,"fName":"zaxis","fTitle":"","fNdivisions":510,"fAxisColor":1,"fLabelColor":1,"fLabelFont":42,"fLabelOffset":0.005,"fLabelSize":0.035,"fTickLength":0.03,"fTitleOffset":1,"fTitleSize":0.035,"fTitleColor":1,"fTitleFont":42,"fNbins":1,"fXmin":0,"fXmax":1,"fXbins":[],"fFirst":0,"fLast":0,"fBits2":0,"fTimeDisplay":false,"fTimeFormat":"","fLabels":null,"fModLabs":null},"fBarOffset":0,"fBarWidth":1000,"fEntries":684143,"fTsumw":1026.528,"fTsumw2":1.76358336524946,"fTsumwx":128229.471598224,"fTsumwx2":16024782.3174121,"fMaximum":-1111,"fMinimum":-1111,"fNormFactor":0,"fContour":[],"fSumw2":{"$arr":"Float64","len":32,"p":1,"v":[8.78872141931629e-5,1.83046605402147e-4,2.68126677602649e-4,5.13718324446993e-4,0.00108595465388568,0.00269432831253373,0.00873042447299305,0.0309612817378119,0.103811177816382,0.282088864045967,0.520225612463198,0.480385023796123,0.230138461165755,0.0751536633733277,0.0205645355412489,0.00485982446237291,0.0011077608363731,3.97462245915358e-4,1.18435858699082e-4,1.34713531480237e-4,2.93694471653131e-5,2.04035955038685e-5,1.24458225681667e-5,4.00065642304888e-6,0,0,8.21079445616477e-7,3.40724956943386e-6,8.65699909355204e-7,1.74856285551755e-6]},"fOption":"","fFunctions":{"_typename":"TList","name":"TList","arr":[],"opt":[]},"fBufferSize":0,"fBuffer":[],"fBinStatErrOpt":0,"fStatOverflows":2,"fArray":{"$arr":"Float64","len":32,"p":1,"v":[0.0503378332560401,0.101457974296248,0.151946883741912,0.297488540996231,0.6341075259969,1.56653981982534,5.065067744052,18.0960041271253,60.3706834683866,164.795308066533,301.943635574715,279.375130224628,134.216036493364,43.9779327448643,12.0178159105452,2.8134069626238,0.643842924344209,0.231246024943583,0.0658712075588556,0.068673125815374,0.0195744474101982,0.0115694609700606,0.00680309770208265,0.0025150459886755,0,0,9.06134341925344e-4,0.00184587366020372,9.30429959403288e-4,0.00132233235440927]}},{"_typename":"TLegend","fUniqueID":0,"fBits":8,"fLineColor":1,"fLineStyle":1,"fLineWidth":1,"fFillColor":0,"fFillStyle":0,"fX1":136.234567920596,"fY1":4888.88929801392,"fX2":155.925925960683,"fY2":7555.55564238515,"fX1NDC":0.6,"fY1NDC":0.55,"fX2NDC":0.89,"fY2NDC":0.85,"fBorderSize":0,"fInit":1,"fShadowColor":1,"fCornerRadius":0,"fOption":"brNDC","fName":"TPave","fTextAngle":0,"fTextSize":0.05,"fTextAlign":32,"fTextColor":1,"fTextFont":42,"fPrimitives":{"_typename":"TList","name":"TList","arr":[{"_typename":"TLegendEntry","fUniqueID":0,"fBits":0,"fTextAngle":0,"fTextSize":0,"fTextAlign":0,"fTextColor":0,"fTextFont":42,"fLineColor":1,"fLineStyle":1,"fLineWidth":2,"fFillColor":0,"fFillStyle":0,"fMarkerColor":1,"fMarkerStyle":20,"fMarkerSize":1.2,"fObject":{"$ref":5},"fLabel":"Data","fOption":"lep"},{"_typename":"TLegendEntry","fUniqueID":0,"fBits":0,"fTextAngle":0,"fTextSize":0,"fTextAlign":0,"fTextColor":0,"fTextFont":42,"fLineColor":4,"fLineStyle":2,"fLineWidth":2,"fFillColor":0,"fFillStyle":0,"fMarkerColor":1,"fMarkerStyle":21,"fMarkerSize":1,"fObject":{"$ref":14},"fLabel":"Background","fOption":"l"},{"_typename":"TLegendEntry","fUniqueID":0,"fBits":0,"fTextAngle":0,"fTextSize":0,"fTextAlign":0,"fTextColor":0,"fTextFont":42,"fLineColor":2,"fLineStyle":1,"fLineWidth":2,"fFillColor":0,"fFillStyle":0,"fMarkerColor":1,"fMarkerStyle":21,"fMarkerSize":1,"fObject":{"$ref":12},"fLabel":"Signal + Bkg.","fOption":"l"},{"_typename":"TLegendEntry","fUniqueID":0,"fBits":0,"fTextAngle":0,"fTextSize":0,"fTextAlign":0,"fTextColor":0,"fTextFont":42,"fLineColor":602,"fLineStyle":1,"fLineWidth":1,"fFillColor":0,"fFillStyle":0,"fMarkerColor":1,"fMarkerStyle":21,"fMarkerSize":1,"fObject":{"$ref":16},"fLabel":"Signal","fOption":"l"}],"opt":["lep","l","l","l"]},"fEntrySeparation":0.1,"fMargin":0.25,"fNColumns":1,"fColumnSeparation":0},{"_typename":"TLatex","fUniqueID":0,"fBits":16393,"fName":"","fTitle":"ATLAS","fTextAngle":0,"fTextSize":0.05,"fTextAlign":11,"fTextColor":1,"fTextFont":72,"fX":0.18,"fY":0.84,"fLineColor":1,"fLineStyle":1,"fLineWidth":2,"fLimitFactorSize":3,"fOriginSize":0.04},{"_typename":"TLatex","fUniqueID":0,"fBits":16393,"fName":"","fTitle":"Open Data","fTextAngle":0,"fTextSize":0.05,"fTextAlign":11,"fTextColor":1,"fTextFont":42,"fX":0.31,"fY":0.84,"fLineColor":1,"fLineStyle":1,"fLineWidth":2,"fLimitFactorSize":3,"fOriginSize":0.04},{"_typename":"TLatex","fUniqueID":0,"fBits":16393,"fName":"","fTitle":"#sqrt{s} = 13 TeV, 10 fb^{-1}","fTextAngle":0,"fTextSize":0.04,"fTextAlign":11,"fTextColor":1,"fTextFont":42,"fX":0.18,"fY":0.78,"fLineColor":1,"fLineStyle":1,"fLineWidth":2,"fLimitFactorSize":3,"fOriginSize":0.04}],"opt":["","E ","SAME","SAME","E SAME","HIST SAME","SAME","","",""]},"fExecs":{"_typename":"TList","name":"TList","arr":[],"opt":[]},"fName":"upper_pad","fTitle":"","fNumPaletteColor":0,"fNextPaletteColor":0},{"_typename":"TPad","fUniqueID":0,"fBits":9,"fLineColor":1,"fLineStyle":1,"fLineWidth":1,"fFillColor":0,"fFillStyle":1001,"fLeftMargin":0.14,"fRightMargin":0.05,"fBottomMargin":0.1,"fTopMargin":0,"fXfile":2,"fYfile":2,"fAfile":1,"fXstat":0.99,"fYstat":0.99,"fAstat":2,"fFrameFillColor":0,"fFrameLineColor":1,"fFrameFillStyle":1001,"fFrameLineStyle":1,"fFrameLineWidth":1,"fFrameBorderSize":1,"fFrameBorderMode":0,"fX1":95.4938271480024,"fY1":-191.666668391338,"fX2":163.395061768992,"fY2":225,"fXtoAbsPixelk":-978.829040015753,"fXtoPixelk":-978.829040015753,"fXtoPixel":10.2501818101677,"fYtoAbsPixelk":625.685249531999,"fYtoPixelk":113.065249531999,"fYtoPixel":-0.502511997919997,"fUtoAbsPixelk":5e-5,"fUtoPixelk":5e-5,"fUtoPixel":696,"fVtoAbsPixelk":722.00005,"fVtoPixelk":209.38,"fVtoPixel":-209.38,"fAbsPixeltoXk":95.4938271480024,"fPixeltoXk":95.4938271480024,"fPixeltoX":0.0975592451451004,"fAbsPixeltoYk":1245.11494675121,"fPixeltoYk":-191.666668391338,"fPixeltoY":-1.99000223703954,"fXlowNDC":0,"fYlowNDC":0,"fXUpNDC":1,"fYUpNDC":0.29,"fWNDC":1,"fHNDC":0.29,"fAbsXlowNDC":0,"fAbsYlowNDC":0,"fAbsWNDC":1,"fAbsHNDC":0.29,"fUxmin":105,"fUymin":-150,"fUxmax":160,"fUymax":225,"fTheta":30,"fPhi":30,"fAspectRatio":0,"fNumber":0,"fTickx":0,"fTicky":0,"fLogx":0,"fLogy":0,"fLogz":0,"fPadPaint":0,"fCrosshair":0,"fCrosshairPos":0,"fBorderSize":2,"fBorderMode":0,"fModified":false,"fGridx":false,"fGridy":false,"fAbsCoord":false,"fEditable":true,"fFixedAspectRatio":false,"fPrimitives":{"_typename":"TList","name":"TList","arr":[{"_typename":"TFrame","fUniqueID":0,"fBits":8,"fLineColor":1,"fLineStyle":1,"fLineWidth":1,"fFillColor":0,"fFillStyle":1001,"fX1":105,"fY1":-150,"fX2":160,"fY2":225,"fBorderSize":1,"fBorderMode":0},{"_typename":"TH1F","fUniqueID":0,"fBits":520,"fName":"ratiofit","fTitle":"","fLineColor":2,"fLineStyle":1,"fLineWidth":2,"fFillColor":0,"fFillStyle":1001,"fMarkerColor":1,"fMarkerStyle":20,"fMarkerSize":1.2,"fNcells":5502,"fXaxis":{"_typename":"TAxis","fUniqueID":0,"fBits":0,"fName":"xaxis","fTitle":"m_{#gamma#gamma} [GeV]","fNdivisions":510,"fAxisColor":1,"fLabelColor":1,"fLabelFont":42,"fLabelOffset":0.005,"fLabelSize":0.08,"fTickLength":0.03,"fTitleOffset":1,"fTitleSize":0.08,"fTitleColor":1,"fTitleFont":42,"fNbins":5500,"fXmin":105,"fXmax":160,"fXbins":[],"fFirst":0,"fLast":0,"fBits2":0,"fTimeDisplay":false,"fTimeFormat":"","fLabels":null,"fModLabs":null},"fYaxis":{"_typename":"TAxis","fUniqueID":0,"fBits":4096,"fName":"yaxis","fTitle":"Data - bkg","fNdivisions":-503,"fAxisColor":1,"fLabelColor":1,"fLabelFont":42,"fLabelOffset":0.005,"fLabelSize":0.08,"fTickLength":0.03,"fTitleOffset":0,"fTitleSize":0.08,"fTitleColor":1,"fTitleFont":42,"fNbins":1,"fXmin":0,"fXmax":1,"fXbins":[],"fFirst":0,"fLast":0,"fBits2":0,"fTimeDisplay":false,"fTimeFormat":"","fLabels":null,"fModLabs":null},"fZaxis":{"_typename":"TAxis","fUniqueID":0,"fBits":0,"fName":"zaxis","fTitle":"","fNdivisions":510,"fAxisColor":1,"fLabelColor":1,"fLabelFont":42,"fLabelOffset":0.005,"fLabelSize":0.035,"fTickLength":0.03,"fTitleOffset":1,"fTitleSize":0.035,"fTitleColor":1,"fTitleFont":42,"fNbins":1,"fXmin":0,"fXmax":1,"fXbins":[],"fFirst":0,"fLast":0,"fBits2":0,"fTimeDisplay":false,"fTimeFormat":"","fLabels":null,"fModLabs":null},"fBarOffset":0,"fBarWidth":1000,"fEntries":0,"fTsumw":0,"fTsumw2":0,"fTsumwx":0,"fTsumwx2":0,"fMaximum":225,"fMinimum":-150,"fNormFactor":0,"fContour":[],"fSumw2":[],"fOption":"","fFunctions":{"_typename":"TList","name":"TList","arr":[],"opt":[]},"fBufferSize":0,"fBuffer":[],"fBinStatErrOpt":0,"fStatOverflows":2,"fArray":{"$arr":"Float32","len":5502,"p":636,"v":4.882812e-4,"p1":674,"v1":4.882812e-4,"p2":694,"v2":[4.882812e-4,0,4.882812e-4],"p3":709,"v3":[4.882812e-4,4.882812e-4,0,0,0,4.882812e-4],"p4":727,"v4":[4.882812e-4,0,0,0,0,0,0,0,0,4.882812e-4,0,4.882812e-4,0,0,4.882812e-4,0,4.882812e-4,0,0,4.882812e-4,0,4.882812e-4,0,0,0,4.882812e-4,0,0,0,0,0,4.882812e-4,0,0,0,4.882812e-4,0,4.882812e-4,4.882812e-4,4.882812e-4,4.882812e-4,0,4.882812e-4,0,0,0,4.882812e-4,0,0,4.882812e-4,4.882812e-4,0,4.882812e-4,0,4.882812e-4,4.882812e-4,4.882812e-4,0,4.882812e-4,4.882812e-4,0,4.882812e-4,4.882812e-4,0,4.882812e-4,4.882812e-4,4.882812e-4,4.882812e-4,4.882812e-4,0],"v5":4.882812e-4,"n5":20,"v6":[9.765625e-4,4.882812e-4,9.765625e-4,4.882812e-4,4.882812e-4,4.882812e-4,4.882812e-4,9.765625e-4,4.882812e-4,4.882812e-4,9.765625e-4,9.765625e-4,7.324219e-4,7.324219e-4,7.324219e-4,9.765625e-4,7.324219e-4,7.324219e-4,7.324219e-4,9.765625e-4,9.765625e-4,7.324219e-4,9.765625e-4,9.765625e-4,9.765625e-4,7.324219e-4,7.324219e-4,9.765625e-4,9.765625e-4,9.765625e-4,9.765625e-4,9.765625e-4,0.001220703,9.765625e-4,0.001220703,0.001220703,9.765625e-4],"v7":0.001220703,"n7":6,"v8":[0.001464844,0.001464844,0.001464844,0.001464844,0.001464844,0.001708984,0.001464844,0.001708984,0.001708984,0.001464844,0.001708984,0.001708984,0.001708984,0.001708984,0.001708984,0.001953125,0.001708984,0.001953125,0.001953125,0.001953125,0.002197266,0.002197266,0.001953125],"v9":0.002197266,"n9":6,"v10":0.002441406,"n10":6,"v11":[0.002685547,0.002685547,0.002685547,0.002929688,0.002929688,0.002929688,0.002929688,0.003173828,0.003173828,0.003173828,0.003417969,0.003173828,0.003417969,0.003417969,0.003662109,0.003662109,0.003662109,0.003662109,0.00390625,0.00390625,0.00390625,0.00390625,0.004150391,0.004150391,0.004394531,0.004150391,0.004394531,0.004394531,0.004638672,0.004638672,0.004882812,0.004882812,0.004882812,0.005126953,0.005126953,0.005126953,0.005371094,0.005371094,0.005371094,0.005615234,0.005859375,0.005859375,0.005859375,0.006103516,0.006103516,0.006347656,0.006591797,0.006591797,0.006835938,0.006835938,0.007080078,0.006835938,0.007324219,0.007324219,0.007568359,0.0078125,0.0078125,0.0078125,0.008056641,0.008056641,0.008300781,0.008544922,0.008789062,0.008789062,0.008789062,0.009277344,0.009277344,0.009521484,0.009521484,0.009765625,0.01000977,0.01025391,0.01049805,0.01049805,0.01074219,0.01098633,0.01123047,0.01147461,0.01147461,0.01171875,0.01196289,0.01196289,0.01245117,0.01269531,0.01269531,0.01293945,0.01318359,0.01367188,0.01367188,0.01391602,0.01416016,0.01464844,0.01489258,0.01513672,0.01538086,0.015625,0.01586914,0.01611328,0.01635742,0.0168457,0.01708984,0.01733398,0.01757812,0.01806641,0.01831055,0.01855469,0.01879883,0.01928711,0.01953125,0.02001953,0.02026367,0.02075195,0.02099609,0.02124023,0.02172852,0.0222168,0.02246094,0.02294922,0.02319336,0.02392578,0.02416992,0.0246582,0.02490234,0.02563477,0.02587891,0.02636719,0.02685547,0.02734375,0.02783203,0.02832031,0.02880859,0.02905273,0.02978516,0.03027344,0.03076172,0.03125,0.03198242,0.03222656,0.03295898,0.03369141,0.03393555,0.03466797,0.03515625,0.03588867,0.03637695,0.03710938,0.03759766,0.03833008,0.0390625,0.03955078,0.0402832,0.04101562,0.04174805,0.04248047,0.04321289,0.04394531,0.04443359,0.04541016,0.04614258,0.046875,0.04760742,0.04858398,0.04907227,0.05004883,0.05078125,0.05151367,0.05249023,0.05322266,0.05444336,0.05517578,0.05615234,0.05712891,0.05786133,0.05908203,0.05981445,0.06079102,0.06201172,0.06274414,0.06396484,0.06494141,0.06591797,0.06713867,0.06811523,0.0690918,0.07055664,0.0715332,0.07275391,0.07397461,0.07519531,0.07641602,0.07739258,0.07885742,0.08007812,0.08129883,0.08276367,0.08422852,0.08544922,0.08666992,0.08813477,0.08959961,0.09082031,0.0925293,0.09399414,0.09545898,0.09692383,0.09838867,0.1000977,0.1015625,0.1030273,0.1049805,0.1064453,0.1081543,0.1098633,0.1115723,0.1135254,0.1152344,0.1169434,0.1188965,0.1206055,0.1225586,0.1242676,0.1264648,0.128418,0.1303711,0.1323242,0.1345215,0.1367188,0.1386719,0.1408691,0.1430664,0.1452637,0.1474609,0.1496582,0.1520996,0.154541,0.1567383,0.1591797,0.1616211,0.1640625,0.1665039,0.1689453,0.171875,0.1743164,0.177002,0.1796875,0.182373,0.1853027,0.1879883,0.190918,0.1938477,0.1967773,0.199707,0.2026367,0.2055664,0.2087402,0.2119141,0.2150879,0.2182617,0.2216797,0.2248535,0.2280273,0.2316895,0.2348633,0.2385254,0.2421875,0.2458496,0.2495117,0.2529297,0.2568359,0.2607422,0.2644043,0.2683105,0.2722168,0.276123,0.2802734,0.2844238,0.2885742,0.2927246,0.2971191,0.3012695,0.3056641,0.3100586,0.3146973,0.3193359,0.3239746,0.3283691,0.333252,0.3381348,0.3430176,0.3479004,0.3530273,0.3581543,0.3632812,0.3684082,0.3737793,0.3789062,0.3845215,0.3898926,0.3955078,0.401123,0.4067383,0.4125977,0.418457,0.4245605,0.4304199,0.4365234,0.442627,0.4487305,0.4550781,0.4614258,0.4680176,0.4746094,0.4812012,0.487793,0.4946289,0.5014648,0.5085449,0.515625,0.5227051,0.5300293,0.5373535,0.5449219,0.5524902,0.5600586,0.567627,0.5756836,0.5834961,0.5915527,0.5996094,0.607666,0.6159668,0.6245117,0.6330566,0.6416016,0.6503906,0.6591797,0.6682129,0.6772461,0.6865234,0.6955566,0.7053223,0.7145996,0.7243652,0.7341309,0.7438965,0.7539062,0.763916,0.7741699,0.7844238,0.7949219,0.8056641,0.8161621,0.8271484,0.8381348,0.8491211,0.8603516,0.871582,0.8833008,0.8947754,0.9067383,0.9187012,0.9306641,0.9428711,0.9553223,0.9675293,0.9804688,0.9931641,1.006104,1.019287,1.032471,1.045654,1.059326,1.072998,1.086914,1.10083,1.11499,1.129395,1.144043,1.158447,1.173584,1.188232,1.203613,1.218994,1.234619,1.250244,1.265869,1.282227,1.29834,1.314697,1.331299,1.348145,1.365234,1.382324,1.399658,1.417236,1.435059,1.453125,1.470947,1.489502,1.508057,1.526855,1.545898,1.564941,1.584473,1.60376,1.623779,1.643799,1.663818,1.68457,1.705078,1.726074,1.74707,1.768311,1.790039,1.811768,1.83374,1.856201,1.878662,1.901367,1.924316,1.947754,1.971191,1.995117,2.019043,2.043213,2.067627,2.092529,2.117676,2.142822,2.168457,2.194336,2.220215,2.246582,2.273193,2.300293,2.327148,2.354736,2.382568,2.410645,2.438721,2.467529,2.496338,2.525391,2.555176,2.584717,2.614746,2.645264,2.676025,2.706787,2.738281,2.77002,2.801758,2.833984,2.866699,2.899658,2.932861,2.966309,3.000488,3.034668,3.069092,3.104004,3.13916,3.175049,3.210938,3.24707,3.283691,3.320557,3.358154,3.395752,3.433838,3.472412,3.510986,3.550537,3.590088,3.629883,3.670166,3.710693,3.751953,3.793457,3.835205,3.877441,3.92041,3.963379,4.006836,4.050537,4.094971,4.139648,4.18457,4.230225,4.276123,4.32251,4.369385,4.416504,4.464355,4.512207,4.560791,4.609863,4.65918,4.708984,4.759277,4.810059,4.861328,4.913086,4.965332,5.017578,5.070801,5.124512,5.178223,5.23291,5.287842,5.343506,5.39917,5.455566,5.512695,5.570068,5.62793,5.686523,5.745361,5.804932,5.864746,5.925293,5.986328,6.047852,6.109619,6.172607,6.235596,6.299072,6.363281,6.427979,6.493164,6.559082,6.625488,6.692383,6.759766,6.827881,6.896484,6.965576,7.0354,7.105713,7.176758,7.247803,7.320068,7.392578,7.46582,7.539551,7.614258,7.689209,7.764893,7.841064,7.917725,7.995361,8.073242,8.1521,8.231201,8.311279,8.391602,8.4729,8.554932,8.637451,8.720459,8.803955,8.888428,8.973877,9.05957,9.145752,9.232666,9.320312,9.408936,9.497803,9.587646,9.677979,9.769043,9.860596,9.953125,10.04639,10.14014,10.23486,10.33008,10.42603,10.52246,10.61987,10.71777,10.81665,10.91602,11.01636,11.11719,11.21899,11.32153,11.42456,11.52832,11.63281,11.73828,11.84448,11.95142,12.05884,12.16724,12.27637,12.38623,12.49707,12.6084,12.72046,12.8335,12.94727,13.06177,13.177,13.29321,13.41016,13.52759,13.64624,13.76538,13.8855,14.00635,14.12793,14.25024,14.37354,14.49756,14.6228,14.74829,14.87476,15.00244,15.13037,15.25952,15.3894,15.52002,15.65161,15.78394,15.91699,16.05103,16.18579,16.32178,16.45825,16.5957,16.73413,16.87329,17.01318,17.15405,17.29565,17.43823,17.58179,17.72607,17.87134,18.01758,18.16455,18.31201,18.46094,18.6106,18.76099,18.91235,19.0647,19.21777,19.37158,19.52661,19.68237,19.83911,19.99683,20.15527,20.3147,20.4751,20.63647,20.79834,20.96143,21.12524,21.29028,21.45605,21.62256,21.79028,21.9585,22.12817,22.29834,22.46973,22.64185,22.81494,22.98901,23.16406,23.3396,23.51636,23.69409,23.8728,24.05249,24.23291,24.41406,24.59668,24.77979,24.96411,25.14917,25.33521,25.52222,25.71021,25.89893,26.08862,26.2793,26.47095,26.66357,26.85693,27.05151,27.24658,27.44312,27.64038,27.83838,28.03735,28.2373,28.43848,28.64014,28.84302,29.04663,29.25122,29.45679,29.66333,29.87061,30.0791,30.28833,30.49854,30.70972,30.92163,31.13452,31.34839,31.56323,31.77905,31.99561,32.21289,32.4314,32.65088,32.87085,33.09204,33.31396,33.53687,33.76099,33.9856,34.21143,34.43799,34.66528,34.89355,35.1228,35.35303,35.58374,35.81567,36.04858,36.28198,36.51685,36.75195,36.98828,37.22559,37.46338,37.70215,37.94189,38.18237,38.42407,38.66626,38.90942,39.15308,39.39795,39.64355,39.89014,40.13745,40.3855,40.63428,40.88403,41.13452,41.38599,41.63818,41.89136,42.14502,42.39966,42.65479,42.91089,43.16797,43.42578,43.68408,43.94336,44.20337,44.46411,44.72583,44.98804,45.25122,45.51489,45.7793,46.04468,46.31079,46.57715,46.84473,47.11279,47.38159,47.65112,47.92139,48.19214,48.46362,48.73608,49.00903,49.28271,49.55688,49.83179,50.10742,50.38354,50.6604,50.93774,51.21582,51.49463,51.77393,52.05396,52.33447,52.61548,52.89722,53.17969,53.46216,53.74561,54.02979,54.31421,54.59937,54.88477,55.1709,55.45776,55.74463,56.03247,56.32056,56.60913,56.89819,57.18799,57.47803,57.76855,58.05957,58.35083,58.64282,58.93506,59.22778,59.52075,59.81445,60.1084,60.40283,60.69727,60.99268,61.28784,61.5835,61.87964,62.17627,62.4729,62.77002,63.06738,63.36523,63.66309,63.96143,64.26001,64.55884,64.85791,65.15723,65.45679,65.75659,66.0564,66.35669,66.65723,66.95776,67.25854,67.55933,67.86035,68.16162,68.46313,68.7644,69.06616,69.36792,69.66992,69.97168,70.27368,70.57568,70.87769,71.17993,71.48218,71.78442,72.08667,72.38892,72.69116,72.99341,73.29541,73.59766,73.8999,74.2019,74.50391,74.80591,75.10767,75.40942,75.71094,76.01245,76.31372,76.61499,76.91602,77.2168,77.51758,77.81812,78.11841,78.41846,78.71826,79.01782,79.31738,79.61646,79.91528,80.21362,80.51196,80.81006,81.10767,81.40479,81.7019,81.99854,82.29468,82.59058,82.88623,83.18115,83.47583,83.77026,84.06396,84.35742,84.65015,84.94263,85.23462,85.52612,85.81714,86.10767,86.39746,86.68677,86.97559,87.26392,87.55151,87.83862,88.12524,88.41113,88.69629,88.98096,89.26489,89.5481,89.83081,90.11279,90.39404,90.67456,90.95435,91.2334,91.51172,91.78931,92.06616,92.34229,92.61743,92.89185,93.16528,93.43823,93.71021,93.98145,94.25146,94.52075,94.78931,95.05664,95.32349,95.58936,95.854,96.11768,96.38062,96.64258,96.90332,97.16333,97.42236,97.68018,97.93677,98.19263,98.44751,98.70117,98.95386,99.20532,99.45557,99.70508,99.95312,100.2002,100.446,100.6909,100.9343,101.1768,101.418,101.658,101.8965,102.1343,102.3704,102.6055,102.8394,103.0718,103.303,103.533,103.7615,103.989,104.2148,104.4395,104.6628,104.8848,105.1055,105.3247,105.5425,105.7588,105.9739,106.1875,106.3997,106.6101,106.8196,107.0273,107.2334,107.4382,107.6416,107.8435,108.0437,108.2427,108.4397,108.6355,108.8296,109.0222,109.2134,109.4028,109.5908,109.7769,109.9614,110.1445,110.3262,110.5059,110.6838,110.8604,111.0352,111.2085,111.3796,111.5496,111.7175,111.884,112.0486,112.2117,112.3728,112.5322,112.6899,112.8459,113,113.1526,113.3032,113.4519,113.5991,113.7444,113.8879,114.0293,114.1694,114.3074,114.4434,114.5776,114.7102,114.8408,114.9695,115.0964,115.2214,115.3447,115.4658,115.585,115.7026,115.8181,115.9316,116.0435,116.1531,116.261,116.3669,116.4707,116.5728,116.6726,116.771,116.8669,116.9612,117.0535,117.1436,117.2317,117.3181,117.4023,117.4844,117.5647,117.6431,117.7192,117.7935,117.8657,117.9358,118.0039,118.0698,118.134,118.1963,118.2561,118.3142,118.3701,118.4241,118.4758,118.5256,118.5735,118.6191,118.6628,118.7043,118.7437,118.7812,118.8167,118.8499,118.8811,118.9102,118.9373,118.9622,118.9851,119.0059,119.0247,119.0413,119.0559,119.0684,119.0789,119.0872,119.0935,119.0977,119.0999,119.0996,119.0977,119.0935,119.0872,119.0789,119.0686,119.0559,119.0413,119.0247,119.0059,118.9851,118.9622,118.9373,118.9102,118.8809,118.8496,118.8167,118.781,118.7439,118.7041,118.6626,118.6191,118.5732,118.5256,118.4758,118.4238,118.3701,118.3142,118.2561,118.1963,118.134,118.0701,118.0039,117.9358,117.8655,117.7932,117.7192,117.6428,117.5647,117.4844,117.4021,117.3179,117.2317,117.1436,117.0532,116.9612,116.8669,116.7708,116.6729,116.5728,116.4707,116.3667,116.261,116.1531,116.0435,115.9316,115.8181,115.7026,115.5852,115.4658,115.3447,115.2214,115.0964,114.9697,114.8408,114.7102,114.5779,114.4436,114.3071,114.1694,114.0295,113.8879,113.7444,113.5991,113.4521,113.303,113.1526,113,112.8459,112.6899,112.5322,112.3728,112.2117,112.0486,111.884,111.7175,111.5496,111.3796,111.2083,111.0352,110.8604,110.6841,110.5056,110.3259,110.1448,109.9617,109.7769,109.5908,109.4028,109.2134,109.0222,108.8298,108.6355,108.4399,108.2427,108.0437,107.8435,107.6416,107.4385,107.2334,107.0271,106.8193,106.6101,106.3997,106.1873,105.9739,105.7588,105.5425,105.3245,105.1055,104.8848,104.6628,104.4395,104.2148,103.989,103.7617,103.533,103.303,103.0718,102.8394,102.6055,102.3704,102.1343,101.8967,101.658,101.418,101.1768,100.9343,100.6909,100.446,100.2002,99.95337,99.70508,99.45581,99.20532,98.95386,98.70117,98.44751,98.19263,97.93701,97.67993,97.42212,97.16333,96.90332,96.64258,96.38062,96.11792,95.85376,95.58936,95.32349,95.05688,94.78931,94.521,94.25171,93.9812,93.71021,93.43823,93.16553,92.89185,92.61743,92.34204,92.06616,91.78955,91.51196,91.2334,90.95435,90.67456,90.39404,90.11279,89.83081,89.5481,89.26489,88.98096,88.69629,88.41113,88.12524,87.83862,87.55151,87.26392,86.97583,86.68677,86.39746,86.10742,85.81714,85.52612,85.23486,84.94287,84.65039,84.35742,84.06396,83.77002,83.47607,83.1814,82.88623,82.59058,82.29492,81.99854,81.7019,81.40503,81.10767,80.81006,80.51196,80.21387,79.91504,79.61646,79.31738,79.01782,78.71826,78.41846,78.11841,77.81787,77.51758,77.2168,76.91602,76.61499,76.31396,76.01245,75.71094,75.40942,75.10767,74.80591,74.50391,74.2019,73.8999,73.59766,73.29565,72.99341,72.69116,72.38892,72.08667,71.78442,71.48218,71.17993,70.87793,70.57568,70.27368,69.97168,69.66968,69.36792,69.06616,68.76465,68.46289,68.16187,67.8606,67.55933,67.25854,66.95752,66.65698,66.35669,66.0564,65.75659,65.45654,65.15723,64.85791,64.55884,64.26001,63.96167,63.66309,63.36523,63.06763,62.77002,62.4729,62.17627,61.87988,61.58374,61.28784,60.99243,60.69727,60.40259,60.1084,59.81445,59.521,59.22803,58.93506,58.64282,58.35083,58.05957,57.76855,57.47803,57.18774,56.89844,56.60913,56.32056,56.03247,55.74487,55.45776,55.1709,54.88477,54.59937,54.31421,54.02954,53.74585,53.4624,53.17969,52.89722,52.61548,52.33423,52.05371,51.77393,51.49463,51.21582,50.93799,50.6604,50.38354,50.10742,49.83179,49.55688,49.28247,49.00903,48.73608,48.46387,48.19214,47.92139,47.65112,47.38159,47.11255,46.84473,46.57715,46.31055,46.04443,45.7793,45.51489,45.25122,44.98804,44.72583,44.46411,44.20361,43.94336,43.68408,43.42554,43.16797,42.91089,42.65479,42.39941,42.14502,41.89111,41.63818,41.38599,41.13452,40.88403,40.63428,40.38525,40.13745,39.89014,39.64355,39.39795,39.15308,38.90918,38.66602,38.42383,38.18262,37.94189,37.70239,37.46338,37.22534,36.98828,36.75195,36.5166,36.28223,36.04858,35.81592,35.58398,35.35278,35.1228,34.8938,34.66528,34.43774,34.21143,33.98584,33.76074,33.53711,33.31396,33.09204,32.87085,32.65063,32.4314,32.21313,31.99536,31.77881,31.56323,31.34839,31.13452,30.92163,30.70972,30.49854,30.28833,30.0791,29.87085,29.66333,29.45679,29.25146,29.04663,28.84302,28.64014,28.43823,28.2373,28.0376,27.83838,27.64014,27.44312,27.24683,27.05127,26.85693,26.66357,26.47095,26.2793,26.08887,25.89893,25.70996,25.52222,25.33521,25.14893,24.96387,24.78003,24.59668,24.41431,24.23291,24.05225,23.8728,23.69409,23.5166,23.3396,23.16382,22.98901,22.81494,22.64185,22.46973,22.29834,22.12817,21.95874,21.79028,21.6228,21.45605,21.29028,21.12549,20.96143,20.79834,20.63647,20.4751,20.3147,20.15552,19.99683,19.83911,19.68262,19.52686,19.37183,19.21777,19.06445,18.91235,18.76099,18.6106,18.46094,18.31226,18.16431,18.01733,17.87134,17.72607,17.58179,17.43848,17.2959,17.15381,17.01318,16.87329,16.73389,16.5957,16.45825,16.32178,16.18604,16.05103,15.91699,15.78394,15.65161,15.52002,15.3894,15.25952,15.13037,15.0022,14.875,14.74829,14.62256,14.4978,14.37378,14.25049,14.12793,14.0061,13.8855,13.76538,13.646,13.52783,13.41016,13.29321,13.177,13.06177,12.94727,12.8335,12.72046,12.6084,12.49683,12.38623,12.27637,12.16724,12.05884,11.95142,11.84448,11.73853,11.63281,11.52856,11.42456,11.32153,11.21899,11.11743,11.01636,10.91602,10.81665,10.71777,10.61987,10.52246,10.42578,10.32983,10.23462,10.14014,10.04639,9.953125,9.86084,9.769043,9.677979,9.587646,9.497803,9.408691,9.320557,9.23291,9.145508,9.059326,8.973633,8.888428,8.804199,8.720215,8.637451,8.554932,8.4729,8.391846,8.311279,8.231201,8.1521,8.073242,7.995361,7.917969,7.84082,7.764893,7.689209,7.614258,7.539795,7.46582,7.392822,7.320068,7.247803,7.176514,7.105713,7.0354,6.965576,6.896484,6.827881,6.759766,6.692383,6.625488,6.559082,6.493164,6.427979,6.363281,6.299072,6.235596,6.172607,6.109619,6.047852,5.986328,5.925293,5.864746,5.804932,5.745361,5.686279,5.62793,5.570068,5.512451,5.455811,5.399414,5.343506,5.287842,5.23291,5.178467,5.124512,5.070801,5.017822,4.965088,4.912842,4.861328,4.810303,4.759277,4.708984,4.65918,4.609863,4.560791,4.512207,4.464111,4.416504,4.369385,4.32251,4.276123,4.230469,4.18457,4.139648,4.094971,4.050781,4.006836,3.963379,3.920166,3.877686,3.835449,3.793457,3.751953,3.710693,3.670166,3.629883,3.589844,3.550537,3.510986,3.472412,3.433838,3.395752,3.358154,3.320801,3.283691,3.24707,3.210693,3.174805,3.139404,3.104004,3.069336,3.034668,3.000488,2.966309,2.932861,2.899658,2.866699,2.833984,2.802002,2.77002,2.738281,2.707031,2.676025,2.645264,2.61499,2.584717,2.555176,2.525635,2.496338,2.467285,2.438965,2.4104,2.382568,2.354736,2.327393,2.300049,2.273193,2.246582,2.220215,2.194092,2.168213,2.142822,2.117676,2.092529,2.067627,2.043213,2.019043,1.995117,1.971191,1.947754,1.924316,1.901367,1.878662,1.856201,1.83374,1.812012,1.790039,1.768555,1.74707,1.726074,1.705078,1.68457,1.664062,1.643799,1.623779,1.60376,1.584229,1.564941,1.545898,1.526855,1.508057,1.489502,1.470947,1.452881,1.435059,1.41748,1.399902,1.382568,1.36499,1.348145,1.331299,1.314941,1.29834,1.282227,1.266113,1.250244,1.234375,1.218994,1.203613,1.188477,1.17334,1.158447,1.143799,1.129395,1.11499,1.101074,1.086914,1.072998,1.059326,1.045898,1.032227,1.019287,1.006104,0.9929199,0.9804688,0.9677734,0.9553223,0.9428711,0.9306641,0.918457,0.9067383,0.8950195,0.8833008,0.8718262,0.8603516,0.8491211,0.8378906,0.8271484,0.8161621,0.8056641,0.7949219,0.7844238,0.7741699,0.763916,0.7539062,0.7436523,0.7338867,0.7241211,0.7145996,0.7050781,0.6955566,0.6862793,0.6772461,0.6682129,0.6591797,0.6503906,0.6418457,0.6330566,0.6245117,0.6162109,0.6079102,0.5996094,0.5915527,0.583252,0.5756836,0.567627,0.5600586,0.5522461,0.5446777,0.5373535,0.5300293,0.5229492,0.515625,0.5085449,0.501709,0.4946289,0.4880371,0.4812012,0.4746094,0.4677734,0.4614258,0.4550781,0.4489746,0.442627,0.4362793,0.4304199,0.4243164,0.418457,0.4125977,0.4067383,0.401123,0.3955078,0.3898926,0.3845215,0.3789062,0.3737793,0.3684082,0.3630371,0.3581543,0.3530273,0.3481445,0.3430176,0.3381348,0.333252,0.3286133,0.3237305,0.3193359,0.3146973,0.3100586,0.3059082,0.3012695,0.2971191,0.2927246,0.2885742,0.2844238,0.2802734,0.276123,0.2722168,0.2683105,0.2644043,0.2607422,0.2568359,0.2529297,0.2492676,0.2458496,0.2421875,0.2385254,0.2351074,0.2316895,0.2280273,0.2248535,0.2216797,0.2185059,0.2150879,0.2119141,0.2087402,0.2055664,0.2026367,0.199707,0.1965332,0.1936035,0.1906738,0.1877441,0.1850586,0.182373,0.1796875,0.177002,0.1743164,0.1716309,0.1691895,0.166748,0.1640625,0.1616211,0.1591797,0.1567383,0.1542969,0.1520996,0.1496582,0.1474609,0.1452637,0.1430664,0.1408691,0.1386719,0.1364746,0.1345215,0.1325684,0.1303711,0.1281738,0.1264648,0.1245117,0.1225586,0.1206055,0.1188965,0.1169434,0.1152344,0.1132812,0.1115723,0.1098633,0.1081543,0.1064453,0.1047363,0.1032715,0.1015625,0.1000977,0.09838867,0.09692383,0.09545898,0.09399414,0.0925293,0.09106445,0.08959961,0.08813477,0.08691406,0.08544922,0.08422852,0.08276367,0.08129883,0.08007812,0.07885742,0.07763672,0.07641602,0.07495117,0.07397461,0.07275391,0.07177734,0.0703125,0.06933594,0.06835938,0.06713867,0.06616211,0.06494141,0.06396484,0.06298828,0.06176758,0.06103516,0.05981445,0.05908203,0.05786133,0.05712891,0.0559082,0.05517578,0.05419922,0.0534668,0.05249023,0.05175781,0.05078125,0.05004883,0.04907227,0.04858398,0.04760742,0.04663086,0.04614258,0.04516602,0.04467773,0.04370117,0.04321289,0.04223633,0.04174805,0.04101562,0.0402832,0.03955078,0.03881836,0.03833008,0.03759766,0.03710938,0.03637695,0.03588867,0.03515625,0.03466797,0.03393555,0.03344727,0.03295898,0.03222656,0.03198242,0.03125,0.03076172,0.03027344,0.02978516,0.02929688,0.02856445,0.02832031,0.02783203,0.02734375,0.02685547,0.02636719,0.02600098,0.02539062,0.02502441,0.0246582,0.02416992,0.02380371,0.0234375,0.02294922,0.02258301,0.0222168,0.02185059,0.02148438,0.02111816,0.02075195,0.02026367,0.02001953,0.01965332,0.01928711,0.01904297,0.01855469,0.01831055,0.01806641,0.0177002,0.01733398,0.01708984,0.01672363,0.01647949,0.01611328,0.01599121,0.015625,0.01538086,0.01513672,0.01477051,0.01464844,0.01428223,0.01403809,0.01379395,0.0135498,0.01330566,0.01306152,0.01281738,0.01257324,0.01245117,0.01208496,0.01196289,0.01184082,0.01147461,0.01135254,0.0111084,0.01086426,0.01074219,0.01062012,0.01037598,0.01025391,0.01000977,0.009887695,0.009643555,0.009521484,0.009399414,0.009155273,0.008911133,0.008789062,0.008666992,0.008544922,0.008300781,0.008178711,0.008056641,0.0078125,0.00769043,0.007568359,0.007446289,0.007324219,0.007202148,0.007080078,0.006958008,0.006835938,0.006713867,0.006591797,0.006469727,0.006347656,0.006225586,0.006103516,0.005981445,0.005859375,0.005737305,0.005615234,0.005615234,0.005493164,0.005371094,0.005249023,0.005126953,0.005126953,0.004882812,0.004882812,0.004760742,0.004638672,0.004516602,0.004516602,0.004394531,0.004272461,0.004272461,0.004150391,0.004150391,0.00402832,0.00402832,0.00378418,0.00378418,0.003662109,0.003662109,0.003540039,0.003540039,0.003540039,0.003417969,0.003295898,0.003173828,0.003173828,0.003173828,0.003173828,0.003051758,0.002929688,0.002929688,0.002807617,0.002807617,0.002685547,0.002685547,0.002563477,0.002563477,0.002563477,0.002563477,0.002441406,0.002441406,0.002319336,0.002319336,0.002197266,0.002197266,0.002197266,0.002075195,0.002075195,0.002075195,0.002075195,0.001953125,0.001953125,0.001831055,0.001831055,0.001831055,0.001831055,0.001708984,0.001708984,0.001708984,0.001708984,0.001586914,0.001586914,0.001586914,0.001464844,0.001464844,0.001464844,0.001342773,0.001464844,0.001464844,0.001342773,0.001342773,0.001220703,0.001220703,0.001220703,0.001220703,0.001220703,0.001098633,0.001098633,0.001098633,0.001098633,9.765625e-4,9.765625e-4,0.001098633,9.765625e-4,9.765625e-4,9.765625e-4,9.765625e-4,9.765625e-4,8.544922e-4,8.544922e-4,9.765625e-4,8.544922e-4,8.544922e-4,8.544922e-4,8.544922e-4],"v12":7.324219e-4,"n12":8,"v13":[6.103516e-4,7.324219e-4],"v14":6.103516e-4,"n14":7,"v15":[4.882812e-4,4.882812e-4,4.882812e-4,6.103516e-4,4.882812e-4,4.882812e-4,4.882812e-4,4.882812e-4,4.882812e-4,3.662109e-4,4.882812e-4,4.882812e-4,4.882812e-4,3.662109e-4,3.662109e-4,3.662109e-4,4.882812e-4,3.662109e-4,3.662109e-4,4.882812e-4,3.662109e-4,3.662109e-4,2.441406e-4,3.662109e-4,3.662109e-4,2.441406e-4,3.662109e-4,3.662109e-4,2.441406e-4,3.662109e-4,3.662109e-4,3.662109e-4,2.441406e-4,2.441406e-4,3.662109e-4],"v16":2.441406e-4,"n16":8,"v17":[1.220703e-4,2.441406e-4,2.441406e-4,2.441406e-4,1.220703e-4,1.220703e-4,2.441406e-4,2.441406e-4,2.441406e-4,2.441406e-4,1.220703e-4,2.441406e-4,1.220703e-4,1.220703e-4,2.441406e-4,2.441406e-4,2.441406e-4],"v18":1.220703e-4,"n18":10,"v19":2.441406e-4,"v20":1.220703e-4,"n20":7,"p21":3263,"v21":[1.220703e-4,0],"v22":1.220703e-4,"n22":10,"p23":3277,"v23":[1.220703e-4,1.220703e-4,1.220703e-4,1.220703e-4,1.220703e-4,0,1.220703e-4,0,0,0,1.220703e-4,1.220703e-4,0,0,0,0,0,0,0,0,0,1.220703e-4,0,1.220703e-4,0,0,0,0,0,0,1.220703e-4,1.220703e-4,1.220703e-4,0,1.220703e-4,0,0,0,0,0,0,1.220703e-4,0,1.220703e-4,0,1.220703e-4,0,1.220703e-4,0,0,0,0,1.220703e-4,1.220703e-4,0,0,1.220703e-4,1.220703e-4,0,0,0,0,1.220703e-4,1.220703e-4,0,0,0,0,0,0,1.220703e-4,0,0,0,0,0,0,0,0,1.220703e-4],"p24":3369,"v24":[1.220703e-4,0,0,0,1.220703e-4],"p25":3403,"v25":1.220703e-4,"p26":3443,"v26":1.220703e-4,"p27":3468,"v27":1.220703e-4}},{"_typename":"TH1D","fUniqueID":0,"fBits":520,"fName":"data","fTitle":"","fLineColor":1,"fLineStyle":1,"fLineWidth":2,"fFillColor":0,"fFillStyle":1001,"fMarkerColor":1,"fMarkerStyle":20,"fMarkerSize":1.2,"fNcells":32,"fXaxis":{"_typename":"TAxis","fUniqueID":0,"fBits":0,"fName":"xaxis","fTitle":" m_{#gamma#gamma} [GeV]","fNdivisions":510,"fAxisColor":1,"fLabelColor":1,"fLabelFont":42,"fLabelOffset":0.005,"fLabelSize":0.035,"fTickLength":0.03,"fTitleOffset":1,"fTitleSize":0.035,"fTitleColor":1,"fTitleFont":42,"fNbins":30,"fXmin":105,"fXmax":160,"fXbins":[],"fFirst":0,"fLast":0,"fBits2":0,"fTimeDisplay":false,"fTimeFormat":"","fLabels":null,"fModLabs":null},"fYaxis":{"_typename":"TAxis","fUniqueID":0,"fBits":0,"fName":"yaxis","fTitle":"Events \/ bin","fNdivisions":510,"fAxisColor":1,"fLabelColor":1,"fLabelFont":42,"fLabelOffset":0.005,"fLabelSize":0.035,"fTickLength":0.03,"fTitleOffset":0,"fTitleSize":0.035,"fTitleColor":1,"fTitleFont":42,"fNbins":1,"fXmin":0,"fXmax":1,"fXbins":[],"fFirst":0,"fLast":0,"fBits2":0,"fTimeDisplay":false,"fTimeFormat":"","fLabels":null,"fModLabs":null},"fZaxis":{"_typename":"TAxis","fUniqueID":0,"fBits":0,"fName":"zaxis","fTitle":"","fNdivisions":510,"fAxisColor":1,"fLabelColor":1,"fLabelFont":42,"fLabelOffset":0.005,"fLabelSize":0.035,"fTickLength":0.03,"fTitleOffset":1,"fTitleSize":0.035,"fTitleColor":1,"fTitleFont":42,"fNbins":1,"fXmin":0,"fXmax":1,"fXbins":[],"fFirst":0,"fLast":0,"fBits2":0,"fTimeDisplay":false,"fTimeFormat":"","fLabels":null,"fModLabs":null},"fBarOffset":0,"fBarWidth":1000,"fEntries":76394,"fTsumw":0,"fTsumw2":0,"fTsumwx":0,"fTsumwx2":0,"fMaximum":-1111,"fMinimum":-1111,"fNormFactor":0,"fContour":[],"fSumw2":{"$arr":"Float64","len":32,"p":1,"v":[5391,4944,4715,4287,4123,3864,3586,3382,3181,3076,2970,2730,2596,2371,2227,2136,2075,1886,1769,1795,1719,1623,1505,1407,1288,1317,1216,1148,1064,14.2564321252867]},"fOption":"","fFunctions":{"_typename":"TList","name":"TList","arr":[{"_typename":"TF1","fUniqueID":0,"fBits":1024,"fName":"fit","fTitle":"([0]+[1]*x+[2]*x^2+[3]*x^3)+[4]*exp(-0.5*((x-[5])\/[6])^2)","fLineColor":2,"fLineStyle":1,"fLineWidth":2,"fFillColor":19,"fFillStyle":0,"fMarkerColor":1,"fMarkerStyle":20,"fMarkerSize":1.2,"fXmin":105,"fXmax":160,"fNpar":7,"fNdim":1,"fNpx":100,"fType":0,"fNpfits":30,"fNDF":26,"fChisquare":19.9698714122389,"fMinimum":-1111,"fMaximum":-1111,"fParErrors":{"$arr":"Float64","len":7,"v":[72.0492809363188,0.77812881971233,0.00536067128612383,2.66825081041491e-5]},"fParMin":{"$arr":"Float64","len":7,"p":4,"v":[119.1,125,2.39]},"fParMax":{"$arr":"Float64","len":7,"p":4,"v":[119.1,125,2.39]},"fSave":{"$arr":"Float64","len":103,"v":[5504.10869809532,5396.7248000327,5291.42538782041,5188.18487816985,5086.97768779243,4987.77823339994,4890.56093170515,4795.30019942674,4701.9704533077,4610.54611019157,4521.00158731077,4433.31130331712,4347.44968174724,4263.39116197294,4181.11023168338,4100.58151720186,4021.78001845617,3944.68167966904,3869.26467958375,3795.5121361879,3723.41733596263,3652.9929854154,3584.28600652636,3517.39847725076,3452.5127616984,3389.91430813244,3329.99967554925,3273.25245760803,3220.16998449029,3171.13334292689,3126.23401668412,3085.09801665677,3046.7713834084,3009.73438848532,2972.0849003216,2931.87655547771,2887.53349247598,2838.21962451624,2784.04147208333,2726.01468971882,2665.80595929194,2605.33831511089,2546.38637000016,2490.27518099871,2437.74428094857,2388.97431060108,2343.72528349915,2301.51736929947,2261.79528068182,2224.04305366634,2187.84257001479,2152.88703164707,2118.96733838709,2085.94767757116,2053.74111732966,2022.29029153235,1991.55423883514,1961.5004095458,1932.10026000483,1903.32702505041,1875.15467756765,1847.55747733772,1820.50978878285,1793.98601218449,1767.96055938299,1742.40784572617,1717.30228756513,1692.61830152111,1668.33030428437,1644.41271256148,1620.83994306279,1597.58641249952,1574.62653758297,1551.93473502457,1529.48542153559,1507.25301382745,1485.21192861161,1463.33658259938,1441.6013925022,1419.98077503128,1398.4491468982,1376.98092481415,1355.55052549072,1334.13236563905,1312.7008619707,1291.23043119695,1269.69549002926,1248.07045517889,1226.3297433573,1204.44777127591,1182.398955646,1160.15771317897,1137.69846058622,1114.99561457914,1092.02359186906,1068.75680916735,1045.16968318546,1021.23663063471,996.932068226524,972.230412672216,947.106080683254,105,160]},"fNormalized":false,"fNormIntegral":0,"fFormula":{"_typename":"TFormula","fUniqueID":0,"fBits":1024,"fName":"fit","fTitle":"([0]+[1]*x+[2]*x^2+[3]*x^3)+[4]*exp(-0.5*((x-[5])\/[6])^2)","fClingParameters":{"$arr":"Float64","len":7,"v":[94325.1322027807,-1777.22529590735,11.560581012309,-0.0256281378642656,119.1,125,2.39]},"fAllParametersSetted":true,"fParams":[{"$pair":"pair<TString,int,TFormulaParamOrder>","first":"p0","second":0},{"$pair":"pair<TString,int,TFormulaParamOrder>","first":"p1","second":1},{"$pair":"pair<TString,int,TFormulaParamOrder>","first":"p2","second":2},{"$pair":"pair<TString,int,TFormulaParamOrder>","first":"p3","second":3},{"$pair":"pair<TString,int,TFormulaParamOrder>","first":"p4","second":4},{"$pair":"pair<TString,int,TFormulaParamOrder>","first":"p5","second":5},{"$pair":"pair<TString,int,TFormulaParamOrder>","first":"p6","second":6}],"fFormula":"([p0]+[p1]*x+[p2]*pow(x,2)+[p3]*pow(x,3))+[p4]*exp(-0.5*pow(((x-[p5])\/[p6]),2))","fNdim":1,"fLinearParts":[],"fVectorized":false},"fParams":null,"fComposition":null}],"opt":[""]},"fBufferSize":0,"fBuffer":[],"fBinStatErrOpt":0,"fStatOverflows":2,"fArray":{"$arr":"Float64","len":32,"p":1,"v":[64.7048384324189,-43.7782333993564,43.7147759261061,-88.8686043829512,22.4191548817398,19.5255829284215,-20.6017910345981,-4.01543779912026,-0.767828156807809,83.0885671004798,151.501277181073,72.4178312932709,86.7857586452592,-1.44741155463271,-19.3341500982351,6.07307222278178,52.7217846166386,-36.4404837083275,-60.4662035439105,52.5921543180448,58.6821190859628,40.7512199680059,-2.25301382748876,-27.3830530923151,-74.6913686182234,25.7695688030071,-3.05271162028657,2.7893193201744,-4.75680916734564,14.2564321252867]}}],"opt":["","","E SAME"]},"fExecs":{"_typename":"TList","name":"TList","arr":[],"opt":[]},"fName":"lower_pad","fTitle":"","fNumPaletteColor":0,"fNextPaletteColor":0},{"_typename":"TStyle","fUniqueID":0,"fBits":0,"fName":"Modern","fTitle":"Modern Style","fLineColor":1,"fLineStyle":1,"fLineWidth":1,"fFillColor":19,"fFillStyle":1001,"fMarkerColor":1,"fMarkerStyle":20,"fMarkerSize":1.2,"fTextAngle":0,"fTextSize":0.05,"fTextAlign":11,"fTextColor":1,"fTextFont":62,"fXaxis":{"_typename":"TAttAxis","fNdivisions":510,"fAxisColor":1,"fLabelColor":1,"fLabelFont":42,"fLabelOffset":0.005,"fLabelSize":0.08,"fTickLength":0.03,"fTitleOffset":1,"fTitleSize":0.08,"fTitleColor":1,"fTitleFont":42},"fYaxis":{"_typename":"TAttAxis","fNdivisions":510,"fAxisColor":1,"fLabelColor":1,"fLabelFont":42,"fLabelOffset":0.005,"fLabelSize":0.08,"fTickLength":0.03,"fTitleOffset":0,"fTitleSize":0.08,"fTitleColor":1,"fTitleFont":42},"fZaxis":{"_typename":"TAttAxis","fNdivisions":510,"fAxisColor":1,"fLabelColor":1,"fLabelFont":42,"fLabelOffset":0.005,"fLabelSize":0.035,"fTickLength":0.03,"fTitleOffset":1,"fTitleSize":0.035,"fTitleColor":1,"fTitleFont":42},"fBarWidth":1,"fBarOffset":0,"fColorModelPS":0,"fDrawBorder":0,"fOptLogx":0,"fOptLogy":0,"fOptLogz":0,"fOptDate":0,"fOptStat":0,"fOptTitle":0,"fOptFile":0,"fOptFit":0,"fShowEventStatus":0,"fShowEditor":0,"fShowToolBar":0,"fNumberContours":20,"fAttDate":{"_typename":"TAttText","fTextAngle":0,"fTextSize":0.025,"fTextAlign":11,"fTextColor":1,"fTextFont":62},"fDateX":0.01,"fDateY":0.01,"fEndErrorSize":2,"fErrorX":0.5,"fFuncColor":2,"fFuncStyle":1,"fFuncWidth":2,"fGridColor":0,"fGridStyle":3,"fGridWidth":1,"fLegendBorderSize":1,"fLegendFillColor":0,"fLegendFont":42,"fLegendTextSize":0,"fHatchesLineWidth":1,"fHatchesSpacing":1,"fFrameFillColor":0,"fFrameLineColor":1,"fFrameFillStyle":1001,"fFrameLineStyle":1,"fFrameLineWidth":1,"fFrameBorderSize":1,"fFrameBorderMode":0,"fHistFillColor":0,"fHistLineColor":602,"fHistFillStyle":1001,"fHistLineStyle":1,"fHistLineWidth":1,"fHistMinimumZero":false,"fHistTopMargin":0.05,"fCanvasPreferGL":false,"fCanvasColor":0,"fCanvasBorderSize":2,"fCanvasBorderMode":0,"fCanvasDefH":500,"fCanvasDefW":700,"fCanvasDefX":10,"fCanvasDefY":10,"fPadColor":0,"fPadBorderSize":2,"fPadBorderMode":0,"fPadBottomMargin":0.1,"fPadTopMargin":0.1,"fPadLeftMargin":0.1,"fPadRightMargin":0.1,"fPadGridX":false,"fPadGridY":false,"fPadTickX":0,"fPadTickY":0,"fPaperSizeX":20,"fPaperSizeY":26,"fScreenFactor":1,"fStatColor":0,"fStatTextColor":1,"fStatBorderSize":1,"fStatFont":42,"fStatFontSize":0,"fStatStyle":1001,"fStatFormat":"6.4g","fStatX":0.98,"fStatY":0.935,"fStatW":0.2,"fStatH":0.16,"fStripDecimals":true,"fTitleAlign":23,"fTitleColor":0,"fTitleTextColor":1,"fTitleBorderSize":0,"fTitleFont":42,"fTitleFontSize":0.05,"fTitleStyle":0,"fTitleX":0.5,"fTitleY":0.995,"fTitleW":0,"fTitleH":0,"fLegoInnerR":0.5,"fLineStyles":["","  "," 12 12"," 4 8"," 12 16 4 16"," 20 12 4 12"," 20 12 4 12 4 12 4 12"," 20 20"," 20 12 4 12 4 12"," 80 20"," 80 40 4 40","  ","  ","  ","  ","  ","  ","  ","  ","  ","  ","  ","  ","  ","  ","  ","  ","  ","  ","  "],"fHeaderPS":"","fTitlePS":"","fFitFormat":"5.4g","fPaintTextFormat":"g","fLineScalePS":3,"fJoinLinePS":0,"fCapLinePS":0,"fTimeOffset":788918400,"fImageScaling":1}],"opt":["","",""]},"fExecs":null,"fName":"c","fTitle":"","fNumPaletteColor":0,"fNextPaletteColor":0,"fDISPLAY":"$DISPLAY","fDoubleBuffer":0,"fRetained":true,"fXsizeUser":0,"fYsizeUser":0,"fXsizeReal":18.66667,"fYsizeReal":20,"fWindowTopX":0,"fWindowTopY":0,"fWindowWidth":0,"fWindowHeight":0,"fCw":696,"fCh":722,"fCatt":{"_typename":"TAttCanvas","fXBetween":2,"fYBetween":2,"fTitleFromTop":1.2,"fXdate":0.2,"fYdate":0.3,"fAdate":1},"kMoveOpaque":true,"kResizeOpaque":true,"fHighLightColor":2,"fBatch":true,"kShowEventStatus":false,"kAutoExec":true,"kMenuBar":true});
   Core.settings.HandleKeys = false;
   Core.draw("root_plot_1659002240121", obj, "");
}

function script_load_root_plot_1659002240121(src, on_error) {
    let script = document.createElement('script');
    script.src = src;
    script.onload = function() { display_root_plot_1659002240121(JSROOT); };
    script.onerror = function() { script.remove(); on_error(); };
    document.head.appendChild(script);
}

if (typeof requirejs !== 'undefined') {

    // We are in jupyter notebooks, use require.js which should be configured already
    requirejs.config({
       paths: { 'JSRootCore' : [ 'scripts/JSRoot.core', 'https://root.cern/js/6.1.1/scripts/JSRoot.core.min', 'https://jsroot.gsi.de/6.1.1/scripts/JSRoot.core.min' ] }
    })(['JSRootCore'],  function(Core) {
       display_root_plot_1659002240121(Core);
    });

} else if (typeof JSROOT !== 'undefined') {

   // JSROOT already loaded, just use it
   display_root_plot_1659002240121(JSROOT);

} else {

    // We are in jupyterlab without require.js, directly loading jsroot
    // Jupyterlab might be installed in a different base_url so we need to know it.
    try {
        var base_url = JSON.parse(document.getElementById('jupyter-config-data').innerHTML).baseUrl;
    } catch(_) {
        var base_url = '/';
    }

    // Try loading a local version of requirejs and fallback to cdn if not possible.
    script_load_root_plot_1659002240121(base_url + 'static/scripts/JSRoot.core.js', function(){
        console.error('Fail to load JSROOT locally, please check your jupyter_notebook_config.py file');
        script_load_root_plot_1659002240121('https://root.cern/js/6.1.1/scripts/JSRoot.core.min.js', function(){
            document.getElementById("root_plot_1659002240121").innerHTML = "Failed to load JSROOT";
        });
    });
}

</script>

</div>

</div>

</div>
</div>

</div>
<div class="cell border-box-sizing code_cell rendered">
<div class="input">
<div class="prompt input_prompt">In&nbsp;[&nbsp;]:</div>
<div class="inner_cell">
    <div class="input_area">
<div class=" highlight hl-ipython3"><pre><span></span> 
</pre></div>

    </div>
</div>
</div>

</div>
 


    </div>
  </div>

  </div>


  
    <footer class="footer hidden-print">
      <div class="container">
        <div class="col-md-4">
          <p>
            This website does not host notebooks, it only renders notebooks
            available on other websites.
          </p>
        </div>

        <div class="col-md-4">
          <p>
            Delivered by <a href="https://www.fastly.com/">Fastly</a>,
            Rendered by <a href="https://ovhcloud.com">OVHcloud</a>
          </p>
          <p>
            nbviewer GitHub <a href="https://github.com/jupyter/nbviewer">repository</a>.
          </p>
        </div>

        <div class="col-md-4">
          
  
            
              <p>
                nbviewer version:
                <a href="https://github.com/jupyter/nbviewer/commit/d25d3c39c10d5f6b9891eba2503f30689c1aae28">
                  d25d3c3
                </a>
              </p>
            
          
  
  <p>
    nbconvert version: <a href="https://github.com/jupyter/nbconvert/releases/tag/5.6.1">
      5.6.1
    </a>
  </p>
  

          
  
  
  <p>
    Rendered
    <span class='date' data-date='Wed, 10 Aug 2022 16:02:46 UTC' title='Wed, 10 Aug 2022 16:02:46 UTC'>(Wed, 10 Aug 2022 16:02:46 UTC)</span>
  </p>
  

        </div>
      </div>
    </footer>
  

  <script src="/static/components/bootstrap/js/bootstrap.min.js"></script>
  <script src="/static/components/headroom.js/dist/headroom.min.js"></script>
  <script src="/static/components/headroom.js/dist/jQuery.headroom.min.js"></script>

  
  
  <script>
    $(function(){ $("#menubar").headroom({
      tolerance: 5,
      offset: 205,
      classes: {
        initial: "animated",
        pinned: "slideInDown",
        unpinned: "slideOutUp"
      }
    })});
  </script>


  
  <script>
    (function(i,s,o,g,r,a,m){i['GoogleAnalyticsObject']=r;i[r]=i[r]||function(){
      (i[r].q=i[r].q||[]).push(arguments)},i[r].l=1*new Date();a=s.createElement(o),
      m=s.getElementsByTagName(o)[0];a.async=1;a.src=g;m.parentNode.insertBefore(a,m)
    })(window,document,'script','https://www.google-analytics.com/analytics.js','ga');
    ga('create', 'UA-52617120-5', 'auto',
       {'storage': 'none'});
    ga('set', 'anonymizeIp', true);
    ga('send', 'pageview');
  </script>
  
  <script>
    require({
        paths: {
          moment: "/static/components/moment/min/moment.min.js"
        }
      }, ["moment"], function(moment){
      var date = $("footer .date"),
        m = moment(new Date(date.data('date'))),
        update = function(){ date.text(m.fromNow()); };
      setInterval(update, 61*1000);
      update();
      var w = $(window).scroll(function(event){
        $("body").toggleClass("scrolled", w.scrollTop() > 0);
      });
    });
  </script>

  <!--NEW RELIC Stop Perf Measurement-->
  
  <!--NEW RELIC End-->
</body>
</html>